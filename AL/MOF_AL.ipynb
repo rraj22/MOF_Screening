{
  "cells": [
    {
      "cell_type": "code",
      "execution_count": 1,
      "metadata": {
        "colab": {
          "base_uri": "https://localhost:8080/"
        },
        "id": "Y7eaENsokOSz",
        "outputId": "8b216b73-5631-4018-a90f-3a18b4e81ede"
      },
      "outputs": [
        {
          "output_type": "stream",
          "name": "stdout",
          "text": [
            "Collecting botorch\n",
            "  Downloading botorch-0.11.1-py3-none-any.whl (629 kB)\n",
            "\u001b[2K     \u001b[90m━━━━━━━━━━━━━━━━━━━━━━━━━━━━━━━━━━━━━━━━\u001b[0m \u001b[32m629.6/629.6 kB\u001b[0m \u001b[31m6.2 MB/s\u001b[0m eta \u001b[36m0:00:00\u001b[0m\n",
            "\u001b[?25hRequirement already satisfied: torch in /usr/local/lib/python3.10/dist-packages (2.3.0+cu121)\n",
            "Collecting gpytorch\n",
            "  Downloading gpytorch-1.12-py3-none-any.whl (274 kB)\n",
            "\u001b[2K     \u001b[90m━━━━━━━━━━━━━━━━━━━━━━━━━━━━━━━━━━━━━━━━\u001b[0m \u001b[32m274.1/274.1 kB\u001b[0m \u001b[31m11.7 MB/s\u001b[0m eta \u001b[36m0:00:00\u001b[0m\n",
            "\u001b[?25hCollecting scikit-optimize\n",
            "  Downloading scikit_optimize-0.10.2-py2.py3-none-any.whl (107 kB)\n",
            "\u001b[2K     \u001b[90m━━━━━━━━━━━━━━━━━━━━━━━━━━━━━━━━━━━━━━━━\u001b[0m \u001b[32m107.8/107.8 kB\u001b[0m \u001b[31m12.0 MB/s\u001b[0m eta \u001b[36m0:00:00\u001b[0m\n",
            "\u001b[?25hRequirement already satisfied: multipledispatch in /usr/local/lib/python3.10/dist-packages (from botorch) (1.0.0)\n",
            "Requirement already satisfied: scipy in /usr/local/lib/python3.10/dist-packages (from botorch) (1.11.4)\n",
            "Requirement already satisfied: mpmath<=1.3,>=0.19 in /usr/local/lib/python3.10/dist-packages (from botorch) (1.3.0)\n",
            "Collecting pyro-ppl>=1.8.4 (from botorch)\n",
            "  Downloading pyro_ppl-1.9.1-py3-none-any.whl (755 kB)\n",
            "\u001b[2K     \u001b[90m━━━━━━━━━━━━━━━━━━━━━━━━━━━━━━━━━━━━━━━━\u001b[0m \u001b[32m756.0/756.0 kB\u001b[0m \u001b[31m10.4 MB/s\u001b[0m eta \u001b[36m0:00:00\u001b[0m\n",
            "\u001b[?25hCollecting gpytorch\n",
            "  Downloading gpytorch-1.11-py3-none-any.whl (266 kB)\n",
            "\u001b[2K     \u001b[90m━━━━━━━━━━━━━━━━━━━━━━━━━━━━━━━━━━━━━━━━\u001b[0m \u001b[32m266.1/266.1 kB\u001b[0m \u001b[31m10.7 MB/s\u001b[0m eta \u001b[36m0:00:00\u001b[0m\n",
            "\u001b[?25hCollecting linear-operator==0.5.1 (from botorch)\n",
            "  Downloading linear_operator-0.5.1-py3-none-any.whl (174 kB)\n",
            "\u001b[2K     \u001b[90m━━━━━━━━━━━━━━━━━━━━━━━━━━━━━━━━━━━━━━━━\u001b[0m \u001b[32m174.5/174.5 kB\u001b[0m \u001b[31m11.0 MB/s\u001b[0m eta \u001b[36m0:00:00\u001b[0m\n",
            "\u001b[?25hRequirement already satisfied: scikit-learn in /usr/local/lib/python3.10/dist-packages (from gpytorch) (1.2.2)\n",
            "Collecting jaxtyping>=0.2.9 (from linear-operator==0.5.1->botorch)\n",
            "  Downloading jaxtyping-0.2.31-py3-none-any.whl (41 kB)\n",
            "\u001b[2K     \u001b[90m━━━━━━━━━━━━━━━━━━━━━━━━━━━━━━━━━━━━━━━━\u001b[0m \u001b[32m42.0/42.0 kB\u001b[0m \u001b[31m2.3 MB/s\u001b[0m eta \u001b[36m0:00:00\u001b[0m\n",
            "\u001b[?25hCollecting typeguard~=2.13.3 (from linear-operator==0.5.1->botorch)\n",
            "  Downloading typeguard-2.13.3-py3-none-any.whl (17 kB)\n",
            "Requirement already satisfied: filelock in /usr/local/lib/python3.10/dist-packages (from torch) (3.15.4)\n",
            "Requirement already satisfied: typing-extensions>=4.8.0 in /usr/local/lib/python3.10/dist-packages (from torch) (4.12.2)\n",
            "Requirement already satisfied: sympy in /usr/local/lib/python3.10/dist-packages (from torch) (1.12.1)\n",
            "Requirement already satisfied: networkx in /usr/local/lib/python3.10/dist-packages (from torch) (3.3)\n",
            "Requirement already satisfied: jinja2 in /usr/local/lib/python3.10/dist-packages (from torch) (3.1.4)\n",
            "Requirement already satisfied: fsspec in /usr/local/lib/python3.10/dist-packages (from torch) (2023.6.0)\n",
            "Collecting nvidia-cuda-nvrtc-cu12==12.1.105 (from torch)\n",
            "  Using cached nvidia_cuda_nvrtc_cu12-12.1.105-py3-none-manylinux1_x86_64.whl (23.7 MB)\n",
            "Collecting nvidia-cuda-runtime-cu12==12.1.105 (from torch)\n",
            "  Using cached nvidia_cuda_runtime_cu12-12.1.105-py3-none-manylinux1_x86_64.whl (823 kB)\n",
            "Collecting nvidia-cuda-cupti-cu12==12.1.105 (from torch)\n",
            "  Using cached nvidia_cuda_cupti_cu12-12.1.105-py3-none-manylinux1_x86_64.whl (14.1 MB)\n",
            "Collecting nvidia-cudnn-cu12==8.9.2.26 (from torch)\n",
            "  Using cached nvidia_cudnn_cu12-8.9.2.26-py3-none-manylinux1_x86_64.whl (731.7 MB)\n",
            "Collecting nvidia-cublas-cu12==12.1.3.1 (from torch)\n",
            "  Using cached nvidia_cublas_cu12-12.1.3.1-py3-none-manylinux1_x86_64.whl (410.6 MB)\n",
            "Collecting nvidia-cufft-cu12==11.0.2.54 (from torch)\n",
            "  Using cached nvidia_cufft_cu12-11.0.2.54-py3-none-manylinux1_x86_64.whl (121.6 MB)\n",
            "Collecting nvidia-curand-cu12==10.3.2.106 (from torch)\n",
            "  Using cached nvidia_curand_cu12-10.3.2.106-py3-none-manylinux1_x86_64.whl (56.5 MB)\n",
            "Collecting nvidia-cusolver-cu12==11.4.5.107 (from torch)\n",
            "  Using cached nvidia_cusolver_cu12-11.4.5.107-py3-none-manylinux1_x86_64.whl (124.2 MB)\n",
            "Collecting nvidia-cusparse-cu12==12.1.0.106 (from torch)\n",
            "  Using cached nvidia_cusparse_cu12-12.1.0.106-py3-none-manylinux1_x86_64.whl (196.0 MB)\n",
            "Collecting nvidia-nccl-cu12==2.20.5 (from torch)\n",
            "  Using cached nvidia_nccl_cu12-2.20.5-py3-none-manylinux2014_x86_64.whl (176.2 MB)\n",
            "Collecting nvidia-nvtx-cu12==12.1.105 (from torch)\n",
            "  Using cached nvidia_nvtx_cu12-12.1.105-py3-none-manylinux1_x86_64.whl (99 kB)\n",
            "Requirement already satisfied: triton==2.3.0 in /usr/local/lib/python3.10/dist-packages (from torch) (2.3.0)\n",
            "Collecting nvidia-nvjitlink-cu12 (from nvidia-cusolver-cu12==11.4.5.107->torch)\n",
            "  Downloading nvidia_nvjitlink_cu12-12.5.82-py3-none-manylinux2014_x86_64.whl (21.3 MB)\n",
            "\u001b[2K     \u001b[90m━━━━━━━━━━━━━━━━━━━━━━━━━━━━━━━━━━━━━━━━\u001b[0m \u001b[32m21.3/21.3 MB\u001b[0m \u001b[31m40.1 MB/s\u001b[0m eta \u001b[36m0:00:00\u001b[0m\n",
            "\u001b[?25hRequirement already satisfied: joblib>=0.11 in /usr/local/lib/python3.10/dist-packages (from scikit-optimize) (1.4.2)\n",
            "Collecting pyaml>=16.9 (from scikit-optimize)\n",
            "  Downloading pyaml-24.4.0-py3-none-any.whl (24 kB)\n",
            "Requirement already satisfied: numpy>=1.20.3 in /usr/local/lib/python3.10/dist-packages (from scikit-optimize) (1.25.2)\n",
            "Requirement already satisfied: packaging>=21.3 in /usr/local/lib/python3.10/dist-packages (from scikit-optimize) (24.1)\n",
            "Requirement already satisfied: PyYAML in /usr/local/lib/python3.10/dist-packages (from pyaml>=16.9->scikit-optimize) (6.0.1)\n",
            "Requirement already satisfied: opt-einsum>=2.3.2 in /usr/local/lib/python3.10/dist-packages (from pyro-ppl>=1.8.4->botorch) (3.3.0)\n",
            "Collecting pyro-api>=0.1.1 (from pyro-ppl>=1.8.4->botorch)\n",
            "  Downloading pyro_api-0.1.2-py3-none-any.whl (11 kB)\n",
            "Requirement already satisfied: tqdm>=4.36 in /usr/local/lib/python3.10/dist-packages (from pyro-ppl>=1.8.4->botorch) (4.66.4)\n",
            "Requirement already satisfied: threadpoolctl>=2.0.0 in /usr/local/lib/python3.10/dist-packages (from scikit-learn->gpytorch) (3.5.0)\n",
            "Requirement already satisfied: MarkupSafe>=2.0 in /usr/local/lib/python3.10/dist-packages (from jinja2->torch) (2.1.5)\n",
            "Installing collected packages: pyro-api, typeguard, pyaml, nvidia-nvtx-cu12, nvidia-nvjitlink-cu12, nvidia-nccl-cu12, nvidia-curand-cu12, nvidia-cufft-cu12, nvidia-cuda-runtime-cu12, nvidia-cuda-nvrtc-cu12, nvidia-cuda-cupti-cu12, nvidia-cublas-cu12, nvidia-cusparse-cu12, nvidia-cudnn-cu12, jaxtyping, scikit-optimize, nvidia-cusolver-cu12, pyro-ppl, linear-operator, gpytorch, botorch\n",
            "Successfully installed botorch-0.11.1 gpytorch-1.11 jaxtyping-0.2.31 linear-operator-0.5.1 nvidia-cublas-cu12-12.1.3.1 nvidia-cuda-cupti-cu12-12.1.105 nvidia-cuda-nvrtc-cu12-12.1.105 nvidia-cuda-runtime-cu12-12.1.105 nvidia-cudnn-cu12-8.9.2.26 nvidia-cufft-cu12-11.0.2.54 nvidia-curand-cu12-10.3.2.106 nvidia-cusolver-cu12-11.4.5.107 nvidia-cusparse-cu12-12.1.0.106 nvidia-nccl-cu12-2.20.5 nvidia-nvjitlink-cu12-12.5.82 nvidia-nvtx-cu12-12.1.105 pyaml-24.4.0 pyro-api-0.1.2 pyro-ppl-1.9.1 scikit-optimize-0.10.2 typeguard-2.13.3\n"
          ]
        }
      ],
      "source": [
        "pip install botorch torch gpytorch scikit-optimize"
      ]
    },
    {
      "cell_type": "code",
      "execution_count": 2,
      "metadata": {
        "id": "NeHcLdO5veTx"
      },
      "outputs": [],
      "source": [
        "import numpy as np\n",
        "import pandas as pd\n",
        "import torch\n",
        "from botorch.models import FixedNoiseGP, SingleTaskGP, HeteroskedasticSingleTaskGP\n",
        "from gpytorch.kernels import ScaleKernel\n",
        "from gpytorch.mlls import ExactMarginalLogLikelihood\n",
        "from botorch.fit import fit_gpytorch_mll\n",
        "from scipy.stats import norm\n",
        "from botorch.acquisition.analytic import ExpectedImprovement, ProbabilityOfImprovement, UpperConfidenceBound, PosteriorMean\n",
        "import matplotlib.pyplot as plt\n",
        "import sys\n",
        "import time\n",
        "import os\n",
        "from torch.optim import Adam\n",
        "import gpytorch\n",
        "import seaborn as sns"
      ]
    },
    {
      "cell_type": "code",
      "execution_count": 3,
      "metadata": {
        "id": "FLLfBkcpwws2"
      },
      "outputs": [],
      "source": [
        "data=pd.read_csv('MOF_data.csv')"
      ]
    },
    {
      "cell_type": "code",
      "execution_count": 4,
      "metadata": {
        "id": "7l8zefp4bnm7"
      },
      "outputs": [],
      "source": [
        "# Randomize the rows\n",
        "#data_new = data.sample(frac=1).reset_index(drop=True)\n",
        "data_new = data.sample(frac=1, random_state=42).reset_index(drop=True)\n",
        "#data=data_new\n",
        "# Save the randomized DataFrame to an Excel file\n",
        "#data_new.to_excel('randomized_data.xlsx', index=False)"
      ]
    },
    {
      "cell_type": "code",
      "execution_count": 26,
      "metadata": {
        "colab": {
          "base_uri": "https://localhost:8080/"
        },
        "id": "xf36u3dnxVZ5",
        "outputId": "f420a7ae-abec-4bc3-bdcc-7d6d2a9c01c4"
      },
      "outputs": [
        {
          "output_type": "stream",
          "name": "stdout",
          "text": [
            "\n",
            "Rows with NaN values:\n",
            "                                               MOF  uptake_ads  uptake_des  \\\n",
            "7181  acs.inorgchem.6b00276_ic6b00276_si_006_clean    0.421515    0.395023   \n",
            "7182  acs.inorgchem.6b01762_ic6b01762_si_002_clean    0.087637    0.074696   \n",
            "7183  acs.inorgchem.6b02696_ic6b02696_si_002_clean    0.294982    0.280449   \n",
            "7184              acscombsci.5b00188_5036495_clean    0.549701    0.613880   \n",
            "\n",
            "         del_q  heat_ads  heat_des  del_H_ads      LISD     LFSD     LISFS  \\\n",
            "7181  0.026492 -39.33925       NaN        NaN  14.12459  8.71298  14.12459   \n",
            "7182  0.012940 -30.35526       NaN        NaN  11.40609  8.52606  11.40609   \n",
            "7183  0.014533 -34.78612       NaN        NaN  12.11622  5.03656  12.11622   \n",
            "7184 -0.064179 -18.93596       NaN        NaN  11.02841  8.71025  10.83963   \n",
            "\n",
            "      ...  La  Cr  Ti  Ba  Rh  Ce  Cu  Al  Re       COP  \n",
            "7181  ...   0   0   0   0   0   0   0   0   0  0.216845  \n",
            "7182  ...   0   0   0   0   0   0   0   0   0  0.105920  \n",
            "7183  ...   0   0   0   0   0   0   0   0   0  0.118957  \n",
            "7184  ...   0   0   0   0   0   0   0   0   0 -0.525329  \n",
            "\n",
            "[4 rows x 114 columns]\n",
            "\n",
            "DataFrame after removing rows with NaN values:\n",
            "                         MOF  uptake_ads  uptake_des     del_q  heat_ads  \\\n",
            "0             XUKYEI_neutral    0.920997    0.668303  0.252694 -21.55231   \n",
            "1     ja300034j_si_002_clean    0.433112    0.187346  0.245766 -25.96441   \n",
            "2             QIYDAF01_clean    0.827077    0.660425  0.166652 -19.37443   \n",
            "3               XAHPIH_clean    0.818678    0.634451  0.184227 -21.96228   \n",
            "4               VETMIS_clean    0.932519    0.746597  0.185922 -22.10557   \n",
            "...                      ...         ...         ...       ...       ...   \n",
            "6912            SANHUN_clean    0.099955    0.099916  0.000040 -36.97365   \n",
            "6913            PEKVUY_clean    0.063529    0.063499  0.000030 -40.67769   \n",
            "6914            HEXNII_clean    0.055041    0.055024  0.000017 -43.94061   \n",
            "6915            IBIYUO_clean    0.033219    0.033211  0.000008 -34.91721   \n",
            "6916            LIDZUV_clean    0.064040    0.064040  0.000000 -37.87383   \n",
            "\n",
            "      heat_des  del_H_ads      LISD      LFSD     LISFS  ...  La  Cr  Ti  Ba  \\\n",
            "0    -18.39099 -19.971650  13.18217  10.20370  13.18217  ...   0   0   0   0   \n",
            "1    -17.79542 -21.879915  17.49700  17.44104  17.49700  ...   0   0   0   0   \n",
            "2    -18.95302 -19.163725  22.00141  13.48659  22.00141  ...   0   0   0   0   \n",
            "3    -19.54395 -20.753115  14.37026  13.22660  14.37026  ...   0   0   0   0   \n",
            "4    -19.92746 -21.016515  18.13430  11.96931  18.13430  ...   0   0   0   0   \n",
            "...        ...        ...       ...       ...       ...  ...  ..  ..  ..  ..   \n",
            "6912 -45.60806 -41.290855   6.56302   4.77517   6.56302  ...   0   0   0   0   \n",
            "6913 -46.56410 -43.620895   5.67220   3.42753   4.50995  ...   0   0   0   2   \n",
            "6914 -40.02038 -41.980495   4.90669   3.50214   4.90669  ...   0   0   0   0   \n",
            "6915 -34.33881 -34.628010   5.16636   4.13343   5.13222  ...   0   0   0   0   \n",
            "6916 -36.02640 -36.950115   4.48832   3.71412   4.48832  ...   0   0   0   0   \n",
            "\n",
            "      Rh  Ce  Cu  Al  Re       COP  \n",
            "0      0   0   2   0   0  0.583945  \n",
            "1      0   0   0   0   0  0.542431  \n",
            "2      0   0  24   0   0  0.522907  \n",
            "3      0   0   8   0   0  0.515395  \n",
            "4      0   0  12   0   0  0.512710  \n",
            "...   ..  ..  ..  ..  ..       ...  \n",
            "6912   0   0   0   0   0  0.000327  \n",
            "6913   0   0   0   0   0  0.000246  \n",
            "6914   0   0   0   0   0  0.000137  \n",
            "6915   0   0  64   0   0  0.000066  \n",
            "6916   0   0   0   0   0  0.000000  \n",
            "\n",
            "[6917 rows x 113 columns]\n"
          ]
        }
      ],
      "source": [
        "\n",
        "# Identify rows with any NaN values\n",
        "rows_with_nan = data.isnull().any(axis=1)\n",
        "\n",
        "# Display rows that contain NaN values\n",
        "print(\"\\nRows with NaN values:\")\n",
        "print(data[rows_with_nan])\n",
        "\n",
        "# Remove rows with any NaN values\n",
        "df = data.dropna()\n",
        "df = df[df['del_q'] >= 0]\n",
        "df=df.drop('Pu',axis=1).reset_index(drop=True) #It contains all values as 0\n",
        "print(\"\\nDataFrame after removing rows with NaN values:\")\n",
        "print(df)"
      ]
    },
    {
      "cell_type": "code",
      "execution_count": 27,
      "metadata": {
        "id": "5BXcL0CLxW6r"
      },
      "outputs": [],
      "source": [
        "X=df.iloc[:,7:-1]\n",
        "Y=df.iloc[:,-1]\n",
        "#material_names=df.iloc[:,0]"
      ]
    },
    {
      "cell_type": "code",
      "execution_count": 28,
      "metadata": {
        "id": "GU8ENC811u-u"
      },
      "outputs": [],
      "source": [
        "from sklearn.preprocessing import StandardScaler,MinMaxScaler"
      ]
    },
    {
      "cell_type": "code",
      "execution_count": 29,
      "metadata": {
        "id": "LNz_MjMv1wRn"
      },
      "outputs": [],
      "source": [
        "X_npArray=X.to_numpy()\n",
        "Y_npArray=Y.to_numpy()"
      ]
    },
    {
      "cell_type": "code",
      "execution_count": 30,
      "metadata": {
        "id": "70fvU8diz8BH"
      },
      "outputs": [],
      "source": [
        "# Initialize BO parameters\n",
        "nb_iterations = 110\n",
        "nb_runs = 10\n",
        "initial_mofs = 10  # Number of initial MOFs to randomly select"
      ]
    },
    {
      "cell_type": "code",
      "execution_count": 31,
      "metadata": {
        "id": "mC7OeE0h235y"
      },
      "outputs": [],
      "source": [
        "# Convert to torch tensors\n",
        "X_tensor = torch.from_numpy(X_npArray).float()\n",
        "y_tensor = torch.from_numpy(Y_npArray).float()\n",
        "# Placeholder for acquired MOFs\n",
        "acquired_mofs = []\n",
        "\n",
        "# Select initial MOFs randomly\n",
        "initial_ids = np.random.choice(np.arange(len(X)), size=initial_mofs, replace=False)\n",
        "#initial_ids = np.random.choice(np.arange(1,100), size=initial_mofs, replace=False),\n",
        "'''if taken random from only initial mofs, properties of last mofs are not being able to be predicted properly'''\n",
        "acquired_mofs.extend(initial_ids)\n",
        "\n",
        "X_unsqueezed = X_tensor.unsqueeze(1)\n",
        "\n",
        "#features=df.columns[7:-1]"
      ]
    },
    {
      "cell_type": "code",
      "execution_count": 32,
      "metadata": {
        "id": "Ob_Pj0PrxcDC"
      },
      "outputs": [],
      "source": [
        "# Min-max scaling for X_train\n",
        "scaler_X = StandardScaler()\n",
        "scaler=MinMaxScaler()\n",
        "X_tensor = torch.tensor(scaler_X.fit_transform(X_tensor), dtype=torch.float64)\n",
        "X_tensor=torch.tensor(scaler.fit_transform(X_tensor), dtype=torch.float64)\n",
        "\n",
        "# Standardization for y_train\n",
        "scaler_y = StandardScaler()\n",
        "y_train_reshaped = y_tensor.reshape(-1, 1)\n",
        "\n",
        "# Fit and transform y_train\n",
        "y_train_scaled = scaler_y.fit_transform(y_train_reshaped)\n",
        "\n",
        "# Convert back to tensor\n",
        "y_tensor = torch.tensor(y_train_scaled, dtype=torch.float64)"
      ]
    },
    {
      "cell_type": "code",
      "execution_count": 33,
      "metadata": {
        "colab": {
          "base_uri": "https://localhost:8080/"
        },
        "id": "HpYEkIzdcu-f",
        "outputId": "3cd2ab04-3424-4128-e5ec-6dd3b4525fcd"
      },
      "outputs": [
        {
          "output_type": "execute_result",
          "data": {
            "text/plain": [
              "torch.Size([6917, 1])"
            ]
          },
          "metadata": {},
          "execution_count": 33
        }
      ],
      "source": [
        "y_tensor.size()"
      ]
    },
    {
      "cell_type": "code",
      "execution_count": 34,
      "metadata": {
        "colab": {
          "base_uri": "https://localhost:8080/"
        },
        "id": "M4OYDdj94pf1",
        "outputId": "75e2a1d6-7806-48e1-dd19-895bbc5efbe5"
      },
      "outputs": [
        {
          "output_type": "stream",
          "name": "stdout",
          "text": [
            "Iteration: 10\r"
          ]
        },
        {
          "output_type": "stream",
          "name": "stderr",
          "text": [
            "/usr/local/lib/python3.10/dist-packages/botorch/models/utils/assorted.py:260: InputDataWarning: Data is not standardized (std = tensor([1.0304], dtype=torch.float64), mean = tensor([0.0237], dtype=torch.float64)). Please consider scaling the input to zero mean and unit variance.\n",
            "  check_standardization(Y=train_Y, raise_on_fail=raise_on_fail)\n"
          ]
        },
        {
          "output_type": "stream",
          "name": "stdout",
          "text": [
            "Iteration 10: Acquired MOF 313\n",
            "Acquired MOFs: [5479, 3375, 3070, 1418, 234, 3548, 2157, 6792, 5964, 1652, 313]\n",
            "Expected length: 11, Actual length: 11\n",
            "Iteration: 11\r"
          ]
        },
        {
          "output_type": "stream",
          "name": "stderr",
          "text": [
            "/usr/local/lib/python3.10/dist-packages/botorch/models/utils/assorted.py:260: InputDataWarning: Data is not standardized (std = tensor([1.1465], dtype=torch.float64), mean = tensor([0.2043], dtype=torch.float64)). Please consider scaling the input to zero mean and unit variance.\n",
            "  check_standardization(Y=train_Y, raise_on_fail=raise_on_fail)\n"
          ]
        },
        {
          "output_type": "stream",
          "name": "stdout",
          "text": [
            "Iteration 11: Acquired MOF 254\n",
            "Acquired MOFs: [5479, 3375, 3070, 1418, 234, 3548, 2157, 6792, 5964, 1652, 313, 254]\n",
            "Expected length: 12, Actual length: 12\n",
            "Iteration: 12\r"
          ]
        },
        {
          "output_type": "stream",
          "name": "stderr",
          "text": [
            "/usr/local/lib/python3.10/dist-packages/botorch/models/utils/assorted.py:260: InputDataWarning: Data is not standardized (std = tensor([1.2438], dtype=torch.float64), mean = tensor([0.3756], dtype=torch.float64)). Please consider scaling the input to zero mean and unit variance.\n",
            "  check_standardization(Y=train_Y, raise_on_fail=raise_on_fail)\n"
          ]
        },
        {
          "output_type": "stream",
          "name": "stdout",
          "text": [
            "Iteration 12: Acquired MOF 222\n",
            "Acquired MOFs: [5479, 3375, 3070, 1418, 234, 3548, 2157, 6792, 5964, 1652, 313, 254, 222]\n",
            "Expected length: 13, Actual length: 13\n",
            "Iteration: 13\r"
          ]
        },
        {
          "output_type": "stream",
          "name": "stderr",
          "text": [
            "/usr/local/lib/python3.10/dist-packages/botorch/models/utils/assorted.py:260: InputDataWarning: Data is not standardized (std = tensor([1.3133], dtype=torch.float64), mean = tensor([0.5292], dtype=torch.float64)). Please consider scaling the input to zero mean and unit variance.\n",
            "  check_standardization(Y=train_Y, raise_on_fail=raise_on_fail)\n"
          ]
        },
        {
          "output_type": "stream",
          "name": "stdout",
          "text": [
            "Iteration 13: Acquired MOF 175\n",
            "Acquired MOFs: [5479, 3375, 3070, 1418, 234, 3548, 2157, 6792, 5964, 1652, 313, 254, 222, 175]\n",
            "Expected length: 14, Actual length: 14\n",
            "Iteration: 14\r"
          ]
        },
        {
          "output_type": "stream",
          "name": "stderr",
          "text": [
            "/usr/local/lib/python3.10/dist-packages/botorch/models/utils/assorted.py:260: InputDataWarning: Data is not standardized (std = tensor([1.3801], dtype=torch.float64), mean = tensor([0.6786], dtype=torch.float64)). Please consider scaling the input to zero mean and unit variance.\n",
            "  check_standardization(Y=train_Y, raise_on_fail=raise_on_fail)\n"
          ]
        },
        {
          "output_type": "stream",
          "name": "stdout",
          "text": [
            "Iteration 14: Acquired MOF 185\n",
            "Acquired MOFs: [5479, 3375, 3070, 1418, 234, 3548, 2157, 6792, 5964, 1652, 313, 254, 222, 175, 185]\n",
            "Expected length: 15, Actual length: 15\n",
            "Iteration: 15\r"
          ]
        },
        {
          "output_type": "stream",
          "name": "stderr",
          "text": [
            "/usr/local/lib/python3.10/dist-packages/botorch/models/utils/assorted.py:260: InputDataWarning: Data is not standardized (std = tensor([1.4129], dtype=torch.float64), mean = tensor([0.8018], dtype=torch.float64)). Please consider scaling the input to zero mean and unit variance.\n",
            "  check_standardization(Y=train_Y, raise_on_fail=raise_on_fail)\n"
          ]
        },
        {
          "output_type": "stream",
          "name": "stdout",
          "text": [
            "Iteration 15: Acquired MOF 121\n",
            "Acquired MOFs: [5479, 3375, 3070, 1418, 234, 3548, 2157, 6792, 5964, 1652, 313, 254, 222, 175, 185, 121]\n",
            "Expected length: 16, Actual length: 16\n",
            "Iteration: 16\r"
          ]
        },
        {
          "output_type": "stream",
          "name": "stderr",
          "text": [
            "/usr/local/lib/python3.10/dist-packages/botorch/models/utils/assorted.py:260: InputDataWarning: Data is not standardized (std = tensor([1.4788], dtype=torch.float64), mean = tensor([0.9440], dtype=torch.float64)). Please consider scaling the input to zero mean and unit variance.\n",
            "  check_standardization(Y=train_Y, raise_on_fail=raise_on_fail)\n"
          ]
        },
        {
          "output_type": "stream",
          "name": "stdout",
          "text": [
            "Iteration 16: Acquired MOF 47\n",
            "Acquired MOFs: [5479, 3375, 3070, 1418, 234, 3548, 2157, 6792, 5964, 1652, 313, 254, 222, 175, 185, 121, 47]\n",
            "Expected length: 17, Actual length: 17\n",
            "Iteration: 17\r"
          ]
        },
        {
          "output_type": "stream",
          "name": "stderr",
          "text": [
            "/usr/local/lib/python3.10/dist-packages/botorch/models/utils/assorted.py:260: InputDataWarning: Data is not standardized (std = tensor([1.5866], dtype=torch.float64), mean = tensor([1.1098], dtype=torch.float64)). Please consider scaling the input to zero mean and unit variance.\n",
            "  check_standardization(Y=train_Y, raise_on_fail=raise_on_fail)\n"
          ]
        },
        {
          "output_type": "stream",
          "name": "stdout",
          "text": [
            "Iteration 17: Acquired MOF 31\n",
            "Acquired MOFs: [5479, 3375, 3070, 1418, 234, 3548, 2157, 6792, 5964, 1652, 313, 254, 222, 175, 185, 121, 47, 31]\n",
            "Expected length: 18, Actual length: 18\n",
            "Iteration: 18\r"
          ]
        },
        {
          "output_type": "stream",
          "name": "stderr",
          "text": [
            "/usr/local/lib/python3.10/dist-packages/botorch/models/utils/assorted.py:260: InputDataWarning: Data is not standardized (std = tensor([1.6857], dtype=torch.float64), mean = tensor([1.2718], dtype=torch.float64)). Please consider scaling the input to zero mean and unit variance.\n",
            "  check_standardization(Y=train_Y, raise_on_fail=raise_on_fail)\n"
          ]
        },
        {
          "output_type": "stream",
          "name": "stdout",
          "text": [
            "Iteration 18: Acquired MOF 202\n",
            "Acquired MOFs: [5479, 3375, 3070, 1418, 234, 3548, 2157, 6792, 5964, 1652, 313, 254, 222, 175, 185, 121, 47, 31, 202]\n",
            "Expected length: 19, Actual length: 19\n",
            "Iteration: 19\r"
          ]
        },
        {
          "output_type": "stream",
          "name": "stderr",
          "text": [
            "/usr/local/lib/python3.10/dist-packages/botorch/models/utils/assorted.py:260: InputDataWarning: Data is not standardized (std = tensor([1.6611], dtype=torch.float64), mean = tensor([1.3348], dtype=torch.float64)). Please consider scaling the input to zero mean and unit variance.\n",
            "  check_standardization(Y=train_Y, raise_on_fail=raise_on_fail)\n"
          ]
        },
        {
          "output_type": "stream",
          "name": "stdout",
          "text": [
            "Iteration 19: Acquired MOF 30\n",
            "Acquired MOFs: [5479, 3375, 3070, 1418, 234, 3548, 2157, 6792, 5964, 1652, 313, 254, 222, 175, 185, 121, 47, 31, 202, 30]\n",
            "Expected length: 20, Actual length: 20\n",
            "Iteration: 20\r"
          ]
        },
        {
          "output_type": "stream",
          "name": "stderr",
          "text": [
            "/usr/local/lib/python3.10/dist-packages/botorch/models/utils/assorted.py:260: InputDataWarning: Data is not standardized (std = tensor([1.7212], dtype=torch.float64), mean = tensor([1.4668], dtype=torch.float64)). Please consider scaling the input to zero mean and unit variance.\n",
            "  check_standardization(Y=train_Y, raise_on_fail=raise_on_fail)\n"
          ]
        },
        {
          "output_type": "stream",
          "name": "stdout",
          "text": [
            "Iteration 20: Acquired MOF 17\n",
            "Acquired MOFs: [5479, 3375, 3070, 1418, 234, 3548, 2157, 6792, 5964, 1652, 313, 254, 222, 175, 185, 121, 47, 31, 202, 30, 17]\n",
            "Expected length: 21, Actual length: 21\n",
            "Iteration: 21\r"
          ]
        },
        {
          "output_type": "stream",
          "name": "stderr",
          "text": [
            "/usr/local/lib/python3.10/dist-packages/botorch/models/utils/assorted.py:260: InputDataWarning: Data is not standardized (std = tensor([1.7865], dtype=torch.float64), mean = tensor([1.6008], dtype=torch.float64)). Please consider scaling the input to zero mean and unit variance.\n",
            "  check_standardization(Y=train_Y, raise_on_fail=raise_on_fail)\n"
          ]
        },
        {
          "output_type": "stream",
          "name": "stdout",
          "text": [
            "Iteration 21: Acquired MOF 0\n",
            "Acquired MOFs: [5479, 3375, 3070, 1418, 234, 3548, 2157, 6792, 5964, 1652, 313, 254, 222, 175, 185, 121, 47, 31, 202, 30, 17, 0]\n",
            "Expected length: 22, Actual length: 22\n",
            "Iteration: 22\r"
          ]
        },
        {
          "output_type": "stream",
          "name": "stderr",
          "text": [
            "/usr/local/lib/python3.10/dist-packages/botorch/models/utils/assorted.py:260: InputDataWarning: Data is not standardized (std = tensor([1.9555], dtype=torch.float64), mean = tensor([1.7896], dtype=torch.float64)). Please consider scaling the input to zero mean and unit variance.\n",
            "  check_standardization(Y=train_Y, raise_on_fail=raise_on_fail)\n"
          ]
        },
        {
          "output_type": "stream",
          "name": "stdout",
          "text": [
            "Iteration 22: Acquired MOF 39\n",
            "Acquired MOFs: [5479, 3375, 3070, 1418, 234, 3548, 2157, 6792, 5964, 1652, 313, 254, 222, 175, 185, 121, 47, 31, 202, 30, 17, 0, 39]\n",
            "Expected length: 23, Actual length: 23\n",
            "Iteration: 23\r"
          ]
        },
        {
          "output_type": "stream",
          "name": "stderr",
          "text": [
            "/usr/local/lib/python3.10/dist-packages/botorch/models/utils/assorted.py:260: InputDataWarning: Data is not standardized (std = tensor([1.9664], dtype=torch.float64), mean = tensor([1.8867], dtype=torch.float64)). Please consider scaling the input to zero mean and unit variance.\n",
            "  check_standardization(Y=train_Y, raise_on_fail=raise_on_fail)\n"
          ]
        },
        {
          "output_type": "stream",
          "name": "stdout",
          "text": [
            "Iteration 23: Acquired MOF 57\n",
            "Acquired MOFs: [5479, 3375, 3070, 1418, 234, 3548, 2157, 6792, 5964, 1652, 313, 254, 222, 175, 185, 121, 47, 31, 202, 30, 17, 0, 39, 57]\n",
            "Expected length: 24, Actual length: 24\n",
            "Iteration: 24\r"
          ]
        },
        {
          "output_type": "stream",
          "name": "stderr",
          "text": [
            "/usr/local/lib/python3.10/dist-packages/botorch/models/utils/assorted.py:260: InputDataWarning: Data is not standardized (std = tensor([1.9625], dtype=torch.float64), mean = tensor([1.9665], dtype=torch.float64)). Please consider scaling the input to zero mean and unit variance.\n",
            "  check_standardization(Y=train_Y, raise_on_fail=raise_on_fail)\n"
          ]
        },
        {
          "output_type": "stream",
          "name": "stdout",
          "text": [
            "Iteration 24: Acquired MOF 9\n",
            "Acquired MOFs: [5479, 3375, 3070, 1418, 234, 3548, 2157, 6792, 5964, 1652, 313, 254, 222, 175, 185, 121, 47, 31, 202, 30, 17, 0, 39, 57, 9]\n",
            "Expected length: 25, Actual length: 25\n",
            "Iteration: 25\r"
          ]
        },
        {
          "output_type": "stream",
          "name": "stderr",
          "text": [
            "/usr/local/lib/python3.10/dist-packages/botorch/models/utils/assorted.py:260: InputDataWarning: Data is not standardized (std = tensor([1.9831], dtype=torch.float64), mean = tensor([2.0648], dtype=torch.float64)). Please consider scaling the input to zero mean and unit variance.\n",
            "  check_standardization(Y=train_Y, raise_on_fail=raise_on_fail)\n"
          ]
        },
        {
          "output_type": "stream",
          "name": "stdout",
          "text": [
            "Iteration 25: Acquired MOF 8\n",
            "Acquired MOFs: [5479, 3375, 3070, 1418, 234, 3548, 2157, 6792, 5964, 1652, 313, 254, 222, 175, 185, 121, 47, 31, 202, 30, 17, 0, 39, 57, 9, 8]\n",
            "Expected length: 26, Actual length: 26\n",
            "Iteration: 26\r"
          ]
        },
        {
          "output_type": "stream",
          "name": "stderr",
          "text": [
            "/usr/local/lib/python3.10/dist-packages/botorch/models/utils/assorted.py:260: InputDataWarning: Data is not standardized (std = tensor([1.9930], dtype=torch.float64), mean = tensor([2.1518], dtype=torch.float64)). Please consider scaling the input to zero mean and unit variance.\n",
            "  check_standardization(Y=train_Y, raise_on_fail=raise_on_fail)\n"
          ]
        },
        {
          "output_type": "stream",
          "name": "stdout",
          "text": [
            "Iteration 26: Acquired MOF 12\n",
            "Acquired MOFs: [5479, 3375, 3070, 1418, 234, 3548, 2157, 6792, 5964, 1652, 313, 254, 222, 175, 185, 121, 47, 31, 202, 30, 17, 0, 39, 57, 9, 8, 12]\n",
            "Expected length: 27, Actual length: 27\n",
            "Iteration: 27\r"
          ]
        },
        {
          "output_type": "stream",
          "name": "stderr",
          "text": [
            "/usr/local/lib/python3.10/dist-packages/botorch/models/utils/assorted.py:260: InputDataWarning: Data is not standardized (std = tensor([1.9997], dtype=torch.float64), mean = tensor([2.2333], dtype=torch.float64)). Please consider scaling the input to zero mean and unit variance.\n",
            "  check_standardization(Y=train_Y, raise_on_fail=raise_on_fail)\n"
          ]
        },
        {
          "output_type": "stream",
          "name": "stdout",
          "text": [
            "Iteration 27: Acquired MOF 58\n",
            "Acquired MOFs: [5479, 3375, 3070, 1418, 234, 3548, 2157, 6792, 5964, 1652, 313, 254, 222, 175, 185, 121, 47, 31, 202, 30, 17, 0, 39, 57, 9, 8, 12, 58]\n",
            "Expected length: 28, Actual length: 28\n",
            "Iteration: 28\r"
          ]
        },
        {
          "output_type": "stream",
          "name": "stderr",
          "text": [
            "/usr/local/lib/python3.10/dist-packages/botorch/models/utils/assorted.py:260: InputDataWarning: Data is not standardized (std = tensor([1.9844], dtype=torch.float64), mean = tensor([2.2891], dtype=torch.float64)). Please consider scaling the input to zero mean and unit variance.\n",
            "  check_standardization(Y=train_Y, raise_on_fail=raise_on_fail)\n"
          ]
        },
        {
          "output_type": "stream",
          "name": "stdout",
          "text": [
            "Iteration 28: Acquired MOF 6\n",
            "Acquired MOFs: [5479, 3375, 3070, 1418, 234, 3548, 2157, 6792, 5964, 1652, 313, 254, 222, 175, 185, 121, 47, 31, 202, 30, 17, 0, 39, 57, 9, 8, 12, 58, 6]\n",
            "Expected length: 29, Actual length: 29\n",
            "Iteration: 29\r"
          ]
        },
        {
          "output_type": "stream",
          "name": "stderr",
          "text": [
            "/usr/local/lib/python3.10/dist-packages/botorch/models/utils/assorted.py:260: InputDataWarning: Data is not standardized (std = tensor([1.9991], dtype=torch.float64), mean = tensor([2.3720], dtype=torch.float64)). Please consider scaling the input to zero mean and unit variance.\n",
            "  check_standardization(Y=train_Y, raise_on_fail=raise_on_fail)\n"
          ]
        },
        {
          "output_type": "stream",
          "name": "stdout",
          "text": [
            "Iteration 29: Acquired MOF 61\n",
            "Acquired MOFs: [5479, 3375, 3070, 1418, 234, 3548, 2157, 6792, 5964, 1652, 313, 254, 222, 175, 185, 121, 47, 31, 202, 30, 17, 0, 39, 57, 9, 8, 12, 58, 6, 61]\n",
            "Expected length: 30, Actual length: 30\n",
            "Iteration: 30\r"
          ]
        },
        {
          "output_type": "stream",
          "name": "stderr",
          "text": [
            "/usr/local/lib/python3.10/dist-packages/botorch/models/utils/assorted.py:260: InputDataWarning: Data is not standardized (std = tensor([1.9782], dtype=torch.float64), mean = tensor([2.4147], dtype=torch.float64)). Please consider scaling the input to zero mean and unit variance.\n",
            "  check_standardization(Y=train_Y, raise_on_fail=raise_on_fail)\n"
          ]
        },
        {
          "output_type": "stream",
          "name": "stdout",
          "text": [
            "Iteration 30: Acquired MOF 13\n",
            "Acquired MOFs: [5479, 3375, 3070, 1418, 234, 3548, 2157, 6792, 5964, 1652, 313, 254, 222, 175, 185, 121, 47, 31, 202, 30, 17, 0, 39, 57, 9, 8, 12, 58, 6, 61, 13]\n",
            "Expected length: 31, Actual length: 31\n",
            "Iteration: 31\r"
          ]
        },
        {
          "output_type": "stream",
          "name": "stderr",
          "text": [
            "/usr/local/lib/python3.10/dist-packages/botorch/models/utils/assorted.py:260: InputDataWarning: Data is not standardized (std = tensor([1.9779], dtype=torch.float64), mean = tensor([2.4792], dtype=torch.float64)). Please consider scaling the input to zero mean and unit variance.\n",
            "  check_standardization(Y=train_Y, raise_on_fail=raise_on_fail)\n"
          ]
        },
        {
          "output_type": "stream",
          "name": "stdout",
          "text": [
            "Iteration 31: Acquired MOF 26\n",
            "Acquired MOFs: [5479, 3375, 3070, 1418, 234, 3548, 2157, 6792, 5964, 1652, 313, 254, 222, 175, 185, 121, 47, 31, 202, 30, 17, 0, 39, 57, 9, 8, 12, 58, 6, 61, 13, 26]\n",
            "Expected length: 32, Actual length: 32\n",
            "Iteration: 32\r"
          ]
        },
        {
          "output_type": "stream",
          "name": "stderr",
          "text": [
            "/usr/local/lib/python3.10/dist-packages/botorch/models/utils/assorted.py:260: InputDataWarning: Data is not standardized (std = tensor([1.9670], dtype=torch.float64), mean = tensor([2.5302], dtype=torch.float64)). Please consider scaling the input to zero mean and unit variance.\n",
            "  check_standardization(Y=train_Y, raise_on_fail=raise_on_fail)\n"
          ]
        },
        {
          "output_type": "stream",
          "name": "stdout",
          "text": [
            "Iteration 32: Acquired MOF 364\n",
            "Acquired MOFs: [5479, 3375, 3070, 1418, 234, 3548, 2157, 6792, 5964, 1652, 313, 254, 222, 175, 185, 121, 47, 31, 202, 30, 17, 0, 39, 57, 9, 8, 12, 58, 6, 61, 13, 26, 364]\n",
            "Expected length: 33, Actual length: 33\n",
            "Iteration: 33\r"
          ]
        },
        {
          "output_type": "stream",
          "name": "stderr",
          "text": [
            "/usr/local/lib/python3.10/dist-packages/botorch/models/utils/assorted.py:260: InputDataWarning: Data is not standardized (std = tensor([1.9382], dtype=torch.float64), mean = tensor([2.5141], dtype=torch.float64)). Please consider scaling the input to zero mean and unit variance.\n",
            "  check_standardization(Y=train_Y, raise_on_fail=raise_on_fail)\n"
          ]
        },
        {
          "output_type": "stream",
          "name": "stdout",
          "text": [
            "Iteration 33: Acquired MOF 129\n",
            "Acquired MOFs: [5479, 3375, 3070, 1418, 234, 3548, 2157, 6792, 5964, 1652, 313, 254, 222, 175, 185, 121, 47, 31, 202, 30, 17, 0, 39, 57, 9, 8, 12, 58, 6, 61, 13, 26, 364, 129]\n",
            "Expected length: 34, Actual length: 34\n",
            "Iteration: 34\r"
          ]
        },
        {
          "output_type": "stream",
          "name": "stderr",
          "text": [
            "/usr/local/lib/python3.10/dist-packages/botorch/models/utils/assorted.py:260: InputDataWarning: Data is not standardized (std = tensor([1.9113], dtype=torch.float64), mean = tensor([2.5314], dtype=torch.float64)). Please consider scaling the input to zero mean and unit variance.\n",
            "  check_standardization(Y=train_Y, raise_on_fail=raise_on_fail)\n"
          ]
        },
        {
          "output_type": "stream",
          "name": "stdout",
          "text": [
            "Iteration 34: Acquired MOF 43\n",
            "Acquired MOFs: [5479, 3375, 3070, 1418, 234, 3548, 2157, 6792, 5964, 1652, 313, 254, 222, 175, 185, 121, 47, 31, 202, 30, 17, 0, 39, 57, 9, 8, 12, 58, 6, 61, 13, 26, 364, 129, 43]\n",
            "Expected length: 35, Actual length: 35\n",
            "Iteration: 35\r"
          ]
        },
        {
          "output_type": "stream",
          "name": "stderr",
          "text": [
            "/usr/local/lib/python3.10/dist-packages/botorch/models/utils/assorted.py:260: InputDataWarning: Data is not standardized (std = tensor([1.8960], dtype=torch.float64), mean = tensor([2.5688], dtype=torch.float64)). Please consider scaling the input to zero mean and unit variance.\n",
            "  check_standardization(Y=train_Y, raise_on_fail=raise_on_fail)\n"
          ]
        },
        {
          "output_type": "stream",
          "name": "stdout",
          "text": [
            "Iteration 35: Acquired MOF 4162\n",
            "Acquired MOFs: [5479, 3375, 3070, 1418, 234, 3548, 2157, 6792, 5964, 1652, 313, 254, 222, 175, 185, 121, 47, 31, 202, 30, 17, 0, 39, 57, 9, 8, 12, 58, 6, 61, 13, 26, 364, 129, 43, 4162]\n",
            "Expected length: 36, Actual length: 36\n",
            "Iteration: 36\r"
          ]
        },
        {
          "output_type": "stream",
          "name": "stderr",
          "text": [
            "/usr/local/lib/python3.10/dist-packages/botorch/models/utils/assorted.py:260: InputDataWarning: Data is not standardized (std = tensor([1.9325], dtype=torch.float64), mean = tensor([2.4868], dtype=torch.float64)). Please consider scaling the input to zero mean and unit variance.\n",
            "  check_standardization(Y=train_Y, raise_on_fail=raise_on_fail)\n"
          ]
        },
        {
          "output_type": "stream",
          "name": "stdout",
          "text": [
            "Iteration 36: Acquired MOF 214\n",
            "Acquired MOFs: [5479, 3375, 3070, 1418, 234, 3548, 2157, 6792, 5964, 1652, 313, 254, 222, 175, 185, 121, 47, 31, 202, 30, 17, 0, 39, 57, 9, 8, 12, 58, 6, 61, 13, 26, 364, 129, 43, 4162, 214]\n",
            "Expected length: 37, Actual length: 37\n",
            "Iteration: 37\r"
          ]
        },
        {
          "output_type": "stream",
          "name": "stderr",
          "text": [
            "/usr/local/lib/python3.10/dist-packages/botorch/models/utils/assorted.py:260: InputDataWarning: Data is not standardized (std = tensor([1.9055], dtype=torch.float64), mean = tensor([2.4890], dtype=torch.float64)). Please consider scaling the input to zero mean and unit variance.\n",
            "  check_standardization(Y=train_Y, raise_on_fail=raise_on_fail)\n"
          ]
        },
        {
          "output_type": "stream",
          "name": "stdout",
          "text": [
            "Iteration 37: Acquired MOF 51\n",
            "Acquired MOFs: [5479, 3375, 3070, 1418, 234, 3548, 2157, 6792, 5964, 1652, 313, 254, 222, 175, 185, 121, 47, 31, 202, 30, 17, 0, 39, 57, 9, 8, 12, 58, 6, 61, 13, 26, 364, 129, 43, 4162, 214, 51]\n",
            "Expected length: 38, Actual length: 38\n",
            "Iteration: 38\r"
          ]
        },
        {
          "output_type": "stream",
          "name": "stderr",
          "text": [
            "/usr/local/lib/python3.10/dist-packages/botorch/models/utils/assorted.py:260: InputDataWarning: Data is not standardized (std = tensor([1.8929], dtype=torch.float64), mean = tensor([2.5254], dtype=torch.float64)). Please consider scaling the input to zero mean and unit variance.\n",
            "  check_standardization(Y=train_Y, raise_on_fail=raise_on_fail)\n"
          ]
        },
        {
          "output_type": "stream",
          "name": "stdout",
          "text": [
            "Iteration 38: Acquired MOF 140\n",
            "Acquired MOFs: [5479, 3375, 3070, 1418, 234, 3548, 2157, 6792, 5964, 1652, 313, 254, 222, 175, 185, 121, 47, 31, 202, 30, 17, 0, 39, 57, 9, 8, 12, 58, 6, 61, 13, 26, 364, 129, 43, 4162, 214, 51, 140]\n",
            "Expected length: 39, Actual length: 39\n",
            "Iteration: 39\r"
          ]
        },
        {
          "output_type": "stream",
          "name": "stderr",
          "text": [
            "/usr/local/lib/python3.10/dist-packages/botorch/models/utils/assorted.py:260: InputDataWarning: Data is not standardized (std = tensor([1.8691], dtype=torch.float64), mean = tensor([2.5362], dtype=torch.float64)). Please consider scaling the input to zero mean and unit variance.\n",
            "  check_standardization(Y=train_Y, raise_on_fail=raise_on_fail)\n"
          ]
        },
        {
          "output_type": "stream",
          "name": "stdout",
          "text": [
            "Iteration 39: Acquired MOF 228\n",
            "Acquired MOFs: [5479, 3375, 3070, 1418, 234, 3548, 2157, 6792, 5964, 1652, 313, 254, 222, 175, 185, 121, 47, 31, 202, 30, 17, 0, 39, 57, 9, 8, 12, 58, 6, 61, 13, 26, 364, 129, 43, 4162, 214, 51, 140, 228]\n",
            "Expected length: 40, Actual length: 40\n",
            "Iteration: 40\r"
          ]
        },
        {
          "output_type": "stream",
          "name": "stderr",
          "text": [
            "/usr/local/lib/python3.10/dist-packages/botorch/models/utils/assorted.py:260: InputDataWarning: Data is not standardized (std = tensor([1.8451], dtype=torch.float64), mean = tensor([2.5323], dtype=torch.float64)). Please consider scaling the input to zero mean and unit variance.\n",
            "  check_standardization(Y=train_Y, raise_on_fail=raise_on_fail)\n"
          ]
        },
        {
          "output_type": "stream",
          "name": "stdout",
          "text": [
            "Iteration 40: Acquired MOF 126\n",
            "Acquired MOFs: [5479, 3375, 3070, 1418, 234, 3548, 2157, 6792, 5964, 1652, 313, 254, 222, 175, 185, 121, 47, 31, 202, 30, 17, 0, 39, 57, 9, 8, 12, 58, 6, 61, 13, 26, 364, 129, 43, 4162, 214, 51, 140, 228, 126]\n",
            "Expected length: 41, Actual length: 41\n",
            "Iteration: 41\r"
          ]
        },
        {
          "output_type": "stream",
          "name": "stderr",
          "text": [
            "/usr/local/lib/python3.10/dist-packages/botorch/models/utils/assorted.py:260: InputDataWarning: Data is not standardized (std = tensor([1.8243], dtype=torch.float64), mean = tensor([2.5468], dtype=torch.float64)). Please consider scaling the input to zero mean and unit variance.\n",
            "  check_standardization(Y=train_Y, raise_on_fail=raise_on_fail)\n"
          ]
        },
        {
          "output_type": "stream",
          "name": "stdout",
          "text": [
            "Iteration 41: Acquired MOF 75\n",
            "Acquired MOFs: [5479, 3375, 3070, 1418, 234, 3548, 2157, 6792, 5964, 1652, 313, 254, 222, 175, 185, 121, 47, 31, 202, 30, 17, 0, 39, 57, 9, 8, 12, 58, 6, 61, 13, 26, 364, 129, 43, 4162, 214, 51, 140, 228, 126, 75]\n",
            "Expected length: 42, Actual length: 42\n",
            "Iteration: 42\r"
          ]
        },
        {
          "output_type": "stream",
          "name": "stderr",
          "text": [
            "/usr/local/lib/python3.10/dist-packages/botorch/models/utils/assorted.py:260: InputDataWarning: Data is not standardized (std = tensor([1.8071], dtype=torch.float64), mean = tensor([2.5680], dtype=torch.float64)). Please consider scaling the input to zero mean and unit variance.\n",
            "  check_standardization(Y=train_Y, raise_on_fail=raise_on_fail)\n"
          ]
        },
        {
          "output_type": "stream",
          "name": "stdout",
          "text": [
            "Iteration 42: Acquired MOF 18\n",
            "Acquired MOFs: [5479, 3375, 3070, 1418, 234, 3548, 2157, 6792, 5964, 1652, 313, 254, 222, 175, 185, 121, 47, 31, 202, 30, 17, 0, 39, 57, 9, 8, 12, 58, 6, 61, 13, 26, 364, 129, 43, 4162, 214, 51, 140, 228, 126, 75, 18]\n",
            "Expected length: 43, Actual length: 43\n",
            "Iteration: 43\r"
          ]
        },
        {
          "output_type": "stream",
          "name": "stderr",
          "text": [
            "/usr/local/lib/python3.10/dist-packages/botorch/models/utils/assorted.py:260: InputDataWarning: Data is not standardized (std = tensor([1.8043], dtype=torch.float64), mean = tensor([2.6076], dtype=torch.float64)). Please consider scaling the input to zero mean and unit variance.\n",
            "  check_standardization(Y=train_Y, raise_on_fail=raise_on_fail)\n"
          ]
        },
        {
          "output_type": "stream",
          "name": "stdout",
          "text": [
            "Iteration 43: Acquired MOF 54\n",
            "Acquired MOFs: [5479, 3375, 3070, 1418, 234, 3548, 2157, 6792, 5964, 1652, 313, 254, 222, 175, 185, 121, 47, 31, 202, 30, 17, 0, 39, 57, 9, 8, 12, 58, 6, 61, 13, 26, 364, 129, 43, 4162, 214, 51, 140, 228, 126, 75, 18, 54]\n",
            "Expected length: 44, Actual length: 44\n",
            "Iteration: 44\r"
          ]
        },
        {
          "output_type": "stream",
          "name": "stderr",
          "text": [
            "/usr/local/lib/python3.10/dist-packages/botorch/models/utils/assorted.py:260: InputDataWarning: Data is not standardized (std = tensor([1.7906], dtype=torch.float64), mean = tensor([2.6323], dtype=torch.float64)). Please consider scaling the input to zero mean and unit variance.\n",
            "  check_standardization(Y=train_Y, raise_on_fail=raise_on_fail)\n"
          ]
        },
        {
          "output_type": "stream",
          "name": "stdout",
          "text": [
            "Iteration 44: Acquired MOF 224\n",
            "Acquired MOFs: [5479, 3375, 3070, 1418, 234, 3548, 2157, 6792, 5964, 1652, 313, 254, 222, 175, 185, 121, 47, 31, 202, 30, 17, 0, 39, 57, 9, 8, 12, 58, 6, 61, 13, 26, 364, 129, 43, 4162, 214, 51, 140, 228, 126, 75, 18, 54, 224]\n",
            "Expected length: 45, Actual length: 45\n",
            "Iteration: 45\r"
          ]
        },
        {
          "output_type": "stream",
          "name": "stderr",
          "text": [
            "/usr/local/lib/python3.10/dist-packages/botorch/models/utils/assorted.py:260: InputDataWarning: Data is not standardized (std = tensor([1.7703], dtype=torch.float64), mean = tensor([2.6289], dtype=torch.float64)). Please consider scaling the input to zero mean and unit variance.\n",
            "  check_standardization(Y=train_Y, raise_on_fail=raise_on_fail)\n"
          ]
        },
        {
          "output_type": "stream",
          "name": "stdout",
          "text": [
            "Iteration 45: Acquired MOF 168\n",
            "Acquired MOFs: [5479, 3375, 3070, 1418, 234, 3548, 2157, 6792, 5964, 1652, 313, 254, 222, 175, 185, 121, 47, 31, 202, 30, 17, 0, 39, 57, 9, 8, 12, 58, 6, 61, 13, 26, 364, 129, 43, 4162, 214, 51, 140, 228, 126, 75, 18, 54, 224, 168]\n",
            "Expected length: 46, Actual length: 46\n",
            "Iteration: 46\r"
          ]
        },
        {
          "output_type": "stream",
          "name": "stderr",
          "text": [
            "/usr/local/lib/python3.10/dist-packages/botorch/models/utils/assorted.py:260: InputDataWarning: Data is not standardized (std = tensor([1.7508], dtype=torch.float64), mean = tensor([2.6334], dtype=torch.float64)). Please consider scaling the input to zero mean and unit variance.\n",
            "  check_standardization(Y=train_Y, raise_on_fail=raise_on_fail)\n"
          ]
        },
        {
          "output_type": "stream",
          "name": "stdout",
          "text": [
            "Iteration 46: Acquired MOF 105\n",
            "Acquired MOFs: [5479, 3375, 3070, 1418, 234, 3548, 2157, 6792, 5964, 1652, 313, 254, 222, 175, 185, 121, 47, 31, 202, 30, 17, 0, 39, 57, 9, 8, 12, 58, 6, 61, 13, 26, 364, 129, 43, 4162, 214, 51, 140, 228, 126, 75, 18, 54, 224, 168, 105]\n",
            "Expected length: 47, Actual length: 47\n",
            "Iteration: 47\r"
          ]
        },
        {
          "output_type": "stream",
          "name": "stderr",
          "text": [
            "/usr/local/lib/python3.10/dist-packages/botorch/models/utils/assorted.py:260: InputDataWarning: Data is not standardized (std = tensor([1.7338], dtype=torch.float64), mean = tensor([2.6460], dtype=torch.float64)). Please consider scaling the input to zero mean and unit variance.\n",
            "  check_standardization(Y=train_Y, raise_on_fail=raise_on_fail)\n"
          ]
        },
        {
          "output_type": "stream",
          "name": "stdout",
          "text": [
            "Iteration 47: Acquired MOF 104\n",
            "Acquired MOFs: [5479, 3375, 3070, 1418, 234, 3548, 2157, 6792, 5964, 1652, 313, 254, 222, 175, 185, 121, 47, 31, 202, 30, 17, 0, 39, 57, 9, 8, 12, 58, 6, 61, 13, 26, 364, 129, 43, 4162, 214, 51, 140, 228, 126, 75, 18, 54, 224, 168, 105, 104]\n",
            "Expected length: 48, Actual length: 48\n",
            "Iteration: 48\r"
          ]
        },
        {
          "output_type": "stream",
          "name": "stderr",
          "text": [
            "/usr/local/lib/python3.10/dist-packages/botorch/models/utils/assorted.py:260: InputDataWarning: Data is not standardized (std = tensor([1.7173], dtype=torch.float64), mean = tensor([2.6582], dtype=torch.float64)). Please consider scaling the input to zero mean and unit variance.\n",
            "  check_standardization(Y=train_Y, raise_on_fail=raise_on_fail)\n"
          ]
        },
        {
          "output_type": "stream",
          "name": "stdout",
          "text": [
            "Iteration 48: Acquired MOF 40\n",
            "Acquired MOFs: [5479, 3375, 3070, 1418, 234, 3548, 2157, 6792, 5964, 1652, 313, 254, 222, 175, 185, 121, 47, 31, 202, 30, 17, 0, 39, 57, 9, 8, 12, 58, 6, 61, 13, 26, 364, 129, 43, 4162, 214, 51, 140, 228, 126, 75, 18, 54, 224, 168, 105, 104, 40]\n",
            "Expected length: 49, Actual length: 49\n",
            "Iteration: 49\r"
          ]
        },
        {
          "output_type": "stream",
          "name": "stderr",
          "text": [
            "/usr/local/lib/python3.10/dist-packages/botorch/models/utils/assorted.py:260: InputDataWarning: Data is not standardized (std = tensor([1.7071], dtype=torch.float64), mean = tensor([2.6813], dtype=torch.float64)). Please consider scaling the input to zero mean and unit variance.\n",
            "  check_standardization(Y=train_Y, raise_on_fail=raise_on_fail)\n"
          ]
        },
        {
          "output_type": "stream",
          "name": "stdout",
          "text": [
            "Iteration 49: Acquired MOF 82\n",
            "Acquired MOFs: [5479, 3375, 3070, 1418, 234, 3548, 2157, 6792, 5964, 1652, 313, 254, 222, 175, 185, 121, 47, 31, 202, 30, 17, 0, 39, 57, 9, 8, 12, 58, 6, 61, 13, 26, 364, 129, 43, 4162, 214, 51, 140, 228, 126, 75, 18, 54, 224, 168, 105, 104, 40, 82]\n",
            "Expected length: 50, Actual length: 50\n",
            "Iteration: 50\r"
          ]
        },
        {
          "output_type": "stream",
          "name": "stderr",
          "text": [
            "/usr/local/lib/python3.10/dist-packages/botorch/models/utils/assorted.py:260: InputDataWarning: Data is not standardized (std = tensor([1.6935], dtype=torch.float64), mean = tensor([2.6976], dtype=torch.float64)). Please consider scaling the input to zero mean and unit variance.\n",
            "  check_standardization(Y=train_Y, raise_on_fail=raise_on_fail)\n"
          ]
        },
        {
          "output_type": "stream",
          "name": "stdout",
          "text": [
            "Iteration 50: Acquired MOF 204\n",
            "Acquired MOFs: [5479, 3375, 3070, 1418, 234, 3548, 2157, 6792, 5964, 1652, 313, 254, 222, 175, 185, 121, 47, 31, 202, 30, 17, 0, 39, 57, 9, 8, 12, 58, 6, 61, 13, 26, 364, 129, 43, 4162, 214, 51, 140, 228, 126, 75, 18, 54, 224, 168, 105, 104, 40, 82, 204]\n",
            "Expected length: 51, Actual length: 51\n",
            "Iteration: 51\r"
          ]
        },
        {
          "output_type": "stream",
          "name": "stderr",
          "text": [
            "/usr/local/lib/python3.10/dist-packages/botorch/models/utils/assorted.py:260: InputDataWarning: Data is not standardized (std = tensor([1.6768], dtype=torch.float64), mean = tensor([2.6926], dtype=torch.float64)). Please consider scaling the input to zero mean and unit variance.\n",
            "  check_standardization(Y=train_Y, raise_on_fail=raise_on_fail)\n"
          ]
        },
        {
          "output_type": "stream",
          "name": "stdout",
          "text": [
            "Iteration 51: Acquired MOF 177\n",
            "Acquired MOFs: [5479, 3375, 3070, 1418, 234, 3548, 2157, 6792, 5964, 1652, 313, 254, 222, 175, 185, 121, 47, 31, 202, 30, 17, 0, 39, 57, 9, 8, 12, 58, 6, 61, 13, 26, 364, 129, 43, 4162, 214, 51, 140, 228, 126, 75, 18, 54, 224, 168, 105, 104, 40, 82, 204, 177]\n",
            "Expected length: 52, Actual length: 52\n",
            "Iteration: 52\r"
          ]
        },
        {
          "output_type": "stream",
          "name": "stderr",
          "text": [
            "/usr/local/lib/python3.10/dist-packages/botorch/models/utils/assorted.py:260: InputDataWarning: Data is not standardized (std = tensor([1.6603], dtype=torch.float64), mean = tensor([2.6920], dtype=torch.float64)). Please consider scaling the input to zero mean and unit variance.\n",
            "  check_standardization(Y=train_Y, raise_on_fail=raise_on_fail)\n"
          ]
        },
        {
          "output_type": "stream",
          "name": "stdout",
          "text": [
            "Iteration 52: Acquired MOF 149\n",
            "Acquired MOFs: [5479, 3375, 3070, 1418, 234, 3548, 2157, 6792, 5964, 1652, 313, 254, 222, 175, 185, 121, 47, 31, 202, 30, 17, 0, 39, 57, 9, 8, 12, 58, 6, 61, 13, 26, 364, 129, 43, 4162, 214, 51, 140, 228, 126, 75, 18, 54, 224, 168, 105, 104, 40, 82, 204, 177, 149]\n",
            "Expected length: 53, Actual length: 53\n",
            "Iteration: 53\r"
          ]
        },
        {
          "output_type": "stream",
          "name": "stderr",
          "text": [
            "/usr/local/lib/python3.10/dist-packages/botorch/models/utils/assorted.py:260: InputDataWarning: Data is not standardized (std = tensor([1.6447], dtype=torch.float64), mean = tensor([2.6973], dtype=torch.float64)). Please consider scaling the input to zero mean and unit variance.\n",
            "  check_standardization(Y=train_Y, raise_on_fail=raise_on_fail)\n"
          ]
        },
        {
          "output_type": "stream",
          "name": "stdout",
          "text": [
            "Iteration 53: Acquired MOF 320\n",
            "Acquired MOFs: [5479, 3375, 3070, 1418, 234, 3548, 2157, 6792, 5964, 1652, 313, 254, 222, 175, 185, 121, 47, 31, 202, 30, 17, 0, 39, 57, 9, 8, 12, 58, 6, 61, 13, 26, 364, 129, 43, 4162, 214, 51, 140, 228, 126, 75, 18, 54, 224, 168, 105, 104, 40, 82, 204, 177, 149, 320]\n",
            "Expected length: 54, Actual length: 54\n",
            "Iteration: 54\r"
          ]
        },
        {
          "output_type": "stream",
          "name": "stderr",
          "text": [
            "/usr/local/lib/python3.10/dist-packages/botorch/models/utils/assorted.py:260: InputDataWarning: Data is not standardized (std = tensor([1.6313], dtype=torch.float64), mean = tensor([2.6860], dtype=torch.float64)). Please consider scaling the input to zero mean and unit variance.\n",
            "  check_standardization(Y=train_Y, raise_on_fail=raise_on_fail)\n"
          ]
        },
        {
          "output_type": "stream",
          "name": "stdout",
          "text": [
            "Iteration 54: Acquired MOF 315\n",
            "Acquired MOFs: [5479, 3375, 3070, 1418, 234, 3548, 2157, 6792, 5964, 1652, 313, 254, 222, 175, 185, 121, 47, 31, 202, 30, 17, 0, 39, 57, 9, 8, 12, 58, 6, 61, 13, 26, 364, 129, 43, 4162, 214, 51, 140, 228, 126, 75, 18, 54, 224, 168, 105, 104, 40, 82, 204, 177, 149, 320, 315]\n",
            "Expected length: 55, Actual length: 55\n",
            "Iteration: 55\r"
          ]
        },
        {
          "output_type": "stream",
          "name": "stderr",
          "text": [
            "/usr/local/lib/python3.10/dist-packages/botorch/models/utils/assorted.py:260: InputDataWarning: Data is not standardized (std = tensor([1.6182], dtype=torch.float64), mean = tensor([2.6750], dtype=torch.float64)). Please consider scaling the input to zero mean and unit variance.\n",
            "  check_standardization(Y=train_Y, raise_on_fail=raise_on_fail)\n"
          ]
        },
        {
          "output_type": "stream",
          "name": "stdout",
          "text": [
            "Iteration 55: Acquired MOF 6009\n",
            "Acquired MOFs: [5479, 3375, 3070, 1418, 234, 3548, 2157, 6792, 5964, 1652, 313, 254, 222, 175, 185, 121, 47, 31, 202, 30, 17, 0, 39, 57, 9, 8, 12, 58, 6, 61, 13, 26, 364, 129, 43, 4162, 214, 51, 140, 228, 126, 75, 18, 54, 224, 168, 105, 104, 40, 82, 204, 177, 149, 320, 315, 6009]\n",
            "Expected length: 56, Actual length: 56\n",
            "Iteration: 56\r"
          ]
        },
        {
          "output_type": "stream",
          "name": "stderr",
          "text": [
            "/usr/local/lib/python3.10/dist-packages/botorch/models/utils/assorted.py:260: InputDataWarning: Data is not standardized (std = tensor([1.6765], dtype=torch.float64), mean = tensor([2.6095], dtype=torch.float64)). Please consider scaling the input to zero mean and unit variance.\n",
            "  check_standardization(Y=train_Y, raise_on_fail=raise_on_fail)\n"
          ]
        },
        {
          "output_type": "stream",
          "name": "stdout",
          "text": [
            "Iteration 56: Acquired MOF 273\n",
            "Acquired MOFs: [5479, 3375, 3070, 1418, 234, 3548, 2157, 6792, 5964, 1652, 313, 254, 222, 175, 185, 121, 47, 31, 202, 30, 17, 0, 39, 57, 9, 8, 12, 58, 6, 61, 13, 26, 364, 129, 43, 4162, 214, 51, 140, 228, 126, 75, 18, 54, 224, 168, 105, 104, 40, 82, 204, 177, 149, 320, 315, 6009, 273]\n",
            "Expected length: 57, Actual length: 57\n",
            "Iteration: 57\r"
          ]
        },
        {
          "output_type": "stream",
          "name": "stderr",
          "text": [
            "/usr/local/lib/python3.10/dist-packages/botorch/models/utils/assorted.py:260: InputDataWarning: Data is not standardized (std = tensor([1.6621], dtype=torch.float64), mean = tensor([2.6034], dtype=torch.float64)). Please consider scaling the input to zero mean and unit variance.\n",
            "  check_standardization(Y=train_Y, raise_on_fail=raise_on_fail)\n"
          ]
        },
        {
          "output_type": "stream",
          "name": "stdout",
          "text": [
            "Iteration 57: Acquired MOF 379\n",
            "Acquired MOFs: [5479, 3375, 3070, 1418, 234, 3548, 2157, 6792, 5964, 1652, 313, 254, 222, 175, 185, 121, 47, 31, 202, 30, 17, 0, 39, 57, 9, 8, 12, 58, 6, 61, 13, 26, 364, 129, 43, 4162, 214, 51, 140, 228, 126, 75, 18, 54, 224, 168, 105, 104, 40, 82, 204, 177, 149, 320, 315, 6009, 273, 379]\n",
            "Expected length: 58, Actual length: 58\n",
            "Iteration: 58\r"
          ]
        },
        {
          "output_type": "stream",
          "name": "stderr",
          "text": [
            "/usr/local/lib/python3.10/dist-packages/botorch/models/utils/assorted.py:260: InputDataWarning: Data is not standardized (std = tensor([1.6508], dtype=torch.float64), mean = tensor([2.5897], dtype=torch.float64)). Please consider scaling the input to zero mean and unit variance.\n",
            "  check_standardization(Y=train_Y, raise_on_fail=raise_on_fail)\n"
          ]
        },
        {
          "output_type": "stream",
          "name": "stdout",
          "text": [
            "Iteration 58: Acquired MOF 45\n",
            "Acquired MOFs: [5479, 3375, 3070, 1418, 234, 3548, 2157, 6792, 5964, 1652, 313, 254, 222, 175, 185, 121, 47, 31, 202, 30, 17, 0, 39, 57, 9, 8, 12, 58, 6, 61, 13, 26, 364, 129, 43, 4162, 214, 51, 140, 228, 126, 75, 18, 54, 224, 168, 105, 104, 40, 82, 204, 177, 149, 320, 315, 6009, 273, 379, 45]\n",
            "Expected length: 59, Actual length: 59\n",
            "Iteration: 59\r"
          ]
        },
        {
          "output_type": "stream",
          "name": "stderr",
          "text": [
            "/usr/local/lib/python3.10/dist-packages/botorch/models/utils/assorted.py:260: InputDataWarning: Data is not standardized (std = tensor([1.6439], dtype=torch.float64), mean = tensor([2.6099], dtype=torch.float64)). Please consider scaling the input to zero mean and unit variance.\n",
            "  check_standardization(Y=train_Y, raise_on_fail=raise_on_fail)\n"
          ]
        },
        {
          "output_type": "stream",
          "name": "stdout",
          "text": [
            "Iteration 59: Acquired MOF 2493\n",
            "Acquired MOFs: [5479, 3375, 3070, 1418, 234, 3548, 2157, 6792, 5964, 1652, 313, 254, 222, 175, 185, 121, 47, 31, 202, 30, 17, 0, 39, 57, 9, 8, 12, 58, 6, 61, 13, 26, 364, 129, 43, 4162, 214, 51, 140, 228, 126, 75, 18, 54, 224, 168, 105, 104, 40, 82, 204, 177, 149, 320, 315, 6009, 273, 379, 45, 2493]\n",
            "Expected length: 60, Actual length: 60\n",
            "Iteration: 60\r"
          ]
        },
        {
          "output_type": "stream",
          "name": "stderr",
          "text": [
            "/usr/local/lib/python3.10/dist-packages/botorch/models/utils/assorted.py:260: InputDataWarning: Data is not standardized (std = tensor([1.6600], dtype=torch.float64), mean = tensor([2.5692], dtype=torch.float64)). Please consider scaling the input to zero mean and unit variance.\n",
            "  check_standardization(Y=train_Y, raise_on_fail=raise_on_fail)\n"
          ]
        },
        {
          "output_type": "stream",
          "name": "stdout",
          "text": [
            "Iteration 60: Acquired MOF 11\n",
            "Acquired MOFs: [5479, 3375, 3070, 1418, 234, 3548, 2157, 6792, 5964, 1652, 313, 254, 222, 175, 185, 121, 47, 31, 202, 30, 17, 0, 39, 57, 9, 8, 12, 58, 6, 61, 13, 26, 364, 129, 43, 4162, 214, 51, 140, 228, 126, 75, 18, 54, 224, 168, 105, 104, 40, 82, 204, 177, 149, 320, 315, 6009, 273, 379, 45, 2493, 11]\n",
            "Expected length: 61, Actual length: 61\n",
            "Iteration: 61\r"
          ]
        },
        {
          "output_type": "stream",
          "name": "stderr",
          "text": [
            "/usr/local/lib/python3.10/dist-packages/botorch/models/utils/assorted.py:260: InputDataWarning: Data is not standardized (std = tensor([1.6623], dtype=torch.float64), mean = tensor([2.5988], dtype=torch.float64)). Please consider scaling the input to zero mean and unit variance.\n",
            "  check_standardization(Y=train_Y, raise_on_fail=raise_on_fail)\n"
          ]
        },
        {
          "output_type": "stream",
          "name": "stdout",
          "text": [
            "Iteration 61: Acquired MOF 1149\n",
            "Acquired MOFs: [5479, 3375, 3070, 1418, 234, 3548, 2157, 6792, 5964, 1652, 313, 254, 222, 175, 185, 121, 47, 31, 202, 30, 17, 0, 39, 57, 9, 8, 12, 58, 6, 61, 13, 26, 364, 129, 43, 4162, 214, 51, 140, 228, 126, 75, 18, 54, 224, 168, 105, 104, 40, 82, 204, 177, 149, 320, 315, 6009, 273, 379, 45, 2493, 11, 1149]\n",
            "Expected length: 62, Actual length: 62\n",
            "Iteration: 62\r"
          ]
        },
        {
          "output_type": "stream",
          "name": "stderr",
          "text": [
            "/usr/local/lib/python3.10/dist-packages/botorch/models/utils/assorted.py:260: InputDataWarning: Data is not standardized (std = tensor([1.6631], dtype=torch.float64), mean = tensor([2.5710], dtype=torch.float64)). Please consider scaling the input to zero mean and unit variance.\n",
            "  check_standardization(Y=train_Y, raise_on_fail=raise_on_fail)\n"
          ]
        },
        {
          "output_type": "stream",
          "name": "stdout",
          "text": [
            "Iteration 62: Acquired MOF 80\n",
            "Acquired MOFs: [5479, 3375, 3070, 1418, 234, 3548, 2157, 6792, 5964, 1652, 313, 254, 222, 175, 185, 121, 47, 31, 202, 30, 17, 0, 39, 57, 9, 8, 12, 58, 6, 61, 13, 26, 364, 129, 43, 4162, 214, 51, 140, 228, 126, 75, 18, 54, 224, 168, 105, 104, 40, 82, 204, 177, 149, 320, 315, 6009, 273, 379, 45, 2493, 11, 1149, 80]\n",
            "Expected length: 63, Actual length: 63\n",
            "Iteration: 63\r"
          ]
        },
        {
          "output_type": "stream",
          "name": "stderr",
          "text": [
            "/usr/local/lib/python3.10/dist-packages/botorch/models/utils/assorted.py:260: InputDataWarning: Data is not standardized (std = tensor([1.6535], dtype=torch.float64), mean = tensor([2.5854], dtype=torch.float64)). Please consider scaling the input to zero mean and unit variance.\n",
            "  check_standardization(Y=train_Y, raise_on_fail=raise_on_fail)\n"
          ]
        },
        {
          "output_type": "stream",
          "name": "stdout",
          "text": [
            "Iteration 63: Acquired MOF 28\n",
            "Acquired MOFs: [5479, 3375, 3070, 1418, 234, 3548, 2157, 6792, 5964, 1652, 313, 254, 222, 175, 185, 121, 47, 31, 202, 30, 17, 0, 39, 57, 9, 8, 12, 58, 6, 61, 13, 26, 364, 129, 43, 4162, 214, 51, 140, 228, 126, 75, 18, 54, 224, 168, 105, 104, 40, 82, 204, 177, 149, 320, 315, 6009, 273, 379, 45, 2493, 11, 1149, 80, 28]\n",
            "Expected length: 64, Actual length: 64\n",
            "Iteration: 64\r"
          ]
        },
        {
          "output_type": "stream",
          "name": "stderr",
          "text": [
            "/usr/local/lib/python3.10/dist-packages/botorch/models/utils/assorted.py:260: InputDataWarning: Data is not standardized (std = tensor([1.6503], dtype=torch.float64), mean = tensor([2.6079], dtype=torch.float64)). Please consider scaling the input to zero mean and unit variance.\n",
            "  check_standardization(Y=train_Y, raise_on_fail=raise_on_fail)\n"
          ]
        },
        {
          "output_type": "stream",
          "name": "stdout",
          "text": [
            "Iteration 64: Acquired MOF 131\n",
            "Acquired MOFs: [5479, 3375, 3070, 1418, 234, 3548, 2157, 6792, 5964, 1652, 313, 254, 222, 175, 185, 121, 47, 31, 202, 30, 17, 0, 39, 57, 9, 8, 12, 58, 6, 61, 13, 26, 364, 129, 43, 4162, 214, 51, 140, 228, 126, 75, 18, 54, 224, 168, 105, 104, 40, 82, 204, 177, 149, 320, 315, 6009, 273, 379, 45, 2493, 11, 1149, 80, 28, 131]\n",
            "Expected length: 65, Actual length: 65\n",
            "Iteration: 65\r"
          ]
        },
        {
          "output_type": "stream",
          "name": "stderr",
          "text": [
            "/usr/local/lib/python3.10/dist-packages/botorch/models/utils/assorted.py:260: InputDataWarning: Data is not standardized (std = tensor([1.6379], dtype=torch.float64), mean = tensor([2.6135], dtype=torch.float64)). Please consider scaling the input to zero mean and unit variance.\n",
            "  check_standardization(Y=train_Y, raise_on_fail=raise_on_fail)\n"
          ]
        },
        {
          "output_type": "stream",
          "name": "stdout",
          "text": [
            "Iteration 65: Acquired MOF 1715\n",
            "Acquired MOFs: [5479, 3375, 3070, 1418, 234, 3548, 2157, 6792, 5964, 1652, 313, 254, 222, 175, 185, 121, 47, 31, 202, 30, 17, 0, 39, 57, 9, 8, 12, 58, 6, 61, 13, 26, 364, 129, 43, 4162, 214, 51, 140, 228, 126, 75, 18, 54, 224, 168, 105, 104, 40, 82, 204, 177, 149, 320, 315, 6009, 273, 379, 45, 2493, 11, 1149, 80, 28, 131, 1715]\n",
            "Expected length: 66, Actual length: 66\n",
            "Iteration: 66\r"
          ]
        },
        {
          "output_type": "stream",
          "name": "stderr",
          "text": [
            "/usr/local/lib/python3.10/dist-packages/botorch/models/utils/assorted.py:260: InputDataWarning: Data is not standardized (std = tensor([1.6463], dtype=torch.float64), mean = tensor([2.5812], dtype=torch.float64)). Please consider scaling the input to zero mean and unit variance.\n",
            "  check_standardization(Y=train_Y, raise_on_fail=raise_on_fail)\n"
          ]
        },
        {
          "output_type": "stream",
          "name": "stdout",
          "text": [
            "Iteration 66: Acquired MOF 223\n",
            "Acquired MOFs: [5479, 3375, 3070, 1418, 234, 3548, 2157, 6792, 5964, 1652, 313, 254, 222, 175, 185, 121, 47, 31, 202, 30, 17, 0, 39, 57, 9, 8, 12, 58, 6, 61, 13, 26, 364, 129, 43, 4162, 214, 51, 140, 228, 126, 75, 18, 54, 224, 168, 105, 104, 40, 82, 204, 177, 149, 320, 315, 6009, 273, 379, 45, 2493, 11, 1149, 80, 28, 131, 1715, 223]\n",
            "Expected length: 67, Actual length: 67\n",
            "Iteration: 67\r"
          ]
        },
        {
          "output_type": "stream",
          "name": "stderr",
          "text": [
            "/usr/local/lib/python3.10/dist-packages/botorch/models/utils/assorted.py:260: InputDataWarning: Data is not standardized (std = tensor([1.6340], dtype=torch.float64), mean = tensor([2.5774], dtype=torch.float64)). Please consider scaling the input to zero mean and unit variance.\n",
            "  check_standardization(Y=train_Y, raise_on_fail=raise_on_fail)\n"
          ]
        },
        {
          "output_type": "stream",
          "name": "stdout",
          "text": [
            "Iteration 67: Acquired MOF 19\n",
            "Acquired MOFs: [5479, 3375, 3070, 1418, 234, 3548, 2157, 6792, 5964, 1652, 313, 254, 222, 175, 185, 121, 47, 31, 202, 30, 17, 0, 39, 57, 9, 8, 12, 58, 6, 61, 13, 26, 364, 129, 43, 4162, 214, 51, 140, 228, 126, 75, 18, 54, 224, 168, 105, 104, 40, 82, 204, 177, 149, 320, 315, 6009, 273, 379, 45, 2493, 11, 1149, 80, 28, 131, 1715, 223, 19]\n",
            "Expected length: 68, Actual length: 68\n",
            "Iteration: 68\r"
          ]
        },
        {
          "output_type": "stream",
          "name": "stderr",
          "text": [
            "/usr/local/lib/python3.10/dist-packages/botorch/models/utils/assorted.py:260: InputDataWarning: Data is not standardized (std = tensor([1.6346], dtype=torch.float64), mean = tensor([2.6022], dtype=torch.float64)). Please consider scaling the input to zero mean and unit variance.\n",
            "  check_standardization(Y=train_Y, raise_on_fail=raise_on_fail)\n"
          ]
        },
        {
          "output_type": "stream",
          "name": "stdout",
          "text": [
            "Iteration 68: Acquired MOF 103\n",
            "Acquired MOFs: [5479, 3375, 3070, 1418, 234, 3548, 2157, 6792, 5964, 1652, 313, 254, 222, 175, 185, 121, 47, 31, 202, 30, 17, 0, 39, 57, 9, 8, 12, 58, 6, 61, 13, 26, 364, 129, 43, 4162, 214, 51, 140, 228, 126, 75, 18, 54, 224, 168, 105, 104, 40, 82, 204, 177, 149, 320, 315, 6009, 273, 379, 45, 2493, 11, 1149, 80, 28, 131, 1715, 223, 19, 103]\n",
            "Expected length: 69, Actual length: 69\n",
            "Iteration: 69\r"
          ]
        },
        {
          "output_type": "stream",
          "name": "stderr",
          "text": [
            "/usr/local/lib/python3.10/dist-packages/botorch/models/utils/assorted.py:260: InputDataWarning: Data is not standardized (std = tensor([1.6251], dtype=torch.float64), mean = tensor([2.6131], dtype=torch.float64)). Please consider scaling the input to zero mean and unit variance.\n",
            "  check_standardization(Y=train_Y, raise_on_fail=raise_on_fail)\n"
          ]
        },
        {
          "output_type": "stream",
          "name": "stdout",
          "text": [
            "Iteration 69: Acquired MOF 64\n",
            "Acquired MOFs: [5479, 3375, 3070, 1418, 234, 3548, 2157, 6792, 5964, 1652, 313, 254, 222, 175, 185, 121, 47, 31, 202, 30, 17, 0, 39, 57, 9, 8, 12, 58, 6, 61, 13, 26, 364, 129, 43, 4162, 214, 51, 140, 228, 126, 75, 18, 54, 224, 168, 105, 104, 40, 82, 204, 177, 149, 320, 315, 6009, 273, 379, 45, 2493, 11, 1149, 80, 28, 131, 1715, 223, 19, 103, 64]\n",
            "Expected length: 70, Actual length: 70\n",
            "Iteration: 70\r"
          ]
        },
        {
          "output_type": "stream",
          "name": "stderr",
          "text": [
            "/usr/local/lib/python3.10/dist-packages/botorch/models/utils/assorted.py:260: InputDataWarning: Data is not standardized (std = tensor([1.6176], dtype=torch.float64), mean = tensor([2.6272], dtype=torch.float64)). Please consider scaling the input to zero mean and unit variance.\n",
            "  check_standardization(Y=train_Y, raise_on_fail=raise_on_fail)\n"
          ]
        },
        {
          "output_type": "stream",
          "name": "stdout",
          "text": [
            "Iteration 70: Acquired MOF 86\n",
            "Acquired MOFs: [5479, 3375, 3070, 1418, 234, 3548, 2157, 6792, 5964, 1652, 313, 254, 222, 175, 185, 121, 47, 31, 202, 30, 17, 0, 39, 57, 9, 8, 12, 58, 6, 61, 13, 26, 364, 129, 43, 4162, 214, 51, 140, 228, 126, 75, 18, 54, 224, 168, 105, 104, 40, 82, 204, 177, 149, 320, 315, 6009, 273, 379, 45, 2493, 11, 1149, 80, 28, 131, 1715, 223, 19, 103, 64, 86]\n",
            "Expected length: 71, Actual length: 71\n",
            "Iteration: 71\r"
          ]
        },
        {
          "output_type": "stream",
          "name": "stderr",
          "text": [
            "/usr/local/lib/python3.10/dist-packages/botorch/models/utils/assorted.py:260: InputDataWarning: Data is not standardized (std = tensor([1.6098], dtype=torch.float64), mean = tensor([2.6405], dtype=torch.float64)). Please consider scaling the input to zero mean and unit variance.\n",
            "  check_standardization(Y=train_Y, raise_on_fail=raise_on_fail)\n"
          ]
        },
        {
          "output_type": "stream",
          "name": "stdout",
          "text": [
            "Iteration 71: Acquired MOF 319\n",
            "Acquired MOFs: [5479, 3375, 3070, 1418, 234, 3548, 2157, 6792, 5964, 1652, 313, 254, 222, 175, 185, 121, 47, 31, 202, 30, 17, 0, 39, 57, 9, 8, 12, 58, 6, 61, 13, 26, 364, 129, 43, 4162, 214, 51, 140, 228, 126, 75, 18, 54, 224, 168, 105, 104, 40, 82, 204, 177, 149, 320, 315, 6009, 273, 379, 45, 2493, 11, 1149, 80, 28, 131, 1715, 223, 19, 103, 64, 86, 319]\n",
            "Expected length: 72, Actual length: 72\n",
            "Iteration: 72\r"
          ]
        },
        {
          "output_type": "stream",
          "name": "stderr",
          "text": [
            "/usr/local/lib/python3.10/dist-packages/botorch/models/utils/assorted.py:260: InputDataWarning: Data is not standardized (std = tensor([1.5996], dtype=torch.float64), mean = tensor([2.6333], dtype=torch.float64)). Please consider scaling the input to zero mean and unit variance.\n",
            "  check_standardization(Y=train_Y, raise_on_fail=raise_on_fail)\n"
          ]
        },
        {
          "output_type": "stream",
          "name": "stdout",
          "text": [
            "Iteration 72: Acquired MOF 78\n",
            "Acquired MOFs: [5479, 3375, 3070, 1418, 234, 3548, 2157, 6792, 5964, 1652, 313, 254, 222, 175, 185, 121, 47, 31, 202, 30, 17, 0, 39, 57, 9, 8, 12, 58, 6, 61, 13, 26, 364, 129, 43, 4162, 214, 51, 140, 228, 126, 75, 18, 54, 224, 168, 105, 104, 40, 82, 204, 177, 149, 320, 315, 6009, 273, 379, 45, 2493, 11, 1149, 80, 28, 131, 1715, 223, 19, 103, 64, 86, 319, 78]\n",
            "Expected length: 73, Actual length: 73\n",
            "Iteration: 73\r"
          ]
        },
        {
          "output_type": "stream",
          "name": "stderr",
          "text": [
            "/usr/local/lib/python3.10/dist-packages/botorch/models/utils/assorted.py:260: InputDataWarning: Data is not standardized (std = tensor([1.5925], dtype=torch.float64), mean = tensor([2.6465], dtype=torch.float64)). Please consider scaling the input to zero mean and unit variance.\n",
            "  check_standardization(Y=train_Y, raise_on_fail=raise_on_fail)\n"
          ]
        },
        {
          "output_type": "stream",
          "name": "stdout",
          "text": [
            "Iteration 73: Acquired MOF 453\n",
            "Acquired MOFs: [5479, 3375, 3070, 1418, 234, 3548, 2157, 6792, 5964, 1652, 313, 254, 222, 175, 185, 121, 47, 31, 202, 30, 17, 0, 39, 57, 9, 8, 12, 58, 6, 61, 13, 26, 364, 129, 43, 4162, 214, 51, 140, 228, 126, 75, 18, 54, 224, 168, 105, 104, 40, 82, 204, 177, 149, 320, 315, 6009, 273, 379, 45, 2493, 11, 1149, 80, 28, 131, 1715, 223, 19, 103, 64, 86, 319, 78, 453]\n",
            "Expected length: 74, Actual length: 74\n",
            "Iteration: 74\r"
          ]
        },
        {
          "output_type": "stream",
          "name": "stderr",
          "text": [
            "/usr/local/lib/python3.10/dist-packages/botorch/models/utils/assorted.py:260: InputDataWarning: Data is not standardized (std = tensor([1.5851], dtype=torch.float64), mean = tensor([2.6342], dtype=torch.float64)). Please consider scaling the input to zero mean and unit variance.\n",
            "  check_standardization(Y=train_Y, raise_on_fail=raise_on_fail)\n"
          ]
        },
        {
          "output_type": "stream",
          "name": "stdout",
          "text": [
            "Iteration 74: Acquired MOF 15\n",
            "Acquired MOFs: [5479, 3375, 3070, 1418, 234, 3548, 2157, 6792, 5964, 1652, 313, 254, 222, 175, 185, 121, 47, 31, 202, 30, 17, 0, 39, 57, 9, 8, 12, 58, 6, 61, 13, 26, 364, 129, 43, 4162, 214, 51, 140, 228, 126, 75, 18, 54, 224, 168, 105, 104, 40, 82, 204, 177, 149, 320, 315, 6009, 273, 379, 45, 2493, 11, 1149, 80, 28, 131, 1715, 223, 19, 103, 64, 86, 319, 78, 453, 15]\n",
            "Expected length: 75, Actual length: 75\n",
            "Iteration: 75\r"
          ]
        },
        {
          "output_type": "stream",
          "name": "stderr",
          "text": [
            "/usr/local/lib/python3.10/dist-packages/botorch/models/utils/assorted.py:260: InputDataWarning: Data is not standardized (std = tensor([1.5856], dtype=torch.float64), mean = tensor([2.6560], dtype=torch.float64)). Please consider scaling the input to zero mean and unit variance.\n",
            "  check_standardization(Y=train_Y, raise_on_fail=raise_on_fail)\n"
          ]
        },
        {
          "output_type": "stream",
          "name": "stdout",
          "text": [
            "Iteration 75: Acquired MOF 518\n",
            "Acquired MOFs: [5479, 3375, 3070, 1418, 234, 3548, 2157, 6792, 5964, 1652, 313, 254, 222, 175, 185, 121, 47, 31, 202, 30, 17, 0, 39, 57, 9, 8, 12, 58, 6, 61, 13, 26, 364, 129, 43, 4162, 214, 51, 140, 228, 126, 75, 18, 54, 224, 168, 105, 104, 40, 82, 204, 177, 149, 320, 315, 6009, 273, 379, 45, 2493, 11, 1149, 80, 28, 131, 1715, 223, 19, 103, 64, 86, 319, 78, 453, 15, 518]\n",
            "Expected length: 76, Actual length: 76\n",
            "Iteration: 76\r"
          ]
        },
        {
          "output_type": "stream",
          "name": "stderr",
          "text": [
            "/usr/local/lib/python3.10/dist-packages/botorch/models/utils/assorted.py:260: InputDataWarning: Data is not standardized (std = tensor([1.5794], dtype=torch.float64), mean = tensor([2.6425], dtype=torch.float64)). Please consider scaling the input to zero mean and unit variance.\n",
            "  check_standardization(Y=train_Y, raise_on_fail=raise_on_fail)\n"
          ]
        },
        {
          "output_type": "stream",
          "name": "stdout",
          "text": [
            "Iteration 76: Acquired MOF 216\n",
            "Acquired MOFs: [5479, 3375, 3070, 1418, 234, 3548, 2157, 6792, 5964, 1652, 313, 254, 222, 175, 185, 121, 47, 31, 202, 30, 17, 0, 39, 57, 9, 8, 12, 58, 6, 61, 13, 26, 364, 129, 43, 4162, 214, 51, 140, 228, 126, 75, 18, 54, 224, 168, 105, 104, 40, 82, 204, 177, 149, 320, 315, 6009, 273, 379, 45, 2493, 11, 1149, 80, 28, 131, 1715, 223, 19, 103, 64, 86, 319, 78, 453, 15, 518, 216]\n",
            "Expected length: 77, Actual length: 77\n",
            "Iteration: 77\r"
          ]
        },
        {
          "output_type": "stream",
          "name": "stderr",
          "text": [
            "/usr/local/lib/python3.10/dist-packages/botorch/models/utils/assorted.py:260: InputDataWarning: Data is not standardized (std = tensor([1.5690], dtype=torch.float64), mean = tensor([2.6412], dtype=torch.float64)). Please consider scaling the input to zero mean and unit variance.\n",
            "  check_standardization(Y=train_Y, raise_on_fail=raise_on_fail)\n"
          ]
        },
        {
          "output_type": "stream",
          "name": "stdout",
          "text": [
            "Iteration 77: Acquired MOF 568\n",
            "Acquired MOFs: [5479, 3375, 3070, 1418, 234, 3548, 2157, 6792, 5964, 1652, 313, 254, 222, 175, 185, 121, 47, 31, 202, 30, 17, 0, 39, 57, 9, 8, 12, 58, 6, 61, 13, 26, 364, 129, 43, 4162, 214, 51, 140, 228, 126, 75, 18, 54, 224, 168, 105, 104, 40, 82, 204, 177, 149, 320, 315, 6009, 273, 379, 45, 2493, 11, 1149, 80, 28, 131, 1715, 223, 19, 103, 64, 86, 319, 78, 453, 15, 518, 216, 568]\n",
            "Expected length: 78, Actual length: 78\n",
            "Iteration: 78\r"
          ]
        },
        {
          "output_type": "stream",
          "name": "stderr",
          "text": [
            "/usr/local/lib/python3.10/dist-packages/botorch/models/utils/assorted.py:260: InputDataWarning: Data is not standardized (std = tensor([1.5642], dtype=torch.float64), mean = tensor([2.6264], dtype=torch.float64)). Please consider scaling the input to zero mean and unit variance.\n",
            "  check_standardization(Y=train_Y, raise_on_fail=raise_on_fail)\n"
          ]
        },
        {
          "output_type": "stream",
          "name": "stdout",
          "text": [
            "Iteration 78: Acquired MOF 441\n",
            "Acquired MOFs: [5479, 3375, 3070, 1418, 234, 3548, 2157, 6792, 5964, 1652, 313, 254, 222, 175, 185, 121, 47, 31, 202, 30, 17, 0, 39, 57, 9, 8, 12, 58, 6, 61, 13, 26, 364, 129, 43, 4162, 214, 51, 140, 228, 126, 75, 18, 54, 224, 168, 105, 104, 40, 82, 204, 177, 149, 320, 315, 6009, 273, 379, 45, 2493, 11, 1149, 80, 28, 131, 1715, 223, 19, 103, 64, 86, 319, 78, 453, 15, 518, 216, 568, 441]\n",
            "Expected length: 79, Actual length: 79\n",
            "Iteration: 79\r"
          ]
        },
        {
          "output_type": "stream",
          "name": "stderr",
          "text": [
            "/usr/local/lib/python3.10/dist-packages/botorch/models/utils/assorted.py:260: InputDataWarning: Data is not standardized (std = tensor([1.5579], dtype=torch.float64), mean = tensor([2.6143], dtype=torch.float64)). Please consider scaling the input to zero mean and unit variance.\n",
            "  check_standardization(Y=train_Y, raise_on_fail=raise_on_fail)\n"
          ]
        },
        {
          "output_type": "stream",
          "name": "stdout",
          "text": [
            "Iteration 79: Acquired MOF 349\n",
            "Acquired MOFs: [5479, 3375, 3070, 1418, 234, 3548, 2157, 6792, 5964, 1652, 313, 254, 222, 175, 185, 121, 47, 31, 202, 30, 17, 0, 39, 57, 9, 8, 12, 58, 6, 61, 13, 26, 364, 129, 43, 4162, 214, 51, 140, 228, 126, 75, 18, 54, 224, 168, 105, 104, 40, 82, 204, 177, 149, 320, 315, 6009, 273, 379, 45, 2493, 11, 1149, 80, 28, 131, 1715, 223, 19, 103, 64, 86, 319, 78, 453, 15, 518, 216, 568, 441, 349]\n",
            "Expected length: 80, Actual length: 80\n",
            "Iteration: 80\r"
          ]
        },
        {
          "output_type": "stream",
          "name": "stderr",
          "text": [
            "/usr/local/lib/python3.10/dist-packages/botorch/models/utils/assorted.py:260: InputDataWarning: Data is not standardized (std = tensor([1.5499], dtype=torch.float64), mean = tensor([2.6057], dtype=torch.float64)). Please consider scaling the input to zero mean and unit variance.\n",
            "  check_standardization(Y=train_Y, raise_on_fail=raise_on_fail)\n"
          ]
        },
        {
          "output_type": "stream",
          "name": "stdout",
          "text": [
            "Iteration 80: Acquired MOF 299\n",
            "Acquired MOFs: [5479, 3375, 3070, 1418, 234, 3548, 2157, 6792, 5964, 1652, 313, 254, 222, 175, 185, 121, 47, 31, 202, 30, 17, 0, 39, 57, 9, 8, 12, 58, 6, 61, 13, 26, 364, 129, 43, 4162, 214, 51, 140, 228, 126, 75, 18, 54, 224, 168, 105, 104, 40, 82, 204, 177, 149, 320, 315, 6009, 273, 379, 45, 2493, 11, 1149, 80, 28, 131, 1715, 223, 19, 103, 64, 86, 319, 78, 453, 15, 518, 216, 568, 441, 349, 299]\n",
            "Expected length: 81, Actual length: 81\n",
            "Iteration: 81\r"
          ]
        },
        {
          "output_type": "stream",
          "name": "stderr",
          "text": [
            "/usr/local/lib/python3.10/dist-packages/botorch/models/utils/assorted.py:260: InputDataWarning: Data is not standardized (std = tensor([1.5409], dtype=torch.float64), mean = tensor([2.6007], dtype=torch.float64)). Please consider scaling the input to zero mean and unit variance.\n",
            "  check_standardization(Y=train_Y, raise_on_fail=raise_on_fail)\n"
          ]
        },
        {
          "output_type": "stream",
          "name": "stdout",
          "text": [
            "Iteration 81: Acquired MOF 421\n",
            "Acquired MOFs: [5479, 3375, 3070, 1418, 234, 3548, 2157, 6792, 5964, 1652, 313, 254, 222, 175, 185, 121, 47, 31, 202, 30, 17, 0, 39, 57, 9, 8, 12, 58, 6, 61, 13, 26, 364, 129, 43, 4162, 214, 51, 140, 228, 126, 75, 18, 54, 224, 168, 105, 104, 40, 82, 204, 177, 149, 320, 315, 6009, 273, 379, 45, 2493, 11, 1149, 80, 28, 131, 1715, 223, 19, 103, 64, 86, 319, 78, 453, 15, 518, 216, 568, 441, 349, 299, 421]\n",
            "Expected length: 82, Actual length: 82\n",
            "Iteration: 82\r"
          ]
        },
        {
          "output_type": "stream",
          "name": "stderr",
          "text": [
            "/usr/local/lib/python3.10/dist-packages/botorch/models/utils/assorted.py:260: InputDataWarning: Data is not standardized (std = tensor([1.5341], dtype=torch.float64), mean = tensor([2.5904], dtype=torch.float64)). Please consider scaling the input to zero mean and unit variance.\n",
            "  check_standardization(Y=train_Y, raise_on_fail=raise_on_fail)\n"
          ]
        },
        {
          "output_type": "stream",
          "name": "stdout",
          "text": [
            "Iteration 82: Acquired MOF 298\n",
            "Acquired MOFs: [5479, 3375, 3070, 1418, 234, 3548, 2157, 6792, 5964, 1652, 313, 254, 222, 175, 185, 121, 47, 31, 202, 30, 17, 0, 39, 57, 9, 8, 12, 58, 6, 61, 13, 26, 364, 129, 43, 4162, 214, 51, 140, 228, 126, 75, 18, 54, 224, 168, 105, 104, 40, 82, 204, 177, 149, 320, 315, 6009, 273, 379, 45, 2493, 11, 1149, 80, 28, 131, 1715, 223, 19, 103, 64, 86, 319, 78, 453, 15, 518, 216, 568, 441, 349, 299, 421, 298]\n",
            "Expected length: 83, Actual length: 83\n",
            "Iteration: 83\r"
          ]
        },
        {
          "output_type": "stream",
          "name": "stderr",
          "text": [
            "/usr/local/lib/python3.10/dist-packages/botorch/models/utils/assorted.py:260: InputDataWarning: Data is not standardized (std = tensor([1.5255], dtype=torch.float64), mean = tensor([2.5852], dtype=torch.float64)). Please consider scaling the input to zero mean and unit variance.\n",
            "  check_standardization(Y=train_Y, raise_on_fail=raise_on_fail)\n"
          ]
        },
        {
          "output_type": "stream",
          "name": "stdout",
          "text": [
            "Iteration 83: Acquired MOF 1124\n",
            "Acquired MOFs: [5479, 3375, 3070, 1418, 234, 3548, 2157, 6792, 5964, 1652, 313, 254, 222, 175, 185, 121, 47, 31, 202, 30, 17, 0, 39, 57, 9, 8, 12, 58, 6, 61, 13, 26, 364, 129, 43, 4162, 214, 51, 140, 228, 126, 75, 18, 54, 224, 168, 105, 104, 40, 82, 204, 177, 149, 320, 315, 6009, 273, 379, 45, 2493, 11, 1149, 80, 28, 131, 1715, 223, 19, 103, 64, 86, 319, 78, 453, 15, 518, 216, 568, 441, 349, 299, 421, 298, 1124]\n",
            "Expected length: 84, Actual length: 84\n",
            "Iteration: 84\r"
          ]
        },
        {
          "output_type": "stream",
          "name": "stderr",
          "text": [
            "/usr/local/lib/python3.10/dist-packages/botorch/models/utils/assorted.py:260: InputDataWarning: Data is not standardized (std = tensor([1.5287], dtype=torch.float64), mean = tensor([2.5640], dtype=torch.float64)). Please consider scaling the input to zero mean and unit variance.\n",
            "  check_standardization(Y=train_Y, raise_on_fail=raise_on_fail)\n"
          ]
        },
        {
          "output_type": "stream",
          "name": "stdout",
          "text": [
            "Iteration 84: Acquired MOF 2777\n",
            "Acquired MOFs: [5479, 3375, 3070, 1418, 234, 3548, 2157, 6792, 5964, 1652, 313, 254, 222, 175, 185, 121, 47, 31, 202, 30, 17, 0, 39, 57, 9, 8, 12, 58, 6, 61, 13, 26, 364, 129, 43, 4162, 214, 51, 140, 228, 126, 75, 18, 54, 224, 168, 105, 104, 40, 82, 204, 177, 149, 320, 315, 6009, 273, 379, 45, 2493, 11, 1149, 80, 28, 131, 1715, 223, 19, 103, 64, 86, 319, 78, 453, 15, 518, 216, 568, 441, 349, 299, 421, 298, 1124, 2777]\n",
            "Expected length: 85, Actual length: 85\n",
            "Iteration: 85\r"
          ]
        },
        {
          "output_type": "stream",
          "name": "stderr",
          "text": [
            "/usr/local/lib/python3.10/dist-packages/botorch/models/utils/assorted.py:260: InputDataWarning: Data is not standardized (std = tensor([1.5444], dtype=torch.float64), mean = tensor([2.5341], dtype=torch.float64)). Please consider scaling the input to zero mean and unit variance.\n",
            "  check_standardization(Y=train_Y, raise_on_fail=raise_on_fail)\n"
          ]
        },
        {
          "output_type": "stream",
          "name": "stdout",
          "text": [
            "Iteration 85: Acquired MOF 458\n",
            "Acquired MOFs: [5479, 3375, 3070, 1418, 234, 3548, 2157, 6792, 5964, 1652, 313, 254, 222, 175, 185, 121, 47, 31, 202, 30, 17, 0, 39, 57, 9, 8, 12, 58, 6, 61, 13, 26, 364, 129, 43, 4162, 214, 51, 140, 228, 126, 75, 18, 54, 224, 168, 105, 104, 40, 82, 204, 177, 149, 320, 315, 6009, 273, 379, 45, 2493, 11, 1149, 80, 28, 131, 1715, 223, 19, 103, 64, 86, 319, 78, 453, 15, 518, 216, 568, 441, 349, 299, 421, 298, 1124, 2777, 458]\n",
            "Expected length: 86, Actual length: 86\n",
            "Iteration: 86\r"
          ]
        },
        {
          "output_type": "stream",
          "name": "stderr",
          "text": [
            "/usr/local/lib/python3.10/dist-packages/botorch/models/utils/assorted.py:260: InputDataWarning: Data is not standardized (std = tensor([1.5380], dtype=torch.float64), mean = tensor([2.5243], dtype=torch.float64)). Please consider scaling the input to zero mean and unit variance.\n",
            "  check_standardization(Y=train_Y, raise_on_fail=raise_on_fail)\n"
          ]
        },
        {
          "output_type": "stream",
          "name": "stdout",
          "text": [
            "Iteration 86: Acquired MOF 114\n",
            "Acquired MOFs: [5479, 3375, 3070, 1418, 234, 3548, 2157, 6792, 5964, 1652, 313, 254, 222, 175, 185, 121, 47, 31, 202, 30, 17, 0, 39, 57, 9, 8, 12, 58, 6, 61, 13, 26, 364, 129, 43, 4162, 214, 51, 140, 228, 126, 75, 18, 54, 224, 168, 105, 104, 40, 82, 204, 177, 149, 320, 315, 6009, 273, 379, 45, 2493, 11, 1149, 80, 28, 131, 1715, 223, 19, 103, 64, 86, 319, 78, 453, 15, 518, 216, 568, 441, 349, 299, 421, 298, 1124, 2777, 458, 114]\n",
            "Expected length: 87, Actual length: 87\n",
            "Iteration: 87\r"
          ]
        },
        {
          "output_type": "stream",
          "name": "stderr",
          "text": [
            "/usr/local/lib/python3.10/dist-packages/botorch/models/utils/assorted.py:260: InputDataWarning: Data is not standardized (std = tensor([1.5306], dtype=torch.float64), mean = tensor([2.5317], dtype=torch.float64)). Please consider scaling the input to zero mean and unit variance.\n",
            "  check_standardization(Y=train_Y, raise_on_fail=raise_on_fail)\n"
          ]
        },
        {
          "output_type": "stream",
          "name": "stdout",
          "text": [
            "Iteration 87: Acquired MOF 751\n",
            "Acquired MOFs: [5479, 3375, 3070, 1418, 234, 3548, 2157, 6792, 5964, 1652, 313, 254, 222, 175, 185, 121, 47, 31, 202, 30, 17, 0, 39, 57, 9, 8, 12, 58, 6, 61, 13, 26, 364, 129, 43, 4162, 214, 51, 140, 228, 126, 75, 18, 54, 224, 168, 105, 104, 40, 82, 204, 177, 149, 320, 315, 6009, 273, 379, 45, 2493, 11, 1149, 80, 28, 131, 1715, 223, 19, 103, 64, 86, 319, 78, 453, 15, 518, 216, 568, 441, 349, 299, 421, 298, 1124, 2777, 458, 114, 751]\n",
            "Expected length: 88, Actual length: 88\n",
            "Iteration: 88\r"
          ]
        },
        {
          "output_type": "stream",
          "name": "stderr",
          "text": [
            "/usr/local/lib/python3.10/dist-packages/botorch/models/utils/assorted.py:260: InputDataWarning: Data is not standardized (std = tensor([1.5280], dtype=torch.float64), mean = tensor([2.5171], dtype=torch.float64)). Please consider scaling the input to zero mean and unit variance.\n",
            "  check_standardization(Y=train_Y, raise_on_fail=raise_on_fail)\n"
          ]
        },
        {
          "output_type": "stream",
          "name": "stdout",
          "text": [
            "Iteration 88: Acquired MOF 4\n",
            "Acquired MOFs: [5479, 3375, 3070, 1418, 234, 3548, 2157, 6792, 5964, 1652, 313, 254, 222, 175, 185, 121, 47, 31, 202, 30, 17, 0, 39, 57, 9, 8, 12, 58, 6, 61, 13, 26, 364, 129, 43, 4162, 214, 51, 140, 228, 126, 75, 18, 54, 224, 168, 105, 104, 40, 82, 204, 177, 149, 320, 315, 6009, 273, 379, 45, 2493, 11, 1149, 80, 28, 131, 1715, 223, 19, 103, 64, 86, 319, 78, 453, 15, 518, 216, 568, 441, 349, 299, 421, 298, 1124, 2777, 458, 114, 751, 4]\n",
            "Expected length: 89, Actual length: 89\n",
            "Iteration: 89\r"
          ]
        },
        {
          "output_type": "stream",
          "name": "stderr",
          "text": [
            "/usr/local/lib/python3.10/dist-packages/botorch/models/utils/assorted.py:260: InputDataWarning: Data is not standardized (std = tensor([1.5399], dtype=torch.float64), mean = tensor([2.5438], dtype=torch.float64)). Please consider scaling the input to zero mean and unit variance.\n",
            "  check_standardization(Y=train_Y, raise_on_fail=raise_on_fail)\n"
          ]
        },
        {
          "output_type": "stream",
          "name": "stdout",
          "text": [
            "Iteration 89: Acquired MOF 450\n",
            "Acquired MOFs: [5479, 3375, 3070, 1418, 234, 3548, 2157, 6792, 5964, 1652, 313, 254, 222, 175, 185, 121, 47, 31, 202, 30, 17, 0, 39, 57, 9, 8, 12, 58, 6, 61, 13, 26, 364, 129, 43, 4162, 214, 51, 140, 228, 126, 75, 18, 54, 224, 168, 105, 104, 40, 82, 204, 177, 149, 320, 315, 6009, 273, 379, 45, 2493, 11, 1149, 80, 28, 131, 1715, 223, 19, 103, 64, 86, 319, 78, 453, 15, 518, 216, 568, 441, 349, 299, 421, 298, 1124, 2777, 458, 114, 751, 4, 450]\n",
            "Expected length: 90, Actual length: 90\n",
            "Iteration: 90\r"
          ]
        },
        {
          "output_type": "stream",
          "name": "stderr",
          "text": [
            "/usr/local/lib/python3.10/dist-packages/botorch/models/utils/assorted.py:260: InputDataWarning: Data is not standardized (std = tensor([1.5341], dtype=torch.float64), mean = tensor([2.5340], dtype=torch.float64)). Please consider scaling the input to zero mean and unit variance.\n",
            "  check_standardization(Y=train_Y, raise_on_fail=raise_on_fail)\n"
          ]
        },
        {
          "output_type": "stream",
          "name": "stdout",
          "text": [
            "Iteration 90: Acquired MOF 829\n",
            "Acquired MOFs: [5479, 3375, 3070, 1418, 234, 3548, 2157, 6792, 5964, 1652, 313, 254, 222, 175, 185, 121, 47, 31, 202, 30, 17, 0, 39, 57, 9, 8, 12, 58, 6, 61, 13, 26, 364, 129, 43, 4162, 214, 51, 140, 228, 126, 75, 18, 54, 224, 168, 105, 104, 40, 82, 204, 177, 149, 320, 315, 6009, 273, 379, 45, 2493, 11, 1149, 80, 28, 131, 1715, 223, 19, 103, 64, 86, 319, 78, 453, 15, 518, 216, 568, 441, 349, 299, 421, 298, 1124, 2777, 458, 114, 751, 4, 450, 829]\n",
            "Expected length: 91, Actual length: 91\n",
            "Iteration: 91\r"
          ]
        },
        {
          "output_type": "stream",
          "name": "stderr",
          "text": [
            "/usr/local/lib/python3.10/dist-packages/botorch/models/utils/assorted.py:260: InputDataWarning: Data is not standardized (std = tensor([1.5331], dtype=torch.float64), mean = tensor([2.5180], dtype=torch.float64)). Please consider scaling the input to zero mean and unit variance.\n",
            "  check_standardization(Y=train_Y, raise_on_fail=raise_on_fail)\n"
          ]
        },
        {
          "output_type": "stream",
          "name": "stdout",
          "text": [
            "Iteration 91: Acquired MOF 354\n",
            "Acquired MOFs: [5479, 3375, 3070, 1418, 234, 3548, 2157, 6792, 5964, 1652, 313, 254, 222, 175, 185, 121, 47, 31, 202, 30, 17, 0, 39, 57, 9, 8, 12, 58, 6, 61, 13, 26, 364, 129, 43, 4162, 214, 51, 140, 228, 126, 75, 18, 54, 224, 168, 105, 104, 40, 82, 204, 177, 149, 320, 315, 6009, 273, 379, 45, 2493, 11, 1149, 80, 28, 131, 1715, 223, 19, 103, 64, 86, 319, 78, 453, 15, 518, 216, 568, 441, 349, 299, 421, 298, 1124, 2777, 458, 114, 751, 4, 450, 829, 354]\n",
            "Expected length: 92, Actual length: 92\n",
            "Iteration: 92\r"
          ]
        },
        {
          "output_type": "stream",
          "name": "stderr",
          "text": [
            "/usr/local/lib/python3.10/dist-packages/botorch/models/utils/assorted.py:260: InputDataWarning: Data is not standardized (std = tensor([1.5258], dtype=torch.float64), mean = tensor([2.5120], dtype=torch.float64)). Please consider scaling the input to zero mean and unit variance.\n",
            "  check_standardization(Y=train_Y, raise_on_fail=raise_on_fail)\n"
          ]
        },
        {
          "output_type": "stream",
          "name": "stdout",
          "text": [
            "Iteration 92: Acquired MOF 401\n",
            "Acquired MOFs: [5479, 3375, 3070, 1418, 234, 3548, 2157, 6792, 5964, 1652, 313, 254, 222, 175, 185, 121, 47, 31, 202, 30, 17, 0, 39, 57, 9, 8, 12, 58, 6, 61, 13, 26, 364, 129, 43, 4162, 214, 51, 140, 228, 126, 75, 18, 54, 224, 168, 105, 104, 40, 82, 204, 177, 149, 320, 315, 6009, 273, 379, 45, 2493, 11, 1149, 80, 28, 131, 1715, 223, 19, 103, 64, 86, 319, 78, 453, 15, 518, 216, 568, 441, 349, 299, 421, 298, 1124, 2777, 458, 114, 751, 4, 450, 829, 354, 401]\n",
            "Expected length: 93, Actual length: 93\n",
            "Iteration: 93\r"
          ]
        },
        {
          "output_type": "stream",
          "name": "stderr",
          "text": [
            "/usr/local/lib/python3.10/dist-packages/botorch/models/utils/assorted.py:260: InputDataWarning: Data is not standardized (std = tensor([1.5191], dtype=torch.float64), mean = tensor([2.5047], dtype=torch.float64)). Please consider scaling the input to zero mean and unit variance.\n",
            "  check_standardization(Y=train_Y, raise_on_fail=raise_on_fail)\n"
          ]
        },
        {
          "output_type": "stream",
          "name": "stdout",
          "text": [
            "Iteration 93: Acquired MOF 79\n",
            "Acquired MOFs: [5479, 3375, 3070, 1418, 234, 3548, 2157, 6792, 5964, 1652, 313, 254, 222, 175, 185, 121, 47, 31, 202, 30, 17, 0, 39, 57, 9, 8, 12, 58, 6, 61, 13, 26, 364, 129, 43, 4162, 214, 51, 140, 228, 126, 75, 18, 54, 224, 168, 105, 104, 40, 82, 204, 177, 149, 320, 315, 6009, 273, 379, 45, 2493, 11, 1149, 80, 28, 131, 1715, 223, 19, 103, 64, 86, 319, 78, 453, 15, 518, 216, 568, 441, 349, 299, 421, 298, 1124, 2777, 458, 114, 751, 4, 450, 829, 354, 401, 79]\n",
            "Expected length: 94, Actual length: 94\n",
            "Iteration: 94\r"
          ]
        },
        {
          "output_type": "stream",
          "name": "stderr",
          "text": [
            "/usr/local/lib/python3.10/dist-packages/botorch/models/utils/assorted.py:260: InputDataWarning: Data is not standardized (std = tensor([1.5140], dtype=torch.float64), mean = tensor([2.5148], dtype=torch.float64)). Please consider scaling the input to zero mean and unit variance.\n",
            "  check_standardization(Y=train_Y, raise_on_fail=raise_on_fail)\n"
          ]
        },
        {
          "output_type": "stream",
          "name": "stdout",
          "text": [
            "Iteration 94: Acquired MOF 505\n",
            "Acquired MOFs: [5479, 3375, 3070, 1418, 234, 3548, 2157, 6792, 5964, 1652, 313, 254, 222, 175, 185, 121, 47, 31, 202, 30, 17, 0, 39, 57, 9, 8, 12, 58, 6, 61, 13, 26, 364, 129, 43, 4162, 214, 51, 140, 228, 126, 75, 18, 54, 224, 168, 105, 104, 40, 82, 204, 177, 149, 320, 315, 6009, 273, 379, 45, 2493, 11, 1149, 80, 28, 131, 1715, 223, 19, 103, 64, 86, 319, 78, 453, 15, 518, 216, 568, 441, 349, 299, 421, 298, 1124, 2777, 458, 114, 751, 4, 450, 829, 354, 401, 79, 505]\n",
            "Expected length: 95, Actual length: 95\n",
            "Iteration: 95\r"
          ]
        },
        {
          "output_type": "stream",
          "name": "stderr",
          "text": [
            "/usr/local/lib/python3.10/dist-packages/botorch/models/utils/assorted.py:260: InputDataWarning: Data is not standardized (std = tensor([1.5087], dtype=torch.float64), mean = tensor([2.5054], dtype=torch.float64)). Please consider scaling the input to zero mean and unit variance.\n",
            "  check_standardization(Y=train_Y, raise_on_fail=raise_on_fail)\n"
          ]
        },
        {
          "output_type": "stream",
          "name": "stdout",
          "text": [
            "Iteration 95: Acquired MOF 884\n",
            "Acquired MOFs: [5479, 3375, 3070, 1418, 234, 3548, 2157, 6792, 5964, 1652, 313, 254, 222, 175, 185, 121, 47, 31, 202, 30, 17, 0, 39, 57, 9, 8, 12, 58, 6, 61, 13, 26, 364, 129, 43, 4162, 214, 51, 140, 228, 126, 75, 18, 54, 224, 168, 105, 104, 40, 82, 204, 177, 149, 320, 315, 6009, 273, 379, 45, 2493, 11, 1149, 80, 28, 131, 1715, 223, 19, 103, 64, 86, 319, 78, 453, 15, 518, 216, 568, 441, 349, 299, 421, 298, 1124, 2777, 458, 114, 751, 4, 450, 829, 354, 401, 79, 505, 884]\n",
            "Expected length: 96, Actual length: 96\n",
            "Iteration: 96\r"
          ]
        },
        {
          "output_type": "stream",
          "name": "stderr",
          "text": [
            "/usr/local/lib/python3.10/dist-packages/botorch/models/utils/assorted.py:260: InputDataWarning: Data is not standardized (std = tensor([1.5077], dtype=torch.float64), mean = tensor([2.4906], dtype=torch.float64)). Please consider scaling the input to zero mean and unit variance.\n",
            "  check_standardization(Y=train_Y, raise_on_fail=raise_on_fail)\n"
          ]
        },
        {
          "output_type": "stream",
          "name": "stdout",
          "text": [
            "Iteration 96: Acquired MOF 513\n",
            "Acquired MOFs: [5479, 3375, 3070, 1418, 234, 3548, 2157, 6792, 5964, 1652, 313, 254, 222, 175, 185, 121, 47, 31, 202, 30, 17, 0, 39, 57, 9, 8, 12, 58, 6, 61, 13, 26, 364, 129, 43, 4162, 214, 51, 140, 228, 126, 75, 18, 54, 224, 168, 105, 104, 40, 82, 204, 177, 149, 320, 315, 6009, 273, 379, 45, 2493, 11, 1149, 80, 28, 131, 1715, 223, 19, 103, 64, 86, 319, 78, 453, 15, 518, 216, 568, 441, 349, 299, 421, 298, 1124, 2777, 458, 114, 751, 4, 450, 829, 354, 401, 79, 505, 884, 513]\n",
            "Expected length: 97, Actual length: 97\n",
            "Iteration: 97\r"
          ]
        },
        {
          "output_type": "stream",
          "name": "stderr",
          "text": [
            "/usr/local/lib/python3.10/dist-packages/botorch/models/utils/assorted.py:260: InputDataWarning: Data is not standardized (std = tensor([1.5024], dtype=torch.float64), mean = tensor([2.4817], dtype=torch.float64)). Please consider scaling the input to zero mean and unit variance.\n",
            "  check_standardization(Y=train_Y, raise_on_fail=raise_on_fail)\n"
          ]
        },
        {
          "output_type": "stream",
          "name": "stdout",
          "text": [
            "Iteration 97: Acquired MOF 70\n",
            "Acquired MOFs: [5479, 3375, 3070, 1418, 234, 3548, 2157, 6792, 5964, 1652, 313, 254, 222, 175, 185, 121, 47, 31, 202, 30, 17, 0, 39, 57, 9, 8, 12, 58, 6, 61, 13, 26, 364, 129, 43, 4162, 214, 51, 140, 228, 126, 75, 18, 54, 224, 168, 105, 104, 40, 82, 204, 177, 149, 320, 315, 6009, 273, 379, 45, 2493, 11, 1149, 80, 28, 131, 1715, 223, 19, 103, 64, 86, 319, 78, 453, 15, 518, 216, 568, 441, 349, 299, 421, 298, 1124, 2777, 458, 114, 751, 4, 450, 829, 354, 401, 79, 505, 884, 513, 70]\n",
            "Expected length: 98, Actual length: 98\n",
            "Iteration: 98\r"
          ]
        },
        {
          "output_type": "stream",
          "name": "stderr",
          "text": [
            "/usr/local/lib/python3.10/dist-packages/botorch/models/utils/assorted.py:260: InputDataWarning: Data is not standardized (std = tensor([1.4983], dtype=torch.float64), mean = tensor([2.4923], dtype=torch.float64)). Please consider scaling the input to zero mean and unit variance.\n",
            "  check_standardization(Y=train_Y, raise_on_fail=raise_on_fail)\n"
          ]
        },
        {
          "output_type": "stream",
          "name": "stdout",
          "text": [
            "Iteration 98: Acquired MOF 365\n",
            "Acquired MOFs: [5479, 3375, 3070, 1418, 234, 3548, 2157, 6792, 5964, 1652, 313, 254, 222, 175, 185, 121, 47, 31, 202, 30, 17, 0, 39, 57, 9, 8, 12, 58, 6, 61, 13, 26, 364, 129, 43, 4162, 214, 51, 140, 228, 126, 75, 18, 54, 224, 168, 105, 104, 40, 82, 204, 177, 149, 320, 315, 6009, 273, 379, 45, 2493, 11, 1149, 80, 28, 131, 1715, 223, 19, 103, 64, 86, 319, 78, 453, 15, 518, 216, 568, 441, 349, 299, 421, 298, 1124, 2777, 458, 114, 751, 4, 450, 829, 354, 401, 79, 505, 884, 513, 70, 365]\n",
            "Expected length: 99, Actual length: 99\n",
            "Iteration: 99\r"
          ]
        },
        {
          "output_type": "stream",
          "name": "stderr",
          "text": [
            "/usr/local/lib/python3.10/dist-packages/botorch/models/utils/assorted.py:260: InputDataWarning: Data is not standardized (std = tensor([1.4917], dtype=torch.float64), mean = tensor([2.4865], dtype=torch.float64)). Please consider scaling the input to zero mean and unit variance.\n",
            "  check_standardization(Y=train_Y, raise_on_fail=raise_on_fail)\n"
          ]
        },
        {
          "output_type": "stream",
          "name": "stdout",
          "text": [
            "Iteration 99: Acquired MOF 643\n",
            "Acquired MOFs: [5479, 3375, 3070, 1418, 234, 3548, 2157, 6792, 5964, 1652, 313, 254, 222, 175, 185, 121, 47, 31, 202, 30, 17, 0, 39, 57, 9, 8, 12, 58, 6, 61, 13, 26, 364, 129, 43, 4162, 214, 51, 140, 228, 126, 75, 18, 54, 224, 168, 105, 104, 40, 82, 204, 177, 149, 320, 315, 6009, 273, 379, 45, 2493, 11, 1149, 80, 28, 131, 1715, 223, 19, 103, 64, 86, 319, 78, 453, 15, 518, 216, 568, 441, 349, 299, 421, 298, 1124, 2777, 458, 114, 751, 4, 450, 829, 354, 401, 79, 505, 884, 513, 70, 365, 643]\n",
            "Expected length: 100, Actual length: 100\n",
            "Iteration: 100\r"
          ]
        },
        {
          "output_type": "stream",
          "name": "stderr",
          "text": [
            "/usr/local/lib/python3.10/dist-packages/botorch/models/utils/assorted.py:260: InputDataWarning: Data is not standardized (std = tensor([1.4887], dtype=torch.float64), mean = tensor([2.4750], dtype=torch.float64)). Please consider scaling the input to zero mean and unit variance.\n",
            "  check_standardization(Y=train_Y, raise_on_fail=raise_on_fail)\n"
          ]
        },
        {
          "output_type": "stream",
          "name": "stdout",
          "text": [
            "Iteration 100: Acquired MOF 4371\n",
            "Acquired MOFs: [5479, 3375, 3070, 1418, 234, 3548, 2157, 6792, 5964, 1652, 313, 254, 222, 175, 185, 121, 47, 31, 202, 30, 17, 0, 39, 57, 9, 8, 12, 58, 6, 61, 13, 26, 364, 129, 43, 4162, 214, 51, 140, 228, 126, 75, 18, 54, 224, 168, 105, 104, 40, 82, 204, 177, 149, 320, 315, 6009, 273, 379, 45, 2493, 11, 1149, 80, 28, 131, 1715, 223, 19, 103, 64, 86, 319, 78, 453, 15, 518, 216, 568, 441, 349, 299, 421, 298, 1124, 2777, 458, 114, 751, 4, 450, 829, 354, 401, 79, 505, 884, 513, 70, 365, 643, 4371]\n",
            "Expected length: 101, Actual length: 101\n",
            "Iteration: 101\r"
          ]
        },
        {
          "output_type": "stream",
          "name": "stderr",
          "text": [
            "/usr/local/lib/python3.10/dist-packages/botorch/models/utils/assorted.py:260: InputDataWarning: Data is not standardized (std = tensor([1.5094], dtype=torch.float64), mean = tensor([2.4461], dtype=torch.float64)). Please consider scaling the input to zero mean and unit variance.\n",
            "  check_standardization(Y=train_Y, raise_on_fail=raise_on_fail)\n"
          ]
        },
        {
          "output_type": "stream",
          "name": "stdout",
          "text": [
            "Iteration 101: Acquired MOF 2900\n",
            "Acquired MOFs: [5479, 3375, 3070, 1418, 234, 3548, 2157, 6792, 5964, 1652, 313, 254, 222, 175, 185, 121, 47, 31, 202, 30, 17, 0, 39, 57, 9, 8, 12, 58, 6, 61, 13, 26, 364, 129, 43, 4162, 214, 51, 140, 228, 126, 75, 18, 54, 224, 168, 105, 104, 40, 82, 204, 177, 149, 320, 315, 6009, 273, 379, 45, 2493, 11, 1149, 80, 28, 131, 1715, 223, 19, 103, 64, 86, 319, 78, 453, 15, 518, 216, 568, 441, 349, 299, 421, 298, 1124, 2777, 458, 114, 751, 4, 450, 829, 354, 401, 79, 505, 884, 513, 70, 365, 643, 4371, 2900]\n",
            "Expected length: 102, Actual length: 102\n",
            "Iteration: 102\r"
          ]
        },
        {
          "output_type": "stream",
          "name": "stderr",
          "text": [
            "/usr/local/lib/python3.10/dist-packages/botorch/models/utils/assorted.py:260: InputDataWarning: Data is not standardized (std = tensor([1.5213], dtype=torch.float64), mean = tensor([2.4221], dtype=torch.float64)). Please consider scaling the input to zero mean and unit variance.\n",
            "  check_standardization(Y=train_Y, raise_on_fail=raise_on_fail)\n"
          ]
        },
        {
          "output_type": "stream",
          "name": "stdout",
          "text": [
            "Iteration 102: Acquired MOF 23\n",
            "Acquired MOFs: [5479, 3375, 3070, 1418, 234, 3548, 2157, 6792, 5964, 1652, 313, 254, 222, 175, 185, 121, 47, 31, 202, 30, 17, 0, 39, 57, 9, 8, 12, 58, 6, 61, 13, 26, 364, 129, 43, 4162, 214, 51, 140, 228, 126, 75, 18, 54, 224, 168, 105, 104, 40, 82, 204, 177, 149, 320, 315, 6009, 273, 379, 45, 2493, 11, 1149, 80, 28, 131, 1715, 223, 19, 103, 64, 86, 319, 78, 453, 15, 518, 216, 568, 441, 349, 299, 421, 298, 1124, 2777, 458, 114, 751, 4, 450, 829, 354, 401, 79, 505, 884, 513, 70, 365, 643, 4371, 2900, 23]\n",
            "Expected length: 103, Actual length: 103\n",
            "Iteration: 103\r"
          ]
        },
        {
          "output_type": "stream",
          "name": "stderr",
          "text": [
            "/usr/local/lib/python3.10/dist-packages/botorch/models/utils/assorted.py:260: InputDataWarning: Data is not standardized (std = tensor([1.5234], dtype=torch.float64), mean = tensor([2.4389], dtype=torch.float64)). Please consider scaling the input to zero mean and unit variance.\n",
            "  check_standardization(Y=train_Y, raise_on_fail=raise_on_fail)\n"
          ]
        },
        {
          "output_type": "stream",
          "name": "stdout",
          "text": [
            "Iteration 103: Acquired MOF 3\n",
            "Acquired MOFs: [5479, 3375, 3070, 1418, 234, 3548, 2157, 6792, 5964, 1652, 313, 254, 222, 175, 185, 121, 47, 31, 202, 30, 17, 0, 39, 57, 9, 8, 12, 58, 6, 61, 13, 26, 364, 129, 43, 4162, 214, 51, 140, 228, 126, 75, 18, 54, 224, 168, 105, 104, 40, 82, 204, 177, 149, 320, 315, 6009, 273, 379, 45, 2493, 11, 1149, 80, 28, 131, 1715, 223, 19, 103, 64, 86, 319, 78, 453, 15, 518, 216, 568, 441, 349, 299, 421, 298, 1124, 2777, 458, 114, 751, 4, 450, 829, 354, 401, 79, 505, 884, 513, 70, 365, 643, 4371, 2900, 23, 3]\n",
            "Expected length: 104, Actual length: 104\n",
            "Iteration: 104\r"
          ]
        },
        {
          "output_type": "stream",
          "name": "stderr",
          "text": [
            "/usr/local/lib/python3.10/dist-packages/botorch/models/utils/assorted.py:260: InputDataWarning: Data is not standardized (std = tensor([1.5354], dtype=torch.float64), mean = tensor([2.4628], dtype=torch.float64)). Please consider scaling the input to zero mean and unit variance.\n",
            "  check_standardization(Y=train_Y, raise_on_fail=raise_on_fail)\n"
          ]
        },
        {
          "output_type": "stream",
          "name": "stdout",
          "text": [
            "Iteration 104: Acquired MOF 10\n",
            "Acquired MOFs: [5479, 3375, 3070, 1418, 234, 3548, 2157, 6792, 5964, 1652, 313, 254, 222, 175, 185, 121, 47, 31, 202, 30, 17, 0, 39, 57, 9, 8, 12, 58, 6, 61, 13, 26, 364, 129, 43, 4162, 214, 51, 140, 228, 126, 75, 18, 54, 224, 168, 105, 104, 40, 82, 204, 177, 149, 320, 315, 6009, 273, 379, 45, 2493, 11, 1149, 80, 28, 131, 1715, 223, 19, 103, 64, 86, 319, 78, 453, 15, 518, 216, 568, 441, 349, 299, 421, 298, 1124, 2777, 458, 114, 751, 4, 450, 829, 354, 401, 79, 505, 884, 513, 70, 365, 643, 4371, 2900, 23, 3, 10]\n",
            "Expected length: 105, Actual length: 105\n",
            "Iteration: 105\r"
          ]
        },
        {
          "output_type": "stream",
          "name": "stderr",
          "text": [
            "/usr/local/lib/python3.10/dist-packages/botorch/models/utils/assorted.py:260: InputDataWarning: Data is not standardized (std = tensor([1.5405], dtype=torch.float64), mean = tensor([2.4819], dtype=torch.float64)). Please consider scaling the input to zero mean and unit variance.\n",
            "  check_standardization(Y=train_Y, raise_on_fail=raise_on_fail)\n"
          ]
        },
        {
          "output_type": "stream",
          "name": "stdout",
          "text": [
            "Iteration 105: Acquired MOF 46\n",
            "Acquired MOFs: [5479, 3375, 3070, 1418, 234, 3548, 2157, 6792, 5964, 1652, 313, 254, 222, 175, 185, 121, 47, 31, 202, 30, 17, 0, 39, 57, 9, 8, 12, 58, 6, 61, 13, 26, 364, 129, 43, 4162, 214, 51, 140, 228, 126, 75, 18, 54, 224, 168, 105, 104, 40, 82, 204, 177, 149, 320, 315, 6009, 273, 379, 45, 2493, 11, 1149, 80, 28, 131, 1715, 223, 19, 103, 64, 86, 319, 78, 453, 15, 518, 216, 568, 441, 349, 299, 421, 298, 1124, 2777, 458, 114, 751, 4, 450, 829, 354, 401, 79, 505, 884, 513, 70, 365, 643, 4371, 2900, 23, 3, 10, 46]\n",
            "Expected length: 106, Actual length: 106\n",
            "Iteration: 106\r"
          ]
        },
        {
          "output_type": "stream",
          "name": "stderr",
          "text": [
            "/usr/local/lib/python3.10/dist-packages/botorch/models/utils/assorted.py:260: InputDataWarning: Data is not standardized (std = tensor([1.5393], dtype=torch.float64), mean = tensor([2.4952], dtype=torch.float64)). Please consider scaling the input to zero mean and unit variance.\n",
            "  check_standardization(Y=train_Y, raise_on_fail=raise_on_fail)\n"
          ]
        },
        {
          "output_type": "stream",
          "name": "stdout",
          "text": [
            "Iteration 106: Acquired MOF 341\n",
            "Acquired MOFs: [5479, 3375, 3070, 1418, 234, 3548, 2157, 6792, 5964, 1652, 313, 254, 222, 175, 185, 121, 47, 31, 202, 30, 17, 0, 39, 57, 9, 8, 12, 58, 6, 61, 13, 26, 364, 129, 43, 4162, 214, 51, 140, 228, 126, 75, 18, 54, 224, 168, 105, 104, 40, 82, 204, 177, 149, 320, 315, 6009, 273, 379, 45, 2493, 11, 1149, 80, 28, 131, 1715, 223, 19, 103, 64, 86, 319, 78, 453, 15, 518, 216, 568, 441, 349, 299, 421, 298, 1124, 2777, 458, 114, 751, 4, 450, 829, 354, 401, 79, 505, 884, 513, 70, 365, 643, 4371, 2900, 23, 3, 10, 46, 341]\n",
            "Expected length: 107, Actual length: 107\n",
            "Iteration: 107\r"
          ]
        },
        {
          "output_type": "stream",
          "name": "stderr",
          "text": [
            "/usr/local/lib/python3.10/dist-packages/botorch/models/utils/assorted.py:260: InputDataWarning: Data is not standardized (std = tensor([1.5327], dtype=torch.float64), mean = tensor([2.4906], dtype=torch.float64)). Please consider scaling the input to zero mean and unit variance.\n",
            "  check_standardization(Y=train_Y, raise_on_fail=raise_on_fail)\n"
          ]
        },
        {
          "output_type": "stream",
          "name": "stdout",
          "text": [
            "Iteration 107: Acquired MOF 24\n",
            "Acquired MOFs: [5479, 3375, 3070, 1418, 234, 3548, 2157, 6792, 5964, 1652, 313, 254, 222, 175, 185, 121, 47, 31, 202, 30, 17, 0, 39, 57, 9, 8, 12, 58, 6, 61, 13, 26, 364, 129, 43, 4162, 214, 51, 140, 228, 126, 75, 18, 54, 224, 168, 105, 104, 40, 82, 204, 177, 149, 320, 315, 6009, 273, 379, 45, 2493, 11, 1149, 80, 28, 131, 1715, 223, 19, 103, 64, 86, 319, 78, 453, 15, 518, 216, 568, 441, 349, 299, 421, 298, 1124, 2777, 458, 114, 751, 4, 450, 829, 354, 401, 79, 505, 884, 513, 70, 365, 643, 4371, 2900, 23, 3, 10, 46, 341, 24]\n",
            "Expected length: 108, Actual length: 108\n",
            "Iteration: 108\r"
          ]
        },
        {
          "output_type": "stream",
          "name": "stderr",
          "text": [
            "/usr/local/lib/python3.10/dist-packages/botorch/models/utils/assorted.py:260: InputDataWarning: Data is not standardized (std = tensor([1.5328], dtype=torch.float64), mean = tensor([2.5049], dtype=torch.float64)). Please consider scaling the input to zero mean and unit variance.\n",
            "  check_standardization(Y=train_Y, raise_on_fail=raise_on_fail)\n"
          ]
        },
        {
          "output_type": "stream",
          "name": "stdout",
          "text": [
            "Iteration 108: Acquired MOF 1318\n",
            "Acquired MOFs: [5479, 3375, 3070, 1418, 234, 3548, 2157, 6792, 5964, 1652, 313, 254, 222, 175, 185, 121, 47, 31, 202, 30, 17, 0, 39, 57, 9, 8, 12, 58, 6, 61, 13, 26, 364, 129, 43, 4162, 214, 51, 140, 228, 126, 75, 18, 54, 224, 168, 105, 104, 40, 82, 204, 177, 149, 320, 315, 6009, 273, 379, 45, 2493, 11, 1149, 80, 28, 131, 1715, 223, 19, 103, 64, 86, 319, 78, 453, 15, 518, 216, 568, 441, 349, 299, 421, 298, 1124, 2777, 458, 114, 751, 4, 450, 829, 354, 401, 79, 505, 884, 513, 70, 365, 643, 4371, 2900, 23, 3, 10, 46, 341, 24, 1318]\n",
            "Expected length: 109, Actual length: 109\n",
            "Iteration: 109\r"
          ]
        },
        {
          "output_type": "stream",
          "name": "stderr",
          "text": [
            "/usr/local/lib/python3.10/dist-packages/botorch/models/utils/assorted.py:260: InputDataWarning: Data is not standardized (std = tensor([1.5353], dtype=torch.float64), mean = tensor([2.4885], dtype=torch.float64)). Please consider scaling the input to zero mean and unit variance.\n",
            "  check_standardization(Y=train_Y, raise_on_fail=raise_on_fail)\n"
          ]
        },
        {
          "output_type": "stream",
          "name": "stdout",
          "text": [
            "Iteration 109: Acquired MOF 2075\n",
            "Acquired MOFs: [5479, 3375, 3070, 1418, 234, 3548, 2157, 6792, 5964, 1652, 313, 254, 222, 175, 185, 121, 47, 31, 202, 30, 17, 0, 39, 57, 9, 8, 12, 58, 6, 61, 13, 26, 364, 129, 43, 4162, 214, 51, 140, 228, 126, 75, 18, 54, 224, 168, 105, 104, 40, 82, 204, 177, 149, 320, 315, 6009, 273, 379, 45, 2493, 11, 1149, 80, 28, 131, 1715, 223, 19, 103, 64, 86, 319, 78, 453, 15, 518, 216, 568, 441, 349, 299, 421, 298, 1124, 2777, 458, 114, 751, 4, 450, 829, 354, 401, 79, 505, 884, 513, 70, 365, 643, 4371, 2900, 23, 3, 10, 46, 341, 24, 1318, 2075]\n",
            "Expected length: 110, Actual length: 110\n",
            "Acquisition process completed successfully.\n"
          ]
        }
      ],
      "source": [
        "for i in range(initial_mofs, nb_iterations):\n",
        "    print(\"Iteration:\", i, end=\"\\r\")\n",
        "\n",
        "    # Update training data\n",
        "    X_train = X_tensor[acquired_mofs, :]\n",
        "    y_train = y_tensor[acquired_mofs]\n",
        "\n",
        "    # Construct and fit GP model using currently acquired MOFs\n",
        "    model = SingleTaskGP(X_train, y_train)\n",
        "    mll = ExactMarginalLogLikelihood(model.likelihood, model)\n",
        "    fit_gpytorch_mll(mll)\n",
        "\n",
        "    # Set up the PosteriorMean acquisition function\n",
        "    posterior_mean = PosteriorMean(model)\n",
        "\n",
        "    # Calculate the posterior mean over the full dataset\n",
        "    X_unsqueezed = X_train.unsqueeze(1)  # Add singleton dimension\n",
        "    posterior_means = posterior_mean(X_unsqueezed).squeeze()\n",
        "\n",
        "    # Determine the best observed value based on the posterior mean\n",
        "    best_f = posterior_means.max().item()\n",
        "\n",
        "    acquisition_function=ExpectedImprovement(model, best_f=best_f)\n",
        "\n",
        "    with torch.no_grad():\n",
        "        # Add a singleton dimension to X_tensor for the acquisition function\n",
        "        X_unsqueezed = X_tensor.unsqueeze(1)\n",
        "\n",
        "        # Calculate the expected improvement uncertainty for the dataset\n",
        "        acquisition_values = acquisition_function(X_unsqueezed).squeeze()\n",
        "\n",
        "    # Select MOF with the highest acquisition value that hasn't been acquired yet\n",
        "    id_max_acquisition = acquisition_values.argmax().item()\n",
        "    while id_max_acquisition in acquired_mofs:\n",
        "        acquisition_values[id_max_acquisition] = float('-inf')\n",
        "        id_max_acquisition = acquisition_values.argmax().item()\n",
        "\n",
        "    # Acquire this MOF\n",
        "    acquired_mofs.append(id_max_acquisition)\n",
        "\n",
        "    # Debug information\n",
        "    print(f\"Iteration {i}: Acquired MOF {id_max_acquisition}\")\n",
        "    print(f\"Acquired MOFs: {acquired_mofs}\")\n",
        "    print(f\"Expected length: {i + 1}, Actual length: {len(acquired_mofs)}\")\n",
        "\n",
        "    # Check the length of acquired_mofs\n",
        "    assert len(acquired_mofs) == i + 1\n",
        "\n",
        "print(\"Acquisition process completed successfully.\")"
      ]
    },
    {
      "cell_type": "code",
      "execution_count": 35,
      "metadata": {
        "id": "osQ2UlHnkmeF"
      },
      "outputs": [],
      "source": [
        "#Removing features that have very strong correlations among themselves(as they compress the useful features)\n",
        "df.drop(columns=[\"LFSD\",\"LISFS\",\"Di\",\"Df\",\"Dif\",\"Unit_cell_volume\",\"Channel_surface_area_A2\",\"NASA_m2_per_cm3\",\"NAV_A3\",\"Channel_volume\",\"Pocket_surface_area_A2\"],inplace=True)\n",
        "df.drop(columns=[\"Number_of_pockets.1\"],inplace=True)"
      ]
    },
    {
      "cell_type": "code",
      "execution_count": 36,
      "metadata": {
        "colab": {
          "base_uri": "https://localhost:8080/",
          "height": 34
        },
        "id": "x28ihN1zls4j",
        "outputId": "5d8e680c-ca34-4df1-c728-e68cbe2c90b7"
      },
      "outputs": [
        {
          "output_type": "display_data",
          "data": {
            "text/plain": [
              "<Figure size 10000x10000 with 0 Axes>"
            ]
          },
          "metadata": {}
        }
      ],
      "source": [
        "df_corr=df.iloc[:,7:]\n",
        "corr_matrix=df_corr.corr()\n",
        "plt.figure(figsize=(100,100))\n",
        "#sns.heatmap(corr_matrix, annot=True, cmap='coolwarm')\n",
        "\n",
        "# Setting diagonal elements of correlation matrix to 0, for comparison from rest, because correlation from self is 1\n",
        "np.fill_diagonal(corr_matrix.values, 0)\n",
        "\n",
        "threshold=0.1\n",
        "# Finding out columns with correlation below the threshold\n",
        "#low_corr_columns = corr_matrix.columns[(abs(corr_matrix) < threshold).all()]\n",
        "\n",
        "# Removing the low correlation columns\n",
        "#df_new = df.drop(low_corr_columns, axis=1)\n",
        "#print(\"Removed columns:\", low_corr_columns.tolist())\n",
        "\n",
        "cols_with_high_correlation_COP=corr_matrix[(abs(corr_matrix['COP']) > threshold)].index.tolist()"
      ]
    },
    {
      "cell_type": "code",
      "execution_count": 50,
      "metadata": {
        "colab": {
          "base_uri": "https://localhost:8080/"
        },
        "id": "ZH-Q-A_xoT7o",
        "outputId": "f1d97d42-dfad-4289-835f-104af593980e"
      },
      "outputs": [
        {
          "output_type": "execute_result",
          "data": {
            "text/plain": [
              "['LISD',\n",
              " 'Density',\n",
              " 'ASA_A2',\n",
              " 'ASA_m2_per_cm3',\n",
              " 'ASA_m2_per_g',\n",
              " 'Number_of_channels',\n",
              " 'AV_A3',\n",
              " 'AV_Volume_fraction',\n",
              " 'AV_cm3_per_g',\n",
              " 'oms_value',\n",
              " 'No_of_Channel',\n",
              " 'H',\n",
              " 'C',\n",
              " 'Zr',\n",
              " 'O',\n",
              " 'Cu']"
            ]
          },
          "metadata": {},
          "execution_count": 50
        }
      ],
      "source": [
        "cols_with_high_correlation_COP"
      ]
    },
    {
      "cell_type": "code",
      "execution_count": 38,
      "metadata": {
        "id": "IBbLysShqse1"
      },
      "outputs": [],
      "source": [
        "X=df[cols_with_high_correlation_COP]\n",
        "scaler=StandardScaler()\n",
        "X=scaler.fit_transform(X)\n",
        "X = pd.DataFrame(X, columns=cols_with_high_correlation_COP)"
      ]
    },
    {
      "cell_type": "code",
      "execution_count": 39,
      "metadata": {
        "colab": {
          "base_uri": "https://localhost:8080/",
          "height": 447
        },
        "id": "oqb4zJGaJtRi",
        "outputId": "e9ef21ba-af4e-4542-d2e9-3c6c984c6ac6"
      },
      "outputs": [
        {
          "output_type": "execute_result",
          "data": {
            "text/plain": [
              "[<matplotlib.lines.Line2D at 0x784fc9d73490>]"
            ]
          },
          "metadata": {},
          "execution_count": 39
        },
        {
          "output_type": "display_data",
          "data": {
            "text/plain": [
              "<Figure size 640x480 with 1 Axes>"
            ],
            "image/png": "[encoded data removed]"
          },
          "metadata": {}
        }
      ],
      "source": [
        "Y=df.iloc[:,-1]\n",
        "plt.plot(Y)\n",
        "Y_acquired=Y[acquired_mofs]\n",
        "plt.plot(Y_acquired)"
      ]
    },
    {
      "cell_type": "code",
      "execution_count": 40,
      "metadata": {
        "id": "v5TOLyeSFhYL"
      },
      "outputs": [],
      "source": [
        "train_X=X.iloc[acquired_mofs].reset_index(drop=True)\n",
        "train_Y=Y.iloc[acquired_mofs].reset_index(drop=True)\n",
        "# Drop rows by their index values, reset the indices afterwards\n",
        "test_X = X.drop(X.index[acquired_mofs]).reset_index(drop=True)\n",
        "test_Y = Y.drop(Y.index[acquired_mofs]).reset_index(drop=True)\n",
        "#test_X=X.drop(acquired_mofs)\n",
        "#test_Y=Y.drop(acquired_mofs)"
      ]
    },
    {
      "cell_type": "code",
      "execution_count": 41,
      "metadata": {
        "id": "BWnL1mtKI1Q9"
      },
      "outputs": [],
      "source": [
        "from sklearn.ensemble import RandomForestRegressor\n",
        "from sklearn.metrics import mean_squared_error,r2_score\n",
        "from skopt import BayesSearchCV\n",
        "from skopt.space import Real, Integer"
      ]
    },
    {
      "cell_type": "code",
      "execution_count": 42,
      "metadata": {
        "id": "cfJtUtG1cxnn"
      },
      "outputs": [],
      "source": [
        "search_spaces = {\n",
        "    'n_estimators': Integer(10, 1500),  # Range for n_estimators from 10 to 1000\n",
        "    'max_features': Real(0.2, 1.0),      # Fraction of features to consider for best split\n",
        "    'max_depth': Integer(1, 50),         # Maximum depth of the tree\n",
        "    'min_samples_split': Integer(2, 20), # Minimum number of samples required to split an internal node\n",
        "    'min_samples_leaf': Integer(1, 20),  # Minimum number of samples required to be at a leaf node\n",
        "    #'bootstrap': [True, False]           # Whether bootstrap samples are used when building trees\n",
        "}"
      ]
    },
    {
      "cell_type": "code",
      "execution_count": 43,
      "metadata": {
        "id": "QE3Il8rndHXf"
      },
      "outputs": [],
      "source": [
        "rfr = RandomForestRegressor()\n",
        "\n",
        "# BayesSearchCV\n",
        "opt = BayesSearchCV(\n",
        "    estimator=rfr,\n",
        "    search_spaces=search_spaces,\n",
        "    n_iter=50,  # Number of iterations for optimization\n",
        "    cv=5,  # 5-fold cross-validation\n",
        "    random_state=42,\n",
        "    scoring='r2'\n",
        ")"
      ]
    },
    {
      "cell_type": "code",
      "execution_count": 44,
      "metadata": {
        "colab": {
          "base_uri": "https://localhost:8080/",
          "height": 117
        },
        "id": "FgJbj9Igdi6t",
        "outputId": "ef97ea42-f204-4172-efc4-8cfe20af055d"
      },
      "outputs": [
        {
          "output_type": "execute_result",
          "data": {
            "text/plain": [
              "BayesSearchCV(cv=5, estimator=RandomForestRegressor(), random_state=42,\n",
              "              scoring='r2',\n",
              "              search_spaces={'max_depth': Integer(low=1, high=50, prior='uniform', transform='normalize'),\n",
              "                             'max_features': Real(low=0.2, high=1.0, prior='uniform', transform='normalize'),\n",
              "                             'min_samples_leaf': Integer(low=1, high=20, prior='uniform', transform='normalize'),\n",
              "                             'min_samples_split': Integer(low=2, high=20, prior='uniform', transform='normalize'),\n",
              "                             'n_estimators': Integer(low=10, high=1500, prior='uniform', transform='normalize')})"
            ],
            "text/html": [
              "<style>#sk-container-id-2 {color: black;background-color: white;}#sk-container-id-2 pre{padding: 0;}#sk-container-id-2 div.sk-toggleable {background-color: white;}#sk-container-id-2 label.sk-toggleable__label {cursor: pointer;display: block;width: 100%;margin-bottom: 0;padding: 0.3em;box-sizing: border-box;text-align: center;}#sk-container-id-2 label.sk-toggleable__label-arrow:before {content: \"▸\";float: left;margin-right: 0.25em;color: #696969;}#sk-container-id-2 label.sk-toggleable__label-arrow:hover:before {color: black;}#sk-container-id-2 div.sk-estimator:hover label.sk-toggleable__label-arrow:before {color: black;}#sk-container-id-2 div.sk-toggleable__content {max-height: 0;max-width: 0;overflow: hidden;text-align: left;background-color: #f0f8ff;}#sk-container-id-2 div.sk-toggleable__content pre {margin: 0.2em;color: black;border-radius: 0.25em;background-color: #f0f8ff;}#sk-container-id-2 input.sk-toggleable__control:checked~div.sk-toggleable__content {max-height: 200px;max-width: 100%;overflow: auto;}#sk-container-id-2 input.sk-toggleable__control:checked~label.sk-toggleable__label-arrow:before {content: \"▾\";}#sk-container-id-2 div.sk-estimator input.sk-toggleable__control:checked~label.sk-toggleable__label {background-color: #d4ebff;}#sk-container-id-2 div.sk-label input.sk-toggleable__control:checked~label.sk-toggleable__label {background-color: #d4ebff;}#sk-container-id-2 input.sk-hidden--visually {border: 0;clip: rect(1px 1px 1px 1px);clip: rect(1px, 1px, 1px, 1px);height: 1px;margin: -1px;overflow: hidden;padding: 0;position: absolute;width: 1px;}#sk-container-id-2 div.sk-estimator {font-family: monospace;background-color: #f0f8ff;border: 1px dotted black;border-radius: 0.25em;box-sizing: border-box;margin-bottom: 0.5em;}#sk-container-id-2 div.sk-estimator:hover {background-color: #d4ebff;}#sk-container-id-2 div.sk-parallel-item::after {content: \"\";width: 100%;border-bottom: 1px solid gray;flex-grow: 1;}#sk-container-id-2 div.sk-label:hover label.sk-toggleable__label {background-color: #d4ebff;}#sk-container-id-2 div.sk-serial::before {content: \"\";position: absolute;border-left: 1px solid gray;box-sizing: border-box;top: 0;bottom: 0;left: 50%;z-index: 0;}#sk-container-id-2 div.sk-serial {display: flex;flex-direction: column;align-items: center;background-color: white;padding-right: 0.2em;padding-left: 0.2em;position: relative;}#sk-container-id-2 div.sk-item {position: relative;z-index: 1;}#sk-container-id-2 div.sk-parallel {display: flex;align-items: stretch;justify-content: center;background-color: white;position: relative;}#sk-container-id-2 div.sk-item::before, #sk-container-id-2 div.sk-parallel-item::before {content: \"\";position: absolute;border-left: 1px solid gray;box-sizing: border-box;top: 0;bottom: 0;left: 50%;z-index: -1;}#sk-container-id-2 div.sk-parallel-item {display: flex;flex-direction: column;z-index: 1;position: relative;background-color: white;}#sk-container-id-2 div.sk-parallel-item:first-child::after {align-self: flex-end;width: 50%;}#sk-container-id-2 div.sk-parallel-item:last-child::after {align-self: flex-start;width: 50%;}#sk-container-id-2 div.sk-parallel-item:only-child::after {width: 0;}#sk-container-id-2 div.sk-dashed-wrapped {border: 1px dashed gray;margin: 0 0.4em 0.5em 0.4em;box-sizing: border-box;padding-bottom: 0.4em;background-color: white;}#sk-container-id-2 div.sk-label label {font-family: monospace;font-weight: bold;display: inline-block;line-height: 1.2em;}#sk-container-id-2 div.sk-label-container {text-align: center;}#sk-container-id-2 div.sk-container {/* jupyter's `normalize.less` sets `[hidden] { display: none; }` but bootstrap.min.css set `[hidden] { display: none !important; }` so we also need the `!important` here to be able to override the default hidden behavior on the sphinx rendered scikit-learn.org. See: https://github.com/scikit-learn/scikit-learn/issues/21755 */display: inline-block !important;position: relative;}#sk-container-id-2 div.sk-text-repr-fallback {display: none;}</style><div id=\"sk-container-id-2\" class=\"sk-top-container\"><div class=\"sk-text-repr-fallback\"><pre>BayesSearchCV(cv=5, estimator=RandomForestRegressor(), random_state=42,\n",
              "              scoring=&#x27;r2&#x27;,\n",
              "              search_spaces={&#x27;max_depth&#x27;: Integer(low=1, high=50, prior=&#x27;uniform&#x27;, transform=&#x27;normalize&#x27;),\n",
              "                             &#x27;max_features&#x27;: Real(low=0.2, high=1.0, prior=&#x27;uniform&#x27;, transform=&#x27;normalize&#x27;),\n",
              "                             &#x27;min_samples_leaf&#x27;: Integer(low=1, high=20, prior=&#x27;uniform&#x27;, transform=&#x27;normalize&#x27;),\n",
              "                             &#x27;min_samples_split&#x27;: Integer(low=2, high=20, prior=&#x27;uniform&#x27;, transform=&#x27;normalize&#x27;),\n",
              "                             &#x27;n_estimators&#x27;: Integer(low=10, high=1500, prior=&#x27;uniform&#x27;, transform=&#x27;normalize&#x27;)})</pre><b>In a Jupyter environment, please rerun this cell to show the HTML representation or trust the notebook. <br />On GitHub, the HTML representation is unable to render, please try loading this page with nbviewer.org.</b></div><div class=\"sk-container\" hidden><div class=\"sk-item sk-dashed-wrapped\"><div class=\"sk-label-container\"><div class=\"sk-label sk-toggleable\"><input class=\"sk-toggleable__control sk-hidden--visually\" id=\"sk-estimator-id-4\" type=\"checkbox\" ><label for=\"sk-estimator-id-4\" class=\"sk-toggleable__label sk-toggleable__label-arrow\">BayesSearchCV</label><div class=\"sk-toggleable__content\"><pre>BayesSearchCV(cv=5, estimator=RandomForestRegressor(), random_state=42,\n",
              "              scoring=&#x27;r2&#x27;,\n",
              "              search_spaces={&#x27;max_depth&#x27;: Integer(low=1, high=50, prior=&#x27;uniform&#x27;, transform=&#x27;normalize&#x27;),\n",
              "                             &#x27;max_features&#x27;: Real(low=0.2, high=1.0, prior=&#x27;uniform&#x27;, transform=&#x27;normalize&#x27;),\n",
              "                             &#x27;min_samples_leaf&#x27;: Integer(low=1, high=20, prior=&#x27;uniform&#x27;, transform=&#x27;normalize&#x27;),\n",
              "                             &#x27;min_samples_split&#x27;: Integer(low=2, high=20, prior=&#x27;uniform&#x27;, transform=&#x27;normalize&#x27;),\n",
              "                             &#x27;n_estimators&#x27;: Integer(low=10, high=1500, prior=&#x27;uniform&#x27;, transform=&#x27;normalize&#x27;)})</pre></div></div></div><div class=\"sk-parallel\"><div class=\"sk-parallel-item\"><div class=\"sk-item\"><div class=\"sk-label-container\"><div class=\"sk-label sk-toggleable\"><input class=\"sk-toggleable__control sk-hidden--visually\" id=\"sk-estimator-id-5\" type=\"checkbox\" ><label for=\"sk-estimator-id-5\" class=\"sk-toggleable__label sk-toggleable__label-arrow\">estimator: RandomForestRegressor</label><div class=\"sk-toggleable__content\"><pre>RandomForestRegressor()</pre></div></div></div><div class=\"sk-serial\"><div class=\"sk-item\"><div class=\"sk-estimator sk-toggleable\"><input class=\"sk-toggleable__control sk-hidden--visually\" id=\"sk-estimator-id-6\" type=\"checkbox\" ><label for=\"sk-estimator-id-6\" class=\"sk-toggleable__label sk-toggleable__label-arrow\">RandomForestRegressor</label><div class=\"sk-toggleable__content\"><pre>RandomForestRegressor()</pre></div></div></div></div></div></div></div></div></div></div>"
            ]
          },
          "metadata": {},
          "execution_count": 44
        }
      ],
      "source": [
        "opt.fit(train_X,train_Y)"
      ]
    },
    {
      "cell_type": "code",
      "execution_count": 45,
      "metadata": {
        "colab": {
          "base_uri": "https://localhost:8080/"
        },
        "id": "bRuXdiMJgJSC",
        "outputId": "d7d39a5f-b680-4565-8e54-03a408560ead"
      },
      "outputs": [
        {
          "output_type": "stream",
          "name": "stdout",
          "text": [
            "R-squared (R2): 0.7058298462839492\n"
          ]
        }
      ],
      "source": [
        "best_model = opt.best_estimator_\n",
        "y_pred = best_model.predict(test_X)\n",
        "r2 = r2_score(test_Y, y_pred)\n",
        "print(f\"R-squared (R2): {r2}\")"
      ]
    }
  ],
  "metadata": {
    "colab": {
      "provenance": []
    },
    "kernelspec": {
      "display_name": "Python 3",
      "name": "python3"
    },
    "language_info": {
      "name": "python"
    }
  },
  "nbformat": 4,
  "nbformat_minor": 0
}