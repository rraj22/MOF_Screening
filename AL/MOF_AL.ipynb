{
  "cells": [
    {
      "cell_type": "code",
      "execution_count": 3,
      "metadata": {
        "colab": {
          "base_uri": "https://localhost:8080/"
        },
        "id": "Y7eaENsokOSz",
        "outputId": "c6c9d48d-27a0-4992-d0de-243b7a93cb6f"
      },
      "outputs": [
        {
          "output_type": "stream",
          "name": "stdout",
          "text": [
            "Collecting botorch\n",
            "  Downloading botorch-0.11.1-py3-none-any.whl (629 kB)\n",
            "\u001b[2K     \u001b[90m━━━━━━━━━━━━━━━━━━━━━━━━━━━━━━━━━━━━━━━━\u001b[0m \u001b[32m629.6/629.6 kB\u001b[0m \u001b[31m5.1 MB/s\u001b[0m eta \u001b[36m0:00:00\u001b[0m\n",
            "\u001b[?25hRequirement already satisfied: multipledispatch in /usr/local/lib/python3.10/dist-packages (from botorch) (1.0.0)\n",
            "Requirement already satisfied: scipy in /usr/local/lib/python3.10/dist-packages (from botorch) (1.11.4)\n",
            "Requirement already satisfied: mpmath<=1.3,>=0.19 in /usr/local/lib/python3.10/dist-packages (from botorch) (1.3.0)\n",
            "Requirement already satisfied: torch>=1.13.1 in /usr/local/lib/python3.10/dist-packages (from botorch) (2.3.0+cu121)\n",
            "Collecting pyro-ppl>=1.8.4 (from botorch)\n",
            "  Downloading pyro_ppl-1.9.1-py3-none-any.whl (755 kB)\n",
            "\u001b[2K     \u001b[90m━━━━━━━━━━━━━━━━━━━━━━━━━━━━━━━━━━━━━━━━\u001b[0m \u001b[32m756.0/756.0 kB\u001b[0m \u001b[31m8.6 MB/s\u001b[0m eta \u001b[36m0:00:00\u001b[0m\n",
            "\u001b[?25hCollecting gpytorch==1.11 (from botorch)\n",
            "  Downloading gpytorch-1.11-py3-none-any.whl (266 kB)\n",
            "\u001b[2K     \u001b[90m━━━━━━━━━━━━━━━━━━━━━━━━━━━━━━━━━━━━━━━━\u001b[0m \u001b[32m266.1/266.1 kB\u001b[0m \u001b[31m7.0 MB/s\u001b[0m eta \u001b[36m0:00:00\u001b[0m\n",
            "\u001b[?25hCollecting linear-operator==0.5.1 (from botorch)\n",
            "  Downloading linear_operator-0.5.1-py3-none-any.whl (174 kB)\n",
            "\u001b[2K     \u001b[90m━━━━━━━━━━━━━━━━━━━━━━━━━━━━━━━━━━━━━━━━\u001b[0m \u001b[32m174.5/174.5 kB\u001b[0m \u001b[31m8.0 MB/s\u001b[0m eta \u001b[36m0:00:00\u001b[0m\n",
            "\u001b[?25hRequirement already satisfied: scikit-learn in /usr/local/lib/python3.10/dist-packages (from gpytorch==1.11->botorch) (1.2.2)\n",
            "Collecting jaxtyping>=0.2.9 (from linear-operator==0.5.1->botorch)\n",
            "  Downloading jaxtyping-0.2.31-py3-none-any.whl (41 kB)\n",
            "\u001b[2K     \u001b[90m━━━━━━━━━━━━━━━━━━━━━━━━━━━━━━━━━━━━━━━━\u001b[0m \u001b[32m42.0/42.0 kB\u001b[0m \u001b[31m3.1 MB/s\u001b[0m eta \u001b[36m0:00:00\u001b[0m\n",
            "\u001b[?25hCollecting typeguard~=2.13.3 (from linear-operator==0.5.1->botorch)\n",
            "  Downloading typeguard-2.13.3-py3-none-any.whl (17 kB)\n",
            "Requirement already satisfied: numpy>=1.7 in /usr/local/lib/python3.10/dist-packages (from pyro-ppl>=1.8.4->botorch) (1.25.2)\n",
            "Requirement already satisfied: opt-einsum>=2.3.2 in /usr/local/lib/python3.10/dist-packages (from pyro-ppl>=1.8.4->botorch) (3.3.0)\n",
            "Collecting pyro-api>=0.1.1 (from pyro-ppl>=1.8.4->botorch)\n",
            "  Downloading pyro_api-0.1.2-py3-none-any.whl (11 kB)\n",
            "Requirement already satisfied: tqdm>=4.36 in /usr/local/lib/python3.10/dist-packages (from pyro-ppl>=1.8.4->botorch) (4.66.4)\n",
            "Requirement already satisfied: filelock in /usr/local/lib/python3.10/dist-packages (from torch>=1.13.1->botorch) (3.15.4)\n",
            "Requirement already satisfied: typing-extensions>=4.8.0 in /usr/local/lib/python3.10/dist-packages (from torch>=1.13.1->botorch) (4.12.2)\n",
            "Requirement already satisfied: sympy in /usr/local/lib/python3.10/dist-packages (from torch>=1.13.1->botorch) (1.12.1)\n",
            "Requirement already satisfied: networkx in /usr/local/lib/python3.10/dist-packages (from torch>=1.13.1->botorch) (3.3)\n",
            "Requirement already satisfied: jinja2 in /usr/local/lib/python3.10/dist-packages (from torch>=1.13.1->botorch) (3.1.4)\n",
            "Requirement already satisfied: fsspec in /usr/local/lib/python3.10/dist-packages (from torch>=1.13.1->botorch) (2023.6.0)\n",
            "Collecting nvidia-cuda-nvrtc-cu12==12.1.105 (from torch>=1.13.1->botorch)\n",
            "  Using cached nvidia_cuda_nvrtc_cu12-12.1.105-py3-none-manylinux1_x86_64.whl (23.7 MB)\n",
            "Collecting nvidia-cuda-runtime-cu12==12.1.105 (from torch>=1.13.1->botorch)\n",
            "  Using cached nvidia_cuda_runtime_cu12-12.1.105-py3-none-manylinux1_x86_64.whl (823 kB)\n",
            "Collecting nvidia-cuda-cupti-cu12==12.1.105 (from torch>=1.13.1->botorch)\n",
            "  Using cached nvidia_cuda_cupti_cu12-12.1.105-py3-none-manylinux1_x86_64.whl (14.1 MB)\n",
            "Collecting nvidia-cudnn-cu12==8.9.2.26 (from torch>=1.13.1->botorch)\n",
            "  Using cached nvidia_cudnn_cu12-8.9.2.26-py3-none-manylinux1_x86_64.whl (731.7 MB)\n",
            "Collecting nvidia-cublas-cu12==12.1.3.1 (from torch>=1.13.1->botorch)\n",
            "  Using cached nvidia_cublas_cu12-12.1.3.1-py3-none-manylinux1_x86_64.whl (410.6 MB)\n",
            "Collecting nvidia-cufft-cu12==11.0.2.54 (from torch>=1.13.1->botorch)\n",
            "  Using cached nvidia_cufft_cu12-11.0.2.54-py3-none-manylinux1_x86_64.whl (121.6 MB)\n",
            "Collecting nvidia-curand-cu12==10.3.2.106 (from torch>=1.13.1->botorch)\n",
            "  Using cached nvidia_curand_cu12-10.3.2.106-py3-none-manylinux1_x86_64.whl (56.5 MB)\n",
            "Collecting nvidia-cusolver-cu12==11.4.5.107 (from torch>=1.13.1->botorch)\n",
            "  Using cached nvidia_cusolver_cu12-11.4.5.107-py3-none-manylinux1_x86_64.whl (124.2 MB)\n",
            "Collecting nvidia-cusparse-cu12==12.1.0.106 (from torch>=1.13.1->botorch)\n",
            "  Using cached nvidia_cusparse_cu12-12.1.0.106-py3-none-manylinux1_x86_64.whl (196.0 MB)\n",
            "Collecting nvidia-nccl-cu12==2.20.5 (from torch>=1.13.1->botorch)\n",
            "  Using cached nvidia_nccl_cu12-2.20.5-py3-none-manylinux2014_x86_64.whl (176.2 MB)\n",
            "Collecting nvidia-nvtx-cu12==12.1.105 (from torch>=1.13.1->botorch)\n",
            "  Using cached nvidia_nvtx_cu12-12.1.105-py3-none-manylinux1_x86_64.whl (99 kB)\n",
            "Requirement already satisfied: triton==2.3.0 in /usr/local/lib/python3.10/dist-packages (from torch>=1.13.1->botorch) (2.3.0)\n",
            "Collecting nvidia-nvjitlink-cu12 (from nvidia-cusolver-cu12==11.4.5.107->torch>=1.13.1->botorch)\n",
            "  Downloading nvidia_nvjitlink_cu12-12.5.82-py3-none-manylinux2014_x86_64.whl (21.3 MB)\n",
            "\u001b[2K     \u001b[90m━━━━━━━━━━━━━━━━━━━━━━━━━━━━━━━━━━━━━━━━\u001b[0m \u001b[32m21.3/21.3 MB\u001b[0m \u001b[31m40.2 MB/s\u001b[0m eta \u001b[36m0:00:00\u001b[0m\n",
            "\u001b[?25hRequirement already satisfied: MarkupSafe>=2.0 in /usr/local/lib/python3.10/dist-packages (from jinja2->torch>=1.13.1->botorch) (2.1.5)\n",
            "Requirement already satisfied: joblib>=1.1.1 in /usr/local/lib/python3.10/dist-packages (from scikit-learn->gpytorch==1.11->botorch) (1.4.2)\n",
            "Requirement already satisfied: threadpoolctl>=2.0.0 in /usr/local/lib/python3.10/dist-packages (from scikit-learn->gpytorch==1.11->botorch) (3.5.0)\n",
            "Installing collected packages: pyro-api, typeguard, nvidia-nvtx-cu12, nvidia-nvjitlink-cu12, nvidia-nccl-cu12, nvidia-curand-cu12, nvidia-cufft-cu12, nvidia-cuda-runtime-cu12, nvidia-cuda-nvrtc-cu12, nvidia-cuda-cupti-cu12, nvidia-cublas-cu12, nvidia-cusparse-cu12, nvidia-cudnn-cu12, jaxtyping, nvidia-cusolver-cu12, pyro-ppl, linear-operator, gpytorch, botorch\n",
            "Successfully installed botorch-0.11.1 gpytorch-1.11 jaxtyping-0.2.31 linear-operator-0.5.1 nvidia-cublas-cu12-12.1.3.1 nvidia-cuda-cupti-cu12-12.1.105 nvidia-cuda-nvrtc-cu12-12.1.105 nvidia-cuda-runtime-cu12-12.1.105 nvidia-cudnn-cu12-8.9.2.26 nvidia-cufft-cu12-11.0.2.54 nvidia-curand-cu12-10.3.2.106 nvidia-cusolver-cu12-11.4.5.107 nvidia-cusparse-cu12-12.1.0.106 nvidia-nccl-cu12-2.20.5 nvidia-nvjitlink-cu12-12.5.82 nvidia-nvtx-cu12-12.1.105 pyro-api-0.1.2 pyro-ppl-1.9.1 typeguard-2.13.3\n"
          ]
        }
      ],
      "source": [
        "pip install botorch"
      ]
    },
    {
      "cell_type": "code",
      "execution_count": 5,
      "metadata": {
        "id": "NeHcLdO5veTx"
      },
      "outputs": [],
      "source": [
        "import numpy as np\n",
        "import pickle\n",
        "import pandas as pd\n",
        "import torch\n",
        "from botorch.models import FixedNoiseGP, SingleTaskGP\n",
        "from gpytorch.kernels import ScaleKernel\n",
        "from gpytorch.mlls import ExactMarginalLogLikelihood\n",
        "from botorch.fit import fit_gpytorch_mll\n",
        "from scipy.stats import norm\n",
        "from botorch.acquisition.analytic import ExpectedImprovement\n",
        "import matplotlib.pyplot as plt\n",
        "import sys\n",
        "import time\n",
        "import os\n",
        "from torch.optim import Adam\n",
        "import gpytorch\n",
        "import seaborn as sns"
      ]
    },
    {
      "cell_type": "code",
      "execution_count": 138,
      "metadata": {
        "id": "FLLfBkcpwws2"
      },
      "outputs": [],
      "source": [
        "data=pd.read_csv('MOF_data.csv')"
      ]
    },
    {
      "cell_type": "code",
      "execution_count": 190,
      "metadata": {
        "colab": {
          "base_uri": "https://localhost:8080/"
        },
        "id": "xf36u3dnxVZ5",
        "outputId": "f9ddf0b6-c983-4a9b-a8ec-db8cf38cf167"
      },
      "outputs": [
        {
          "output_type": "stream",
          "name": "stdout",
          "text": [
            "\n",
            "Rows with NaN values:\n",
            "                                               MOF  uptake_ads  uptake_des  \\\n",
            "7181  acs.inorgchem.6b00276_ic6b00276_si_006_clean    0.421515    0.395023   \n",
            "7182  acs.inorgchem.6b01762_ic6b01762_si_002_clean    0.087637    0.074696   \n",
            "7183  acs.inorgchem.6b02696_ic6b02696_si_002_clean    0.294982    0.280449   \n",
            "7184              acscombsci.5b00188_5036495_clean    0.549701    0.613880   \n",
            "\n",
            "         del_q  heat_ads  heat_des  del_H_ads      LISD     LFSD     LISFS  \\\n",
            "7181  0.026492 -39.33925       NaN        NaN  14.12459  8.71298  14.12459   \n",
            "7182  0.012940 -30.35526       NaN        NaN  11.40609  8.52606  11.40609   \n",
            "7183  0.014533 -34.78612       NaN        NaN  12.11622  5.03656  12.11622   \n",
            "7184 -0.064179 -18.93596       NaN        NaN  11.02841  8.71025  10.83963   \n",
            "\n",
            "      ...  La  Cr  Ti  Ba  Rh  Ce  Cu  Al  Re       COP  \n",
            "7181  ...   0   0   0   0   0   0   0   0   0  0.216845  \n",
            "7182  ...   0   0   0   0   0   0   0   0   0  0.105920  \n",
            "7183  ...   0   0   0   0   0   0   0   0   0  0.118957  \n",
            "7184  ...   0   0   0   0   0   0   0   0   0 -0.525329  \n",
            "\n",
            "[4 rows x 114 columns]\n",
            "\n",
            "DataFrame after removing rows with NaN values:\n",
            "                         MOF  uptake_ads  uptake_des     del_q  heat_ads  \\\n",
            "0             XUKYEI_neutral    0.920997    0.668303  0.252694 -21.55231   \n",
            "1     ja300034j_si_002_clean    0.433112    0.187346  0.245766 -25.96441   \n",
            "2             QIYDAF01_clean    0.827077    0.660425  0.166652 -19.37443   \n",
            "3               XAHPIH_clean    0.818678    0.634451  0.184227 -21.96228   \n",
            "4               VETMIS_clean    0.932519    0.746597  0.185922 -22.10557   \n",
            "...                      ...         ...         ...       ...       ...   \n",
            "6912            SANHUN_clean    0.099955    0.099916  0.000040 -36.97365   \n",
            "6913            PEKVUY_clean    0.063529    0.063499  0.000030 -40.67769   \n",
            "6914            HEXNII_clean    0.055041    0.055024  0.000017 -43.94061   \n",
            "6915            IBIYUO_clean    0.033219    0.033211  0.000008 -34.91721   \n",
            "6916            LIDZUV_clean    0.064040    0.064040  0.000000 -37.87383   \n",
            "\n",
            "      heat_des  del_H_ads      LISD      LFSD     LISFS  ...  La  Cr  Ti  Ba  \\\n",
            "0    -18.39099 -19.971650  13.18217  10.20370  13.18217  ...   0   0   0   0   \n",
            "1    -17.79542 -21.879915  17.49700  17.44104  17.49700  ...   0   0   0   0   \n",
            "2    -18.95302 -19.163725  22.00141  13.48659  22.00141  ...   0   0   0   0   \n",
            "3    -19.54395 -20.753115  14.37026  13.22660  14.37026  ...   0   0   0   0   \n",
            "4    -19.92746 -21.016515  18.13430  11.96931  18.13430  ...   0   0   0   0   \n",
            "...        ...        ...       ...       ...       ...  ...  ..  ..  ..  ..   \n",
            "6912 -45.60806 -41.290855   6.56302   4.77517   6.56302  ...   0   0   0   0   \n",
            "6913 -46.56410 -43.620895   5.67220   3.42753   4.50995  ...   0   0   0   2   \n",
            "6914 -40.02038 -41.980495   4.90669   3.50214   4.90669  ...   0   0   0   0   \n",
            "6915 -34.33881 -34.628010   5.16636   4.13343   5.13222  ...   0   0   0   0   \n",
            "6916 -36.02640 -36.950115   4.48832   3.71412   4.48832  ...   0   0   0   0   \n",
            "\n",
            "      Rh  Ce  Cu  Al  Re       COP  \n",
            "0      0   0   2   0   0  0.583945  \n",
            "1      0   0   0   0   0  0.542431  \n",
            "2      0   0  24   0   0  0.522907  \n",
            "3      0   0   8   0   0  0.515395  \n",
            "4      0   0  12   0   0  0.512710  \n",
            "...   ..  ..  ..  ..  ..       ...  \n",
            "6912   0   0   0   0   0  0.000327  \n",
            "6913   0   0   0   0   0  0.000246  \n",
            "6914   0   0   0   0   0  0.000137  \n",
            "6915   0   0  64   0   0  0.000066  \n",
            "6916   0   0   0   0   0  0.000000  \n",
            "\n",
            "[6917 rows x 113 columns]\n"
          ]
        }
      ],
      "source": [
        "data.head()\n",
        "# Identify rows with any NaN values\n",
        "rows_with_nan = data.isnull().any(axis=1)\n",
        "\n",
        "# Display rows that contain NaN values\n",
        "print(\"\\nRows with NaN values:\")\n",
        "print(data[rows_with_nan])\n",
        "\n",
        "# Remove rows with any NaN values\n",
        "df = data.dropna()\n",
        "df = df[df['del_q'] >= 0]\n",
        "df=df.drop('Pu',axis=1) #It contains all values as 0\n",
        "print(\"\\nDataFrame after removing rows with NaN values:\")\n",
        "print(df)"
      ]
    },
    {
      "cell_type": "code",
      "execution_count": 191,
      "metadata": {
        "id": "5BXcL0CLxW6r"
      },
      "outputs": [],
      "source": [
        "X=df.iloc[:,7:-1]\n",
        "Y=df.iloc[:,-1]\n",
        "#material_names=df.iloc[:,0]"
      ]
    },
    {
      "cell_type": "code",
      "execution_count": 192,
      "metadata": {
        "id": "GU8ENC811u-u"
      },
      "outputs": [],
      "source": [
        "from sklearn.preprocessing import StandardScaler,MinMaxScaler"
      ]
    },
    {
      "cell_type": "code",
      "execution_count": 193,
      "metadata": {
        "id": "LNz_MjMv1wRn"
      },
      "outputs": [],
      "source": [
        "X_npArray=X.to_numpy()\n",
        "Y_npArray=Y.to_numpy()"
      ]
    },
    {
      "cell_type": "code",
      "source": [
        "# Initialize BO parameters\n",
        "nb_iterations = 110\n",
        "nb_runs = 100\n",
        "initial_mofs = 100  # Number of initial MOFs to randomly select"
      ],
      "metadata": {
        "id": "70fvU8diz8BH"
      },
      "execution_count": 194,
      "outputs": []
    },
    {
      "cell_type": "code",
      "execution_count": 195,
      "metadata": {
        "id": "mC7OeE0h235y"
      },
      "outputs": [],
      "source": [
        "# Convert to torch tensors\n",
        "X_tensor = torch.from_numpy(X_npArray).float()\n",
        "y_tensor = torch.from_numpy(Y_npArray).float()\n",
        "# Placeholder for acquired MOFs\n",
        "acquired_mofs = []\n",
        "\n",
        "# Select initial MOFs randomly\n",
        "initial_ids = np.random.choice(np.arange(len(X)), size=initial_mofs, replace=False)\n",
        "#initial_ids = np.random.choice(np.arange(1,100), size=initial_mofs, replace=False),\n",
        "'''if taken random from only initial mofs, properties of last mofs are not being able to be predicted properly'''\n",
        "acquired_mofs.extend(initial_ids)\n",
        "\n",
        "X_unsqueezed = X_tensor.unsqueeze(1)\n",
        "\n",
        "#features=df.columns[7:-1]"
      ]
    },
    {
      "cell_type": "code",
      "source": [],
      "metadata": {
        "id": "WX5gklZYwJDJ"
      },
      "execution_count": 195,
      "outputs": []
    },
    {
      "cell_type": "code",
      "execution_count": 196,
      "metadata": {
        "id": "Ob_Pj0PrxcDC"
      },
      "outputs": [],
      "source": [
        "X_tensor = X_tensor.double()\n",
        "y_tensor = y_tensor.double()\n",
        "\n",
        "# Min-max scaling for X_train\n",
        "scaler_X = MinMaxScaler()\n",
        "X_tensor = torch.tensor(scaler_X.fit_transform(X_tensor), dtype=torch.float64)\n",
        "\n",
        "# Standardization for y_train\n",
        "scaler_y = StandardScaler()\n",
        "y_train_reshaped = y_tensor.reshape(-1, 1)\n",
        "\n",
        "# Fit and transform y_train\n",
        "y_train_scaled = scaler_y.fit_transform(y_train_reshaped)\n",
        "\n",
        "# Convert back to tensor\n",
        "y_tensor = torch.tensor(y_train_scaled, dtype=torch.float64)"
      ]
    },
    {
      "cell_type": "code",
      "execution_count": 197,
      "metadata": {
        "colab": {
          "base_uri": "https://localhost:8080/"
        },
        "id": "M4OYDdj94pf1",
        "outputId": "ce9c59f5-1b45-4a28-e454-99b8312d91c7"
      },
      "outputs": [
        {
          "output_type": "stream",
          "name": "stdout",
          "text": [
            "Iteration: 100\r"
          ]
        },
        {
          "output_type": "stream",
          "name": "stderr",
          "text": [
            "/usr/local/lib/python3.10/dist-packages/botorch/models/utils/assorted.py:260: InputDataWarning: Data is not standardized (std = tensor([1.0056], dtype=torch.float64), mean = tensor([-0.0287], dtype=torch.float64)). Please consider scaling the input to zero mean and unit variance.\n",
            "  check_standardization(Y=train_Y, raise_on_fail=raise_on_fail)\n"
          ]
        },
        {
          "output_type": "stream",
          "name": "stdout",
          "text": [
            "Iteration 100: Acquired MOF 0\n",
            "Acquired MOFs: [3745, 6057, 1629, 2892, 4053, 5772, 95, 6658, 5955, 6025, 1421, 911, 1976, 1278, 4953, 82, 5710, 4255, 1391, 5823, 2422, 3222, 6329, 4586, 930, 1387, 4418, 993, 2302, 3370, 3508, 277, 3211, 2233, 3787, 5538, 417, 6366, 1470, 4909, 4757, 5701, 6361, 3511, 2633, 2999, 4198, 1922, 3201, 2499, 5572, 301, 1366, 6719, 1553, 4425, 3810, 6833, 5469, 5986, 6394, 1827, 3177, 4631, 737, 46, 2493, 1678, 3183, 3246, 5994, 4468, 5905, 4637, 3134, 6878, 3236, 6479, 6368, 6171, 5641, 2807, 5073, 1683, 5104, 2865, 2639, 1349, 1944, 2172, 4197, 241, 1180, 2829, 1035, 5154, 4424, 1324, 4193, 3584, 0]\n",
            "Expected length: 101, Actual length: 101\n",
            "Iteration: 101\r"
          ]
        },
        {
          "output_type": "stream",
          "name": "stderr",
          "text": [
            "/usr/local/lib/python3.10/dist-packages/botorch/models/utils/assorted.py:260: InputDataWarning: Data is not standardized (std = tensor([1.1542], dtype=torch.float64), mean = tensor([0.0286], dtype=torch.float64)). Please consider scaling the input to zero mean and unit variance.\n",
            "  check_standardization(Y=train_Y, raise_on_fail=raise_on_fail)\n"
          ]
        },
        {
          "output_type": "stream",
          "name": "stdout",
          "text": [
            "Iteration 101: Acquired MOF 1\n",
            "Acquired MOFs: [3745, 6057, 1629, 2892, 4053, 5772, 95, 6658, 5955, 6025, 1421, 911, 1976, 1278, 4953, 82, 5710, 4255, 1391, 5823, 2422, 3222, 6329, 4586, 930, 1387, 4418, 993, 2302, 3370, 3508, 277, 3211, 2233, 3787, 5538, 417, 6366, 1470, 4909, 4757, 5701, 6361, 3511, 2633, 2999, 4198, 1922, 3201, 2499, 5572, 301, 1366, 6719, 1553, 4425, 3810, 6833, 5469, 5986, 6394, 1827, 3177, 4631, 737, 46, 2493, 1678, 3183, 3246, 5994, 4468, 5905, 4637, 3134, 6878, 3236, 6479, 6368, 6171, 5641, 2807, 5073, 1683, 5104, 2865, 2639, 1349, 1944, 2172, 4197, 241, 1180, 2829, 1035, 5154, 4424, 1324, 4193, 3584, 0, 1]\n",
            "Expected length: 102, Actual length: 102\n",
            "Iteration: 102\r"
          ]
        },
        {
          "output_type": "stream",
          "name": "stderr",
          "text": [
            "/usr/local/lib/python3.10/dist-packages/botorch/models/utils/assorted.py:260: InputDataWarning: Data is not standardized (std = tensor([1.2595], dtype=torch.float64), mean = tensor([0.0798], dtype=torch.float64)). Please consider scaling the input to zero mean and unit variance.\n",
            "  check_standardization(Y=train_Y, raise_on_fail=raise_on_fail)\n"
          ]
        },
        {
          "output_type": "stream",
          "name": "stdout",
          "text": [
            "Iteration 102: Acquired MOF 5\n",
            "Acquired MOFs: [3745, 6057, 1629, 2892, 4053, 5772, 95, 6658, 5955, 6025, 1421, 911, 1976, 1278, 4953, 82, 5710, 4255, 1391, 5823, 2422, 3222, 6329, 4586, 930, 1387, 4418, 993, 2302, 3370, 3508, 277, 3211, 2233, 3787, 5538, 417, 6366, 1470, 4909, 4757, 5701, 6361, 3511, 2633, 2999, 4198, 1922, 3201, 2499, 5572, 301, 1366, 6719, 1553, 4425, 3810, 6833, 5469, 5986, 6394, 1827, 3177, 4631, 737, 46, 2493, 1678, 3183, 3246, 5994, 4468, 5905, 4637, 3134, 6878, 3236, 6479, 6368, 6171, 5641, 2807, 5073, 1683, 5104, 2865, 2639, 1349, 1944, 2172, 4197, 241, 1180, 2829, 1035, 5154, 4424, 1324, 4193, 3584, 0, 1, 5]\n",
            "Expected length: 103, Actual length: 103\n",
            "Iteration: 103\r"
          ]
        },
        {
          "output_type": "stream",
          "name": "stderr",
          "text": [
            "/usr/local/lib/python3.10/dist-packages/botorch/models/utils/assorted.py:260: InputDataWarning: Data is not standardized (std = tensor([1.3322], dtype=torch.float64), mean = tensor([0.1242], dtype=torch.float64)). Please consider scaling the input to zero mean and unit variance.\n",
            "  check_standardization(Y=train_Y, raise_on_fail=raise_on_fail)\n"
          ]
        },
        {
          "output_type": "stream",
          "name": "stdout",
          "text": [
            "Iteration 103: Acquired MOF 3\n",
            "Acquired MOFs: [3745, 6057, 1629, 2892, 4053, 5772, 95, 6658, 5955, 6025, 1421, 911, 1976, 1278, 4953, 82, 5710, 4255, 1391, 5823, 2422, 3222, 6329, 4586, 930, 1387, 4418, 993, 2302, 3370, 3508, 277, 3211, 2233, 3787, 5538, 417, 6366, 1470, 4909, 4757, 5701, 6361, 3511, 2633, 2999, 4198, 1922, 3201, 2499, 5572, 301, 1366, 6719, 1553, 4425, 3810, 6833, 5469, 5986, 6394, 1827, 3177, 4631, 737, 46, 2493, 1678, 3183, 3246, 5994, 4468, 5905, 4637, 3134, 6878, 3236, 6479, 6368, 6171, 5641, 2807, 5073, 1683, 5104, 2865, 2639, 1349, 1944, 2172, 4197, 241, 1180, 2829, 1035, 5154, 4424, 1324, 4193, 3584, 0, 1, 5, 3]\n",
            "Expected length: 104, Actual length: 104\n",
            "Iteration: 104\r"
          ]
        },
        {
          "output_type": "stream",
          "name": "stderr",
          "text": [
            "/usr/local/lib/python3.10/dist-packages/botorch/models/utils/assorted.py:260: InputDataWarning: Data is not standardized (std = tensor([1.4067], dtype=torch.float64), mean = tensor([0.1704], dtype=torch.float64)). Please consider scaling the input to zero mean and unit variance.\n",
            "  check_standardization(Y=train_Y, raise_on_fail=raise_on_fail)\n"
          ]
        },
        {
          "output_type": "stream",
          "name": "stdout",
          "text": [
            "Iteration 104: Acquired MOF 6\n",
            "Acquired MOFs: [3745, 6057, 1629, 2892, 4053, 5772, 95, 6658, 5955, 6025, 1421, 911, 1976, 1278, 4953, 82, 5710, 4255, 1391, 5823, 2422, 3222, 6329, 4586, 930, 1387, 4418, 993, 2302, 3370, 3508, 277, 3211, 2233, 3787, 5538, 417, 6366, 1470, 4909, 4757, 5701, 6361, 3511, 2633, 2999, 4198, 1922, 3201, 2499, 5572, 301, 1366, 6719, 1553, 4425, 3810, 6833, 5469, 5986, 6394, 1827, 3177, 4631, 737, 46, 2493, 1678, 3183, 3246, 5994, 4468, 5905, 4637, 3134, 6878, 3236, 6479, 6368, 6171, 5641, 2807, 5073, 1683, 5104, 2865, 2639, 1349, 1944, 2172, 4197, 241, 1180, 2829, 1035, 5154, 4424, 1324, 4193, 3584, 0, 1, 5, 3, 6]\n",
            "Expected length: 105, Actual length: 105\n",
            "Iteration: 105\r"
          ]
        },
        {
          "output_type": "stream",
          "name": "stderr",
          "text": [
            "/usr/local/lib/python3.10/dist-packages/botorch/models/utils/assorted.py:260: InputDataWarning: Data is not standardized (std = tensor([1.4679], dtype=torch.float64), mean = tensor([0.2134], dtype=torch.float64)). Please consider scaling the input to zero mean and unit variance.\n",
            "  check_standardization(Y=train_Y, raise_on_fail=raise_on_fail)\n"
          ]
        },
        {
          "output_type": "stream",
          "name": "stdout",
          "text": [
            "Iteration 105: Acquired MOF 2\n",
            "Acquired MOFs: [3745, 6057, 1629, 2892, 4053, 5772, 95, 6658, 5955, 6025, 1421, 911, 1976, 1278, 4953, 82, 5710, 4255, 1391, 5823, 2422, 3222, 6329, 4586, 930, 1387, 4418, 993, 2302, 3370, 3508, 277, 3211, 2233, 3787, 5538, 417, 6366, 1470, 4909, 4757, 5701, 6361, 3511, 2633, 2999, 4198, 1922, 3201, 2499, 5572, 301, 1366, 6719, 1553, 4425, 3810, 6833, 5469, 5986, 6394, 1827, 3177, 4631, 737, 46, 2493, 1678, 3183, 3246, 5994, 4468, 5905, 4637, 3134, 6878, 3236, 6479, 6368, 6171, 5641, 2807, 5073, 1683, 5104, 2865, 2639, 1349, 1944, 2172, 4197, 241, 1180, 2829, 1035, 5154, 4424, 1324, 4193, 3584, 0, 1, 5, 3, 6, 2]\n",
            "Expected length: 106, Actual length: 106\n",
            "Iteration: 106\r"
          ]
        },
        {
          "output_type": "stream",
          "name": "stderr",
          "text": [
            "/usr/local/lib/python3.10/dist-packages/botorch/models/utils/assorted.py:260: InputDataWarning: Data is not standardized (std = tensor([1.5335], dtype=torch.float64), mean = tensor([0.2587], dtype=torch.float64)). Please consider scaling the input to zero mean and unit variance.\n",
            "  check_standardization(Y=train_Y, raise_on_fail=raise_on_fail)\n"
          ]
        },
        {
          "output_type": "stream",
          "name": "stdout",
          "text": [
            "Iteration 106: Acquired MOF 8\n",
            "Acquired MOFs: [3745, 6057, 1629, 2892, 4053, 5772, 95, 6658, 5955, 6025, 1421, 911, 1976, 1278, 4953, 82, 5710, 4255, 1391, 5823, 2422, 3222, 6329, 4586, 930, 1387, 4418, 993, 2302, 3370, 3508, 277, 3211, 2233, 3787, 5538, 417, 6366, 1470, 4909, 4757, 5701, 6361, 3511, 2633, 2999, 4198, 1922, 3201, 2499, 5572, 301, 1366, 6719, 1553, 4425, 3810, 6833, 5469, 5986, 6394, 1827, 3177, 4631, 737, 46, 2493, 1678, 3183, 3246, 5994, 4468, 5905, 4637, 3134, 6878, 3236, 6479, 6368, 6171, 5641, 2807, 5073, 1683, 5104, 2865, 2639, 1349, 1944, 2172, 4197, 241, 1180, 2829, 1035, 5154, 4424, 1324, 4193, 3584, 0, 1, 5, 3, 6, 2, 8]\n",
            "Expected length: 107, Actual length: 107\n",
            "Iteration: 107\r"
          ]
        },
        {
          "output_type": "stream",
          "name": "stderr",
          "text": [
            "/usr/local/lib/python3.10/dist-packages/botorch/models/utils/assorted.py:260: InputDataWarning: Data is not standardized (std = tensor([1.5761], dtype=torch.float64), mean = tensor([0.2968], dtype=torch.float64)). Please consider scaling the input to zero mean and unit variance.\n",
            "  check_standardization(Y=train_Y, raise_on_fail=raise_on_fail)\n"
          ]
        },
        {
          "output_type": "stream",
          "name": "stdout",
          "text": [
            "Iteration 107: Acquired MOF 4\n",
            "Acquired MOFs: [3745, 6057, 1629, 2892, 4053, 5772, 95, 6658, 5955, 6025, 1421, 911, 1976, 1278, 4953, 82, 5710, 4255, 1391, 5823, 2422, 3222, 6329, 4586, 930, 1387, 4418, 993, 2302, 3370, 3508, 277, 3211, 2233, 3787, 5538, 417, 6366, 1470, 4909, 4757, 5701, 6361, 3511, 2633, 2999, 4198, 1922, 3201, 2499, 5572, 301, 1366, 6719, 1553, 4425, 3810, 6833, 5469, 5986, 6394, 1827, 3177, 4631, 737, 46, 2493, 1678, 3183, 3246, 5994, 4468, 5905, 4637, 3134, 6878, 3236, 6479, 6368, 6171, 5641, 2807, 5073, 1683, 5104, 2865, 2639, 1349, 1944, 2172, 4197, 241, 1180, 2829, 1035, 5154, 4424, 1324, 4193, 3584, 0, 1, 5, 3, 6, 2, 8, 4]\n",
            "Expected length: 108, Actual length: 108\n",
            "Iteration: 108\r"
          ]
        },
        {
          "output_type": "stream",
          "name": "stderr",
          "text": [
            "/usr/local/lib/python3.10/dist-packages/botorch/models/utils/assorted.py:260: InputDataWarning: Data is not standardized (std = tensor([1.6298], dtype=torch.float64), mean = tensor([0.3393], dtype=torch.float64)). Please consider scaling the input to zero mean and unit variance.\n",
            "  check_standardization(Y=train_Y, raise_on_fail=raise_on_fail)\n"
          ]
        },
        {
          "output_type": "stream",
          "name": "stdout",
          "text": [
            "Iteration 108: Acquired MOF 7\n",
            "Acquired MOFs: [3745, 6057, 1629, 2892, 4053, 5772, 95, 6658, 5955, 6025, 1421, 911, 1976, 1278, 4953, 82, 5710, 4255, 1391, 5823, 2422, 3222, 6329, 4586, 930, 1387, 4418, 993, 2302, 3370, 3508, 277, 3211, 2233, 3787, 5538, 417, 6366, 1470, 4909, 4757, 5701, 6361, 3511, 2633, 2999, 4198, 1922, 3201, 2499, 5572, 301, 1366, 6719, 1553, 4425, 3810, 6833, 5469, 5986, 6394, 1827, 3177, 4631, 737, 46, 2493, 1678, 3183, 3246, 5994, 4468, 5905, 4637, 3134, 6878, 3236, 6479, 6368, 6171, 5641, 2807, 5073, 1683, 5104, 2865, 2639, 1349, 1944, 2172, 4197, 241, 1180, 2829, 1035, 5154, 4424, 1324, 4193, 3584, 0, 1, 5, 3, 6, 2, 8, 4, 7]\n",
            "Expected length: 109, Actual length: 109\n",
            "Iteration: 109\r"
          ]
        },
        {
          "output_type": "stream",
          "name": "stderr",
          "text": [
            "/usr/local/lib/python3.10/dist-packages/botorch/models/utils/assorted.py:260: InputDataWarning: Data is not standardized (std = tensor([1.6677], dtype=torch.float64), mean = tensor([0.3763], dtype=torch.float64)). Please consider scaling the input to zero mean and unit variance.\n",
            "  check_standardization(Y=train_Y, raise_on_fail=raise_on_fail)\n"
          ]
        },
        {
          "output_type": "stream",
          "name": "stdout",
          "text": [
            "Iteration 109: Acquired MOF 9\n",
            "Acquired MOFs: [3745, 6057, 1629, 2892, 4053, 5772, 95, 6658, 5955, 6025, 1421, 911, 1976, 1278, 4953, 82, 5710, 4255, 1391, 5823, 2422, 3222, 6329, 4586, 930, 1387, 4418, 993, 2302, 3370, 3508, 277, 3211, 2233, 3787, 5538, 417, 6366, 1470, 4909, 4757, 5701, 6361, 3511, 2633, 2999, 4198, 1922, 3201, 2499, 5572, 301, 1366, 6719, 1553, 4425, 3810, 6833, 5469, 5986, 6394, 1827, 3177, 4631, 737, 46, 2493, 1678, 3183, 3246, 5994, 4468, 5905, 4637, 3134, 6878, 3236, 6479, 6368, 6171, 5641, 2807, 5073, 1683, 5104, 2865, 2639, 1349, 1944, 2172, 4197, 241, 1180, 2829, 1035, 5154, 4424, 1324, 4193, 3584, 0, 1, 5, 3, 6, 2, 8, 4, 7, 9]\n",
            "Expected length: 110, Actual length: 110\n",
            "Acquisition process completed successfully.\n"
          ]
        }
      ],
      "source": [
        "\n",
        "for i in range(initial_mofs, nb_iterations):\n",
        "    print(\"Iteration:\", i, end=\"\\r\")\n",
        "\n",
        "    # Construct and fit GP model using currently acquired MOFs\n",
        "    X_train = X_tensor[acquired_mofs, :]\n",
        "    y_train = y_tensor[acquired_mofs]\n",
        "\n",
        "    model = SingleTaskGP(X_train, y_train)\n",
        "    mll = ExactMarginalLogLikelihood(model.likelihood, model)\n",
        "    fit_gpytorch_mll(mll)\n",
        "\n",
        "    # Set up acquisition function\n",
        "    acquisition_function = ExpectedImprovement(model, best_f=y_train.max().item())\n",
        "    with torch.no_grad():\n",
        "        acquisition_values = acquisition_function(X_unsqueezed).squeeze()\n",
        "\n",
        "    # Select MOF with the highest acquisition value that hasn't been acquired yet\n",
        "    id_max_acquisition = acquisition_values.argmax().item()\n",
        "    while id_max_acquisition in acquired_mofs:\n",
        "        acquisition_values[id_max_acquisition] = float('-inf')\n",
        "        id_max_acquisition = acquisition_values.argmax().item()\n",
        "\n",
        "    # Acquire this MOF\n",
        "    acquired_mofs.append(id_max_acquisition)\n",
        "\n",
        "    # Debug information\n",
        "    print(f\"Iteration {i}: Acquired MOF {id_max_acquisition}\")\n",
        "    print(f\"Acquired MOFs: {acquired_mofs}\")\n",
        "    print(f\"Expected length: {i + 1}, Actual length: {len(acquired_mofs)}\")\n",
        "\n",
        "    # Check the length of acquired_mofs\n",
        "    assert len(acquired_mofs) == i + 1\n",
        "\n",
        "print(\"Acquisition process completed successfully.\")"
      ]
    },
    {
      "cell_type": "code",
      "source": [
        "#Removing features that have very strong correlations among themselves(as they compress the useful features)\n",
        "df.drop(columns=[\"LFSD\",\"LISFS\",\"Di\",\"Df\",\"Dif\",\"Unit_cell_volume\",\"Channel_surface_area_A2\",\"NASA_m2_per_cm3\",\"NAV_A3\",\"Channel_volume\",\"Pocket_surface_area_A2\"],inplace=True)"
      ],
      "metadata": {
        "id": "osQ2UlHnkmeF"
      },
      "execution_count": 198,
      "outputs": []
    },
    {
      "cell_type": "code",
      "source": [
        "df_corr=df.iloc[:,7:]\n",
        "corr_matrix=df_corr.corr()\n",
        "plt.figure(figsize=(100,100))\n",
        "#sns.heatmap(corr_matrix, annot=True, cmap='coolwarm')\n",
        "\n",
        "# Setting diagonal elements of correlation matrix to 0, for comparison from rest, because correlation from self is 1\n",
        "np.fill_diagonal(corr_matrix.values, 0)\n",
        "\n",
        "threshold=0.2\n",
        "# Finding out columns with correlation below the threshold\n",
        "low_corr_columns = corr_matrix.columns[(abs(corr_matrix) < threshold).all()]\n",
        "\n",
        "# Removing the low correlation columns\n",
        "df_new = df.drop(low_corr_columns, axis=1)\n",
        "print(\"Removed columns:\", low_corr_columns.tolist())"
      ],
      "metadata": {
        "colab": {
          "base_uri": "https://localhost:8080/",
          "height": 72
        },
        "id": "x28ihN1zls4j",
        "outputId": "c0be2fc8-4d5e-4526-d4d5-0828a54d8478"
      },
      "execution_count": 199,
      "outputs": [
        {
          "output_type": "stream",
          "name": "stdout",
          "text": [
            "Removed columns: ['NAV_cm3_per_g', 'Yb', 'Ir', 'K', 'V', 'Te', 'Sr', 'Bi', 'Mg', 'Be', 'F', 'Pb', 'Er', 'Y', 'Gd', 'Sn', 'Cs', 'B', 'Si', 'Pt', 'Th', 'Ca', 'Dy', 'Au', 'Rb', 'Zr', 'Ho', 'Br', 'Sc', 'Na', 'Pd', 'Np', 'Ru', 'Li', 'Lu', 'Hg', 'Hf', 'Eu', 'Tb', 'Tm', 'Sm', 'La', 'Cr', 'Ti', 'Ba', 'Rh', 'Ce', 'Al']\n"
          ]
        },
        {
          "output_type": "display_data",
          "data": {
            "text/plain": [
              "<Figure size 10000x10000 with 0 Axes>"
            ]
          },
          "metadata": {}
        }
      ]
    },
    {
      "cell_type": "code",
      "source": [
        "cols=df_new.columns\n",
        "#X=df_new.iloc[:,7:-1]\n",
        "Y=df_new.iloc[:,-1]"
      ],
      "metadata": {
        "id": "IBbLysShqse1"
      },
      "execution_count": 200,
      "outputs": []
    },
    {
      "cell_type": "code",
      "source": [
        "columns_to_remove = ['MOF', 'uptake_ads', 'uptake_des', 'del_q', 'heat_ads', 'heat_des', 'del_H_ads']\n",
        "\n",
        "# Remove columns from df\n",
        "df_cleaned = df.drop(columns=columns_to_remove)\n",
        "scaler=StandardScaler()\n",
        "X=scaler.fit_transform(df_cleaned)\n",
        "X = pd.DataFrame(X, columns=df_cleaned.columns)"
      ],
      "metadata": {
        "id": "ZmxI2LVZIQSC"
      },
      "execution_count": 201,
      "outputs": []
    },
    {
      "cell_type": "code",
      "source": [
        "Y"
      ],
      "metadata": {
        "colab": {
          "base_uri": "https://localhost:8080/"
        },
        "id": "oqb4zJGaJtRi",
        "outputId": "e11da58a-b995-4000-c546-48c92b7d9371"
      },
      "execution_count": 202,
      "outputs": [
        {
          "output_type": "execute_result",
          "data": {
            "text/plain": [
              "0       0.583945\n",
              "1       0.542431\n",
              "2       0.522907\n",
              "3       0.515395\n",
              "4       0.512710\n",
              "          ...   \n",
              "6912    0.000327\n",
              "6913    0.000246\n",
              "6914    0.000137\n",
              "6915    0.000066\n",
              "6916    0.000000\n",
              "Name: COP, Length: 6917, dtype: float64"
            ]
          },
          "metadata": {},
          "execution_count": 202
        }
      ]
    },
    {
      "cell_type": "code",
      "execution_count": 203,
      "metadata": {
        "id": "v5TOLyeSFhYL"
      },
      "outputs": [],
      "source": [
        "train_X=X.iloc[acquired_mofs]\n",
        "train_Y=Y.iloc[acquired_mofs]\n",
        "test_X=X.drop(acquired_mofs)\n",
        "test_Y=Y.drop(acquired_mofs)"
      ]
    },
    {
      "cell_type": "code",
      "execution_count": 204,
      "metadata": {
        "colab": {
          "base_uri": "https://localhost:8080/"
        },
        "id": "jZkCt3D1GbVB",
        "outputId": "c7d4f305-6b36-4d26-85b0-9a6aaab77a10"
      },
      "outputs": [
        {
          "output_type": "stream",
          "name": "stdout",
          "text": [
            "Requirement already satisfied: scikit-optimize in /usr/local/lib/python3.10/dist-packages (0.10.2)\n",
            "Requirement already satisfied: joblib>=0.11 in /usr/local/lib/python3.10/dist-packages (from scikit-optimize) (1.4.2)\n",
            "Requirement already satisfied: pyaml>=16.9 in /usr/local/lib/python3.10/dist-packages (from scikit-optimize) (24.4.0)\n",
            "Requirement already satisfied: numpy>=1.20.3 in /usr/local/lib/python3.10/dist-packages (from scikit-optimize) (1.25.2)\n",
            "Requirement already satisfied: scipy>=1.1.0 in /usr/local/lib/python3.10/dist-packages (from scikit-optimize) (1.11.4)\n",
            "Requirement already satisfied: scikit-learn>=1.0.0 in /usr/local/lib/python3.10/dist-packages (from scikit-optimize) (1.2.2)\n",
            "Requirement already satisfied: packaging>=21.3 in /usr/local/lib/python3.10/dist-packages (from scikit-optimize) (24.1)\n",
            "Requirement already satisfied: PyYAML in /usr/local/lib/python3.10/dist-packages (from pyaml>=16.9->scikit-optimize) (6.0.1)\n",
            "Requirement already satisfied: threadpoolctl>=2.0.0 in /usr/local/lib/python3.10/dist-packages (from scikit-learn>=1.0.0->scikit-optimize) (3.5.0)\n"
          ]
        }
      ],
      "source": [
        "pip install scikit-optimize"
      ]
    },
    {
      "cell_type": "code",
      "execution_count": 205,
      "metadata": {
        "id": "BWnL1mtKI1Q9"
      },
      "outputs": [],
      "source": [
        "from sklearn.ensemble import RandomForestRegressor\n",
        "from sklearn.metrics import mean_squared_error,r2_score\n",
        "from skopt import BayesSearchCV\n",
        "from skopt.space import Real, Integer"
      ]
    },
    {
      "cell_type": "code",
      "execution_count": 206,
      "metadata": {
        "id": "cfJtUtG1cxnn"
      },
      "outputs": [],
      "source": [
        "search_spaces = {\n",
        "    'n_estimators': Integer(10, 1000),  # Range for n_estimators from 300 to 1000\n",
        "    'max_features': Real(0.6, 1.0),      # Fraction of features to consider for best split\n",
        "    'max_depth': Integer(1, 50),         # Maximum depth of the tree\n",
        "    'min_samples_split': Integer(2, 20), # Minimum number of samples required to split an internal node\n",
        "    'min_samples_leaf': Integer(1, 20),  # Minimum number of samples required to be at a leaf node\n",
        "    'bootstrap': [True, False]           # Whether bootstrap samples are used when building trees\n",
        "}"
      ]
    },
    {
      "cell_type": "code",
      "execution_count": 207,
      "metadata": {
        "id": "QE3Il8rndHXf"
      },
      "outputs": [],
      "source": [
        "rfr = RandomForestRegressor()\n",
        "\n",
        "# BayesSearchCV\n",
        "opt = BayesSearchCV(\n",
        "    estimator=rfr,\n",
        "    search_spaces=search_spaces,\n",
        "    n_iter=50,  # Number of iterations for optimization\n",
        "    cv=5,  # 5-fold cross-validation\n",
        "    random_state=42,\n",
        "    scoring='r2'\n",
        ")"
      ]
    },
    {
      "cell_type": "code",
      "execution_count": 208,
      "metadata": {
        "colab": {
          "base_uri": "https://localhost:8080/",
          "height": 117
        },
        "id": "FgJbj9Igdi6t",
        "outputId": "58f9f657-9509-49b8-cbe6-9bb3ff5ad91f"
      },
      "outputs": [
        {
          "output_type": "execute_result",
          "data": {
            "text/plain": [
              "BayesSearchCV(cv=5, estimator=RandomForestRegressor(), random_state=42,\n",
              "              scoring='r2',\n",
              "              search_spaces={'bootstrap': [True, False],\n",
              "                             'max_depth': Integer(low=1, high=50, prior='uniform', transform='normalize'),\n",
              "                             'max_features': Real(low=0.6, high=1.0, prior='uniform', transform='normalize'),\n",
              "                             'min_samples_leaf': Integer(low=1, high=20, prior='uniform', transform='normalize'),\n",
              "                             'min_samples_split': Integer(low=2, high=20, prior='uniform', transform='normalize'),\n",
              "                             'n_estimators': Integer(low=10, high=1000, prior='uniform', transform='normalize')})"
            ],
            "text/html": [
              "<style>#sk-container-id-8 {color: black;background-color: white;}#sk-container-id-8 pre{padding: 0;}#sk-container-id-8 div.sk-toggleable {background-color: white;}#sk-container-id-8 label.sk-toggleable__label {cursor: pointer;display: block;width: 100%;margin-bottom: 0;padding: 0.3em;box-sizing: border-box;text-align: center;}#sk-container-id-8 label.sk-toggleable__label-arrow:before {content: \"▸\";float: left;margin-right: 0.25em;color: #696969;}#sk-container-id-8 label.sk-toggleable__label-arrow:hover:before {color: black;}#sk-container-id-8 div.sk-estimator:hover label.sk-toggleable__label-arrow:before {color: black;}#sk-container-id-8 div.sk-toggleable__content {max-height: 0;max-width: 0;overflow: hidden;text-align: left;background-color: #f0f8ff;}#sk-container-id-8 div.sk-toggleable__content pre {margin: 0.2em;color: black;border-radius: 0.25em;background-color: #f0f8ff;}#sk-container-id-8 input.sk-toggleable__control:checked~div.sk-toggleable__content {max-height: 200px;max-width: 100%;overflow: auto;}#sk-container-id-8 input.sk-toggleable__control:checked~label.sk-toggleable__label-arrow:before {content: \"▾\";}#sk-container-id-8 div.sk-estimator input.sk-toggleable__control:checked~label.sk-toggleable__label {background-color: #d4ebff;}#sk-container-id-8 div.sk-label input.sk-toggleable__control:checked~label.sk-toggleable__label {background-color: #d4ebff;}#sk-container-id-8 input.sk-hidden--visually {border: 0;clip: rect(1px 1px 1px 1px);clip: rect(1px, 1px, 1px, 1px);height: 1px;margin: -1px;overflow: hidden;padding: 0;position: absolute;width: 1px;}#sk-container-id-8 div.sk-estimator {font-family: monospace;background-color: #f0f8ff;border: 1px dotted black;border-radius: 0.25em;box-sizing: border-box;margin-bottom: 0.5em;}#sk-container-id-8 div.sk-estimator:hover {background-color: #d4ebff;}#sk-container-id-8 div.sk-parallel-item::after {content: \"\";width: 100%;border-bottom: 1px solid gray;flex-grow: 1;}#sk-container-id-8 div.sk-label:hover label.sk-toggleable__label {background-color: #d4ebff;}#sk-container-id-8 div.sk-serial::before {content: \"\";position: absolute;border-left: 1px solid gray;box-sizing: border-box;top: 0;bottom: 0;left: 50%;z-index: 0;}#sk-container-id-8 div.sk-serial {display: flex;flex-direction: column;align-items: center;background-color: white;padding-right: 0.2em;padding-left: 0.2em;position: relative;}#sk-container-id-8 div.sk-item {position: relative;z-index: 1;}#sk-container-id-8 div.sk-parallel {display: flex;align-items: stretch;justify-content: center;background-color: white;position: relative;}#sk-container-id-8 div.sk-item::before, #sk-container-id-8 div.sk-parallel-item::before {content: \"\";position: absolute;border-left: 1px solid gray;box-sizing: border-box;top: 0;bottom: 0;left: 50%;z-index: -1;}#sk-container-id-8 div.sk-parallel-item {display: flex;flex-direction: column;z-index: 1;position: relative;background-color: white;}#sk-container-id-8 div.sk-parallel-item:first-child::after {align-self: flex-end;width: 50%;}#sk-container-id-8 div.sk-parallel-item:last-child::after {align-self: flex-start;width: 50%;}#sk-container-id-8 div.sk-parallel-item:only-child::after {width: 0;}#sk-container-id-8 div.sk-dashed-wrapped {border: 1px dashed gray;margin: 0 0.4em 0.5em 0.4em;box-sizing: border-box;padding-bottom: 0.4em;background-color: white;}#sk-container-id-8 div.sk-label label {font-family: monospace;font-weight: bold;display: inline-block;line-height: 1.2em;}#sk-container-id-8 div.sk-label-container {text-align: center;}#sk-container-id-8 div.sk-container {/* jupyter's `normalize.less` sets `[hidden] { display: none; }` but bootstrap.min.css set `[hidden] { display: none !important; }` so we also need the `!important` here to be able to override the default hidden behavior on the sphinx rendered scikit-learn.org. See: https://github.com/scikit-learn/scikit-learn/issues/21755 */display: inline-block !important;position: relative;}#sk-container-id-8 div.sk-text-repr-fallback {display: none;}</style><div id=\"sk-container-id-8\" class=\"sk-top-container\"><div class=\"sk-text-repr-fallback\"><pre>BayesSearchCV(cv=5, estimator=RandomForestRegressor(), random_state=42,\n",
              "              scoring=&#x27;r2&#x27;,\n",
              "              search_spaces={&#x27;bootstrap&#x27;: [True, False],\n",
              "                             &#x27;max_depth&#x27;: Integer(low=1, high=50, prior=&#x27;uniform&#x27;, transform=&#x27;normalize&#x27;),\n",
              "                             &#x27;max_features&#x27;: Real(low=0.6, high=1.0, prior=&#x27;uniform&#x27;, transform=&#x27;normalize&#x27;),\n",
              "                             &#x27;min_samples_leaf&#x27;: Integer(low=1, high=20, prior=&#x27;uniform&#x27;, transform=&#x27;normalize&#x27;),\n",
              "                             &#x27;min_samples_split&#x27;: Integer(low=2, high=20, prior=&#x27;uniform&#x27;, transform=&#x27;normalize&#x27;),\n",
              "                             &#x27;n_estimators&#x27;: Integer(low=10, high=1000, prior=&#x27;uniform&#x27;, transform=&#x27;normalize&#x27;)})</pre><b>In a Jupyter environment, please rerun this cell to show the HTML representation or trust the notebook. <br />On GitHub, the HTML representation is unable to render, please try loading this page with nbviewer.org.</b></div><div class=\"sk-container\" hidden><div class=\"sk-item sk-dashed-wrapped\"><div class=\"sk-label-container\"><div class=\"sk-label sk-toggleable\"><input class=\"sk-toggleable__control sk-hidden--visually\" id=\"sk-estimator-id-22\" type=\"checkbox\" ><label for=\"sk-estimator-id-22\" class=\"sk-toggleable__label sk-toggleable__label-arrow\">BayesSearchCV</label><div class=\"sk-toggleable__content\"><pre>BayesSearchCV(cv=5, estimator=RandomForestRegressor(), random_state=42,\n",
              "              scoring=&#x27;r2&#x27;,\n",
              "              search_spaces={&#x27;bootstrap&#x27;: [True, False],\n",
              "                             &#x27;max_depth&#x27;: Integer(low=1, high=50, prior=&#x27;uniform&#x27;, transform=&#x27;normalize&#x27;),\n",
              "                             &#x27;max_features&#x27;: Real(low=0.6, high=1.0, prior=&#x27;uniform&#x27;, transform=&#x27;normalize&#x27;),\n",
              "                             &#x27;min_samples_leaf&#x27;: Integer(low=1, high=20, prior=&#x27;uniform&#x27;, transform=&#x27;normalize&#x27;),\n",
              "                             &#x27;min_samples_split&#x27;: Integer(low=2, high=20, prior=&#x27;uniform&#x27;, transform=&#x27;normalize&#x27;),\n",
              "                             &#x27;n_estimators&#x27;: Integer(low=10, high=1000, prior=&#x27;uniform&#x27;, transform=&#x27;normalize&#x27;)})</pre></div></div></div><div class=\"sk-parallel\"><div class=\"sk-parallel-item\"><div class=\"sk-item\"><div class=\"sk-label-container\"><div class=\"sk-label sk-toggleable\"><input class=\"sk-toggleable__control sk-hidden--visually\" id=\"sk-estimator-id-23\" type=\"checkbox\" ><label for=\"sk-estimator-id-23\" class=\"sk-toggleable__label sk-toggleable__label-arrow\">estimator: RandomForestRegressor</label><div class=\"sk-toggleable__content\"><pre>RandomForestRegressor()</pre></div></div></div><div class=\"sk-serial\"><div class=\"sk-item\"><div class=\"sk-estimator sk-toggleable\"><input class=\"sk-toggleable__control sk-hidden--visually\" id=\"sk-estimator-id-24\" type=\"checkbox\" ><label for=\"sk-estimator-id-24\" class=\"sk-toggleable__label sk-toggleable__label-arrow\">RandomForestRegressor</label><div class=\"sk-toggleable__content\"><pre>RandomForestRegressor()</pre></div></div></div></div></div></div></div></div></div></div>"
            ]
          },
          "metadata": {},
          "execution_count": 208
        }
      ],
      "source": [
        "opt.fit(train_X,train_Y)"
      ]
    },
    {
      "cell_type": "code",
      "execution_count": 209,
      "metadata": {
        "colab": {
          "base_uri": "https://localhost:8080/"
        },
        "id": "bRuXdiMJgJSC",
        "outputId": "286235c5-fb5a-44a4-9958-6763e8b00b05"
      },
      "outputs": [
        {
          "output_type": "stream",
          "name": "stdout",
          "text": [
            "R-squared (R2): 0.9856434559988855\n"
          ]
        }
      ],
      "source": [
        "best_model = opt.best_estimator_\n",
        "y_pred = best_model.predict(test_X)\n",
        "r2 = r2_score(test_Y, y_pred)\n",
        "print(f\"R-squared (R2): {r2}\")"
      ]
    },
    {
      "cell_type": "code",
      "source": [
        "test_Y"
      ],
      "metadata": {
        "colab": {
          "base_uri": "https://localhost:8080/"
        },
        "id": "yshTmGUzLWJv",
        "outputId": "0b46445f-abb4-4176-ff86-0cc493f0dec2"
      },
      "execution_count": 210,
      "outputs": [
        {
          "output_type": "execute_result",
          "data": {
            "text/plain": [
              "10      0.477825\n",
              "11      0.470049\n",
              "12      0.468492\n",
              "13      0.473648\n",
              "14      0.471021\n",
              "          ...   \n",
              "6912    0.000327\n",
              "6913    0.000246\n",
              "6914    0.000137\n",
              "6915    0.000066\n",
              "6916    0.000000\n",
              "Name: COP, Length: 6807, dtype: float64"
            ]
          },
          "metadata": {},
          "execution_count": 210
        }
      ]
    },
    {
      "cell_type": "code",
      "source": [
        "y_pred"
      ],
      "metadata": {
        "colab": {
          "base_uri": "https://localhost:8080/"
        },
        "id": "xnuWEMYOLyzG",
        "outputId": "c4f203f1-dca7-4223-b626-901105c3ddd5"
      },
      "execution_count": 211,
      "outputs": [
        {
          "output_type": "execute_result",
          "data": {
            "text/plain": [
              "array([0.48547291, 0.46594697, 0.47941117, ..., 0.00746492, 0.00518328,\n",
              "       0.00844229])"
            ]
          },
          "metadata": {},
          "execution_count": 211
        }
      ]
    },
    {
      "cell_type": "code",
      "source": [
        "test_X"
      ],
      "metadata": {
        "colab": {
          "base_uri": "https://localhost:8080/",
          "height": 443
        },
        "id": "cvWU_9sEL2Tw",
        "outputId": "403e435e-2141-43f6-de5d-77209a378b9e"
      },
      "execution_count": 128,
      "outputs": [
        {
          "output_type": "execute_result",
          "data": {
            "text/plain": [
              "          LISD   Density    ASA_A2  ASA_m2_per_cm3  ASA_m2_per_g   NASA_A2  \\\n",
              "77    2.789474 -1.639610  0.072660        0.717761      2.329555 -0.137411   \n",
              "80    4.109944 -1.737399  6.004034        0.903613      2.967586 -0.137411   \n",
              "82    2.342759 -1.586636  9.500082        0.975322      2.434864 -0.137411   \n",
              "83    4.397052 -1.756506  1.983855        0.426255      2.422770 -0.137411   \n",
              "84    1.454016 -1.648002  1.153385        0.384081      1.963016 -0.137411   \n",
              "...        ...       ...       ...             ...           ...       ...   \n",
              "6912 -0.446375  0.963847 -0.408659       -0.554974     -0.760180 -0.137411   \n",
              "6913 -0.668863  3.743522 -0.544968       -1.615648     -1.227891  0.274519   \n",
              "6914 -0.860054  0.892053 -0.561349       -1.654813     -1.119637 -0.137411   \n",
              "6915 -0.795200  1.915823 -0.232247       -1.621076     -1.168881 -0.137411   \n",
              "6916 -0.964545  0.846514 -0.556986       -1.862602     -1.187455 -0.137411   \n",
              "\n",
              "      NASA_m2_per_g  Number_of_channels  Number_of_pockets     AV_A3  ...  \\\n",
              "77        -0.215622           -0.548752          -0.283698  0.350618  ...   \n",
              "80        -0.215622           -0.548752          -0.283698  5.854779  ...   \n",
              "82        -0.215622           -0.548752          -0.283698  8.382262  ...   \n",
              "83        -0.215622           -0.548752          -0.283698  2.835453  ...   \n",
              "84        -0.215622           -0.548752          -0.283698  1.619621  ...   \n",
              "...             ...                 ...                ...       ...  ...   \n",
              "6912      -0.215622            0.371645          -0.283698 -0.264871  ...   \n",
              "6913       1.662517           -0.548752           0.065473 -0.293707  ...   \n",
              "6914      -0.215622           -0.548752          -0.283698 -0.296749  ...   \n",
              "6915      -0.215622            2.212438          -0.283698 -0.255103  ...   \n",
              "6916      -0.215622            0.371645          -0.283698 -0.295669  ...   \n",
              "\n",
              "             O        La        Cr        Ti        Ba        Rh        Ce  \\\n",
              "77   -0.370844 -0.100108 -0.043459 -0.029774 -0.051079 -0.022009 -0.081034   \n",
              "80    2.098153 -0.100108 -0.043459 -0.029774 -0.051079 -0.022009 -0.081034   \n",
              "82    2.591952 -0.100108 -0.043459 -0.029774 -0.051079 -0.022009 -0.081034   \n",
              "83    0.122955 -0.100108 -0.043459 -0.029774 -0.051079 -0.022009 -0.081034   \n",
              "84    0.073576 -0.100108 -0.043459 -0.029774 -0.051079 -0.022009 -0.081034   \n",
              "...        ...       ...       ...       ...       ...       ...       ...   \n",
              "6912 -0.074564 -0.100108 -0.043459 -0.029774 -0.051079 -0.022009 -0.081034   \n",
              "6913 -0.346154 -0.100108 -0.043459 -0.029774  3.220348 -0.022009 -0.081034   \n",
              "6914 -0.667123 -0.100108 -0.043459 -0.029774 -0.051079 -0.022009 -0.081034   \n",
              "6915 -0.667123 -0.100108 -0.043459 -0.029774 -0.051079 -0.022009 -0.081034   \n",
              "6916 -0.370844 -0.100108 -0.043459 -0.029774 -0.051079 -0.022009 -0.081034   \n",
              "\n",
              "            Cu        Al        Re  \n",
              "77   -0.271953 -0.079596 -0.040141  \n",
              "80   -0.271953 -0.079596 -0.040141  \n",
              "82   -0.271953 -0.079596 -0.040141  \n",
              "83    1.123520 -0.079596 -0.040141  \n",
              "84   -0.271953 -0.079596 -0.040141  \n",
              "...        ...       ...       ...  \n",
              "6912 -0.271953 -0.079596 -0.040141  \n",
              "6913 -0.271953 -0.079596 -0.040141  \n",
              "6914 -0.271953 -0.079596 -0.040141  \n",
              "6915  5.309938 -0.079596 -0.040141  \n",
              "6916 -0.271953 -0.079596 -0.040141  \n",
              "\n",
              "[6817 rows x 94 columns]"
            ],
            "text/html": [
              "\n",
              "  <div id=\"df-f4e3370a-71dc-47d7-b25c-9847e93b3393\" class=\"colab-df-container\">\n",
              "    <div>\n",
              "<style scoped>\n",
              "    .dataframe tbody tr th:only-of-type {\n",
              "        vertical-align: middle;\n",
              "    }\n",
              "\n",
              "    .dataframe tbody tr th {\n",
              "        vertical-align: top;\n",
              "    }\n",
              "\n",
              "    .dataframe thead th {\n",
              "        text-align: right;\n",
              "    }\n",
              "</style>\n",
              "<table border=\"1\" class=\"dataframe\">\n",
              "  <thead>\n",
              "    <tr style=\"text-align: right;\">\n",
              "      <th></th>\n",
              "      <th>LISD</th>\n",
              "      <th>Density</th>\n",
              "      <th>ASA_A2</th>\n",
              "      <th>ASA_m2_per_cm3</th>\n",
              "      <th>ASA_m2_per_g</th>\n",
              "      <th>NASA_A2</th>\n",
              "      <th>NASA_m2_per_g</th>\n",
              "      <th>Number_of_channels</th>\n",
              "      <th>Number_of_pockets</th>\n",
              "      <th>AV_A3</th>\n",
              "      <th>...</th>\n",
              "      <th>O</th>\n",
              "      <th>La</th>\n",
              "      <th>Cr</th>\n",
              "      <th>Ti</th>\n",
              "      <th>Ba</th>\n",
              "      <th>Rh</th>\n",
              "      <th>Ce</th>\n",
              "      <th>Cu</th>\n",
              "      <th>Al</th>\n",
              "      <th>Re</th>\n",
              "    </tr>\n",
              "  </thead>\n",
              "  <tbody>\n",
              "    <tr>\n",
              "      <th>77</th>\n",
              "      <td>2.789474</td>\n",
              "      <td>-1.639610</td>\n",
              "      <td>0.072660</td>\n",
              "      <td>0.717761</td>\n",
              "      <td>2.329555</td>\n",
              "      <td>-0.137411</td>\n",
              "      <td>-0.215622</td>\n",
              "      <td>-0.548752</td>\n",
              "      <td>-0.283698</td>\n",
              "      <td>0.350618</td>\n",
              "      <td>...</td>\n",
              "      <td>-0.370844</td>\n",
              "      <td>-0.100108</td>\n",
              "      <td>-0.043459</td>\n",
              "      <td>-0.029774</td>\n",
              "      <td>-0.051079</td>\n",
              "      <td>-0.022009</td>\n",
              "      <td>-0.081034</td>\n",
              "      <td>-0.271953</td>\n",
              "      <td>-0.079596</td>\n",
              "      <td>-0.040141</td>\n",
              "    </tr>\n",
              "    <tr>\n",
              "      <th>80</th>\n",
              "      <td>4.109944</td>\n",
              "      <td>-1.737399</td>\n",
              "      <td>6.004034</td>\n",
              "      <td>0.903613</td>\n",
              "      <td>2.967586</td>\n",
              "      <td>-0.137411</td>\n",
              "      <td>-0.215622</td>\n",
              "      <td>-0.548752</td>\n",
              "      <td>-0.283698</td>\n",
              "      <td>5.854779</td>\n",
              "      <td>...</td>\n",
              "      <td>2.098153</td>\n",
              "      <td>-0.100108</td>\n",
              "      <td>-0.043459</td>\n",
              "      <td>-0.029774</td>\n",
              "      <td>-0.051079</td>\n",
              "      <td>-0.022009</td>\n",
              "      <td>-0.081034</td>\n",
              "      <td>-0.271953</td>\n",
              "      <td>-0.079596</td>\n",
              "      <td>-0.040141</td>\n",
              "    </tr>\n",
              "    <tr>\n",
              "      <th>82</th>\n",
              "      <td>2.342759</td>\n",
              "      <td>-1.586636</td>\n",
              "      <td>9.500082</td>\n",
              "      <td>0.975322</td>\n",
              "      <td>2.434864</td>\n",
              "      <td>-0.137411</td>\n",
              "      <td>-0.215622</td>\n",
              "      <td>-0.548752</td>\n",
              "      <td>-0.283698</td>\n",
              "      <td>8.382262</td>\n",
              "      <td>...</td>\n",
              "      <td>2.591952</td>\n",
              "      <td>-0.100108</td>\n",
              "      <td>-0.043459</td>\n",
              "      <td>-0.029774</td>\n",
              "      <td>-0.051079</td>\n",
              "      <td>-0.022009</td>\n",
              "      <td>-0.081034</td>\n",
              "      <td>-0.271953</td>\n",
              "      <td>-0.079596</td>\n",
              "      <td>-0.040141</td>\n",
              "    </tr>\n",
              "    <tr>\n",
              "      <th>83</th>\n",
              "      <td>4.397052</td>\n",
              "      <td>-1.756506</td>\n",
              "      <td>1.983855</td>\n",
              "      <td>0.426255</td>\n",
              "      <td>2.422770</td>\n",
              "      <td>-0.137411</td>\n",
              "      <td>-0.215622</td>\n",
              "      <td>-0.548752</td>\n",
              "      <td>-0.283698</td>\n",
              "      <td>2.835453</td>\n",
              "      <td>...</td>\n",
              "      <td>0.122955</td>\n",
              "      <td>-0.100108</td>\n",
              "      <td>-0.043459</td>\n",
              "      <td>-0.029774</td>\n",
              "      <td>-0.051079</td>\n",
              "      <td>-0.022009</td>\n",
              "      <td>-0.081034</td>\n",
              "      <td>1.123520</td>\n",
              "      <td>-0.079596</td>\n",
              "      <td>-0.040141</td>\n",
              "    </tr>\n",
              "    <tr>\n",
              "      <th>84</th>\n",
              "      <td>1.454016</td>\n",
              "      <td>-1.648002</td>\n",
              "      <td>1.153385</td>\n",
              "      <td>0.384081</td>\n",
              "      <td>1.963016</td>\n",
              "      <td>-0.137411</td>\n",
              "      <td>-0.215622</td>\n",
              "      <td>-0.548752</td>\n",
              "      <td>-0.283698</td>\n",
              "      <td>1.619621</td>\n",
              "      <td>...</td>\n",
              "      <td>0.073576</td>\n",
              "      <td>-0.100108</td>\n",
              "      <td>-0.043459</td>\n",
              "      <td>-0.029774</td>\n",
              "      <td>-0.051079</td>\n",
              "      <td>-0.022009</td>\n",
              "      <td>-0.081034</td>\n",
              "      <td>-0.271953</td>\n",
              "      <td>-0.079596</td>\n",
              "      <td>-0.040141</td>\n",
              "    </tr>\n",
              "    <tr>\n",
              "      <th>...</th>\n",
              "      <td>...</td>\n",
              "      <td>...</td>\n",
              "      <td>...</td>\n",
              "      <td>...</td>\n",
              "      <td>...</td>\n",
              "      <td>...</td>\n",
              "      <td>...</td>\n",
              "      <td>...</td>\n",
              "      <td>...</td>\n",
              "      <td>...</td>\n",
              "      <td>...</td>\n",
              "      <td>...</td>\n",
              "      <td>...</td>\n",
              "      <td>...</td>\n",
              "      <td>...</td>\n",
              "      <td>...</td>\n",
              "      <td>...</td>\n",
              "      <td>...</td>\n",
              "      <td>...</td>\n",
              "      <td>...</td>\n",
              "      <td>...</td>\n",
              "    </tr>\n",
              "    <tr>\n",
              "      <th>6912</th>\n",
              "      <td>-0.446375</td>\n",
              "      <td>0.963847</td>\n",
              "      <td>-0.408659</td>\n",
              "      <td>-0.554974</td>\n",
              "      <td>-0.760180</td>\n",
              "      <td>-0.137411</td>\n",
              "      <td>-0.215622</td>\n",
              "      <td>0.371645</td>\n",
              "      <td>-0.283698</td>\n",
              "      <td>-0.264871</td>\n",
              "      <td>...</td>\n",
              "      <td>-0.074564</td>\n",
              "      <td>-0.100108</td>\n",
              "      <td>-0.043459</td>\n",
              "      <td>-0.029774</td>\n",
              "      <td>-0.051079</td>\n",
              "      <td>-0.022009</td>\n",
              "      <td>-0.081034</td>\n",
              "      <td>-0.271953</td>\n",
              "      <td>-0.079596</td>\n",
              "      <td>-0.040141</td>\n",
              "    </tr>\n",
              "    <tr>\n",
              "      <th>6913</th>\n",
              "      <td>-0.668863</td>\n",
              "      <td>3.743522</td>\n",
              "      <td>-0.544968</td>\n",
              "      <td>-1.615648</td>\n",
              "      <td>-1.227891</td>\n",
              "      <td>0.274519</td>\n",
              "      <td>1.662517</td>\n",
              "      <td>-0.548752</td>\n",
              "      <td>0.065473</td>\n",
              "      <td>-0.293707</td>\n",
              "      <td>...</td>\n",
              "      <td>-0.346154</td>\n",
              "      <td>-0.100108</td>\n",
              "      <td>-0.043459</td>\n",
              "      <td>-0.029774</td>\n",
              "      <td>3.220348</td>\n",
              "      <td>-0.022009</td>\n",
              "      <td>-0.081034</td>\n",
              "      <td>-0.271953</td>\n",
              "      <td>-0.079596</td>\n",
              "      <td>-0.040141</td>\n",
              "    </tr>\n",
              "    <tr>\n",
              "      <th>6914</th>\n",
              "      <td>-0.860054</td>\n",
              "      <td>0.892053</td>\n",
              "      <td>-0.561349</td>\n",
              "      <td>-1.654813</td>\n",
              "      <td>-1.119637</td>\n",
              "      <td>-0.137411</td>\n",
              "      <td>-0.215622</td>\n",
              "      <td>-0.548752</td>\n",
              "      <td>-0.283698</td>\n",
              "      <td>-0.296749</td>\n",
              "      <td>...</td>\n",
              "      <td>-0.667123</td>\n",
              "      <td>-0.100108</td>\n",
              "      <td>-0.043459</td>\n",
              "      <td>-0.029774</td>\n",
              "      <td>-0.051079</td>\n",
              "      <td>-0.022009</td>\n",
              "      <td>-0.081034</td>\n",
              "      <td>-0.271953</td>\n",
              "      <td>-0.079596</td>\n",
              "      <td>-0.040141</td>\n",
              "    </tr>\n",
              "    <tr>\n",
              "      <th>6915</th>\n",
              "      <td>-0.795200</td>\n",
              "      <td>1.915823</td>\n",
              "      <td>-0.232247</td>\n",
              "      <td>-1.621076</td>\n",
              "      <td>-1.168881</td>\n",
              "      <td>-0.137411</td>\n",
              "      <td>-0.215622</td>\n",
              "      <td>2.212438</td>\n",
              "      <td>-0.283698</td>\n",
              "      <td>-0.255103</td>\n",
              "      <td>...</td>\n",
              "      <td>-0.667123</td>\n",
              "      <td>-0.100108</td>\n",
              "      <td>-0.043459</td>\n",
              "      <td>-0.029774</td>\n",
              "      <td>-0.051079</td>\n",
              "      <td>-0.022009</td>\n",
              "      <td>-0.081034</td>\n",
              "      <td>5.309938</td>\n",
              "      <td>-0.079596</td>\n",
              "      <td>-0.040141</td>\n",
              "    </tr>\n",
              "    <tr>\n",
              "      <th>6916</th>\n",
              "      <td>-0.964545</td>\n",
              "      <td>0.846514</td>\n",
              "      <td>-0.556986</td>\n",
              "      <td>-1.862602</td>\n",
              "      <td>-1.187455</td>\n",
              "      <td>-0.137411</td>\n",
              "      <td>-0.215622</td>\n",
              "      <td>0.371645</td>\n",
              "      <td>-0.283698</td>\n",
              "      <td>-0.295669</td>\n",
              "      <td>...</td>\n",
              "      <td>-0.370844</td>\n",
              "      <td>-0.100108</td>\n",
              "      <td>-0.043459</td>\n",
              "      <td>-0.029774</td>\n",
              "      <td>-0.051079</td>\n",
              "      <td>-0.022009</td>\n",
              "      <td>-0.081034</td>\n",
              "      <td>-0.271953</td>\n",
              "      <td>-0.079596</td>\n",
              "      <td>-0.040141</td>\n",
              "    </tr>\n",
              "  </tbody>\n",
              "</table>\n",
              "<p>6817 rows × 94 columns</p>\n",
              "</div>\n",
              "    <div class=\"colab-df-buttons\">\n",
              "\n",
              "  <div class=\"colab-df-container\">\n",
              "    <button class=\"colab-df-convert\" onclick=\"convertToInteractive('df-f4e3370a-71dc-47d7-b25c-9847e93b3393')\"\n",
              "            title=\"Convert this dataframe to an interactive table.\"\n",
              "            style=\"display:none;\">\n",
              "\n",
              "  <svg xmlns=\"http://www.w3.org/2000/svg\" height=\"24px\" viewBox=\"0 -960 960 960\">\n",
              "    <path d=\"M120-120v-720h720v720H120Zm60-500h600v-160H180v160Zm220 220h160v-160H400v160Zm0 220h160v-160H400v160ZM180-400h160v-160H180v160Zm440 0h160v-160H620v160ZM180-180h160v-160H180v160Zm440 0h160v-160H620v160Z\"/>\n",
              "  </svg>\n",
              "    </button>\n",
              "\n",
              "  <style>\n",
              "    .colab-df-container {\n",
              "      display:flex;\n",
              "      gap: 12px;\n",
              "    }\n",
              "\n",
              "    .colab-df-convert {\n",
              "      background-color: #E8F0FE;\n",
              "      border: none;\n",
              "      border-radius: 50%;\n",
              "      cursor: pointer;\n",
              "      display: none;\n",
              "      fill: #1967D2;\n",
              "      height: 32px;\n",
              "      padding: 0 0 0 0;\n",
              "      width: 32px;\n",
              "    }\n",
              "\n",
              "    .colab-df-convert:hover {\n",
              "      background-color: #E2EBFA;\n",
              "      box-shadow: 0px 1px 2px rgba(60, 64, 67, 0.3), 0px 1px 3px 1px rgba(60, 64, 67, 0.15);\n",
              "      fill: #174EA6;\n",
              "    }\n",
              "\n",
              "    .colab-df-buttons div {\n",
              "      margin-bottom: 4px;\n",
              "    }\n",
              "\n",
              "    [theme=dark] .colab-df-convert {\n",
              "      background-color: #3B4455;\n",
              "      fill: #D2E3FC;\n",
              "    }\n",
              "\n",
              "    [theme=dark] .colab-df-convert:hover {\n",
              "      background-color: #434B5C;\n",
              "      box-shadow: 0px 1px 3px 1px rgba(0, 0, 0, 0.15);\n",
              "      filter: drop-shadow(0px 1px 2px rgba(0, 0, 0, 0.3));\n",
              "      fill: #FFFFFF;\n",
              "    }\n",
              "  </style>\n",
              "\n",
              "    <script>\n",
              "      const buttonEl =\n",
              "        document.querySelector('#df-f4e3370a-71dc-47d7-b25c-9847e93b3393 button.colab-df-convert');\n",
              "      buttonEl.style.display =\n",
              "        google.colab.kernel.accessAllowed ? 'block' : 'none';\n",
              "\n",
              "      async function convertToInteractive(key) {\n",
              "        const element = document.querySelector('#df-f4e3370a-71dc-47d7-b25c-9847e93b3393');\n",
              "        const dataTable =\n",
              "          await google.colab.kernel.invokeFunction('convertToInteractive',\n",
              "                                                    [key], {});\n",
              "        if (!dataTable) return;\n",
              "\n",
              "        const docLinkHtml = 'Like what you see? Visit the ' +\n",
              "          '<a target=\"_blank\" href=https://colab.research.google.com/notebooks/data_table.ipynb>data table notebook</a>'\n",
              "          + ' to learn more about interactive tables.';\n",
              "        element.innerHTML = '';\n",
              "        dataTable['output_type'] = 'display_data';\n",
              "        await google.colab.output.renderOutput(dataTable, element);\n",
              "        const docLink = document.createElement('div');\n",
              "        docLink.innerHTML = docLinkHtml;\n",
              "        element.appendChild(docLink);\n",
              "      }\n",
              "    </script>\n",
              "  </div>\n",
              "\n",
              "\n",
              "<div id=\"df-28b5614c-03e9-4665-a05d-52f38c8d8f8b\">\n",
              "  <button class=\"colab-df-quickchart\" onclick=\"quickchart('df-28b5614c-03e9-4665-a05d-52f38c8d8f8b')\"\n",
              "            title=\"Suggest charts\"\n",
              "            style=\"display:none;\">\n",
              "\n",
              "<svg xmlns=\"http://www.w3.org/2000/svg\" height=\"24px\"viewBox=\"0 0 24 24\"\n",
              "     width=\"24px\">\n",
              "    <g>\n",
              "        <path d=\"M19 3H5c-1.1 0-2 .9-2 2v14c0 1.1.9 2 2 2h14c1.1 0 2-.9 2-2V5c0-1.1-.9-2-2-2zM9 17H7v-7h2v7zm4 0h-2V7h2v10zm4 0h-2v-4h2v4z\"/>\n",
              "    </g>\n",
              "</svg>\n",
              "  </button>\n",
              "\n",
              "<style>\n",
              "  .colab-df-quickchart {\n",
              "      --bg-color: #E8F0FE;\n",
              "      --fill-color: #1967D2;\n",
              "      --hover-bg-color: #E2EBFA;\n",
              "      --hover-fill-color: #174EA6;\n",
              "      --disabled-fill-color: #AAA;\n",
              "      --disabled-bg-color: #DDD;\n",
              "  }\n",
              "\n",
              "  [theme=dark] .colab-df-quickchart {\n",
              "      --bg-color: #3B4455;\n",
              "      --fill-color: #D2E3FC;\n",
              "      --hover-bg-color: #434B5C;\n",
              "      --hover-fill-color: #FFFFFF;\n",
              "      --disabled-bg-color: #3B4455;\n",
              "      --disabled-fill-color: #666;\n",
              "  }\n",
              "\n",
              "  .colab-df-quickchart {\n",
              "    background-color: var(--bg-color);\n",
              "    border: none;\n",
              "    border-radius: 50%;\n",
              "    cursor: pointer;\n",
              "    display: none;\n",
              "    fill: var(--fill-color);\n",
              "    height: 32px;\n",
              "    padding: 0;\n",
              "    width: 32px;\n",
              "  }\n",
              "\n",
              "  .colab-df-quickchart:hover {\n",
              "    background-color: var(--hover-bg-color);\n",
              "    box-shadow: 0 1px 2px rgba(60, 64, 67, 0.3), 0 1px 3px 1px rgba(60, 64, 67, 0.15);\n",
              "    fill: var(--button-hover-fill-color);\n",
              "  }\n",
              "\n",
              "  .colab-df-quickchart-complete:disabled,\n",
              "  .colab-df-quickchart-complete:disabled:hover {\n",
              "    background-color: var(--disabled-bg-color);\n",
              "    fill: var(--disabled-fill-color);\n",
              "    box-shadow: none;\n",
              "  }\n",
              "\n",
              "  .colab-df-spinner {\n",
              "    border: 2px solid var(--fill-color);\n",
              "    border-color: transparent;\n",
              "    border-bottom-color: var(--fill-color);\n",
              "    animation:\n",
              "      spin 1s steps(1) infinite;\n",
              "  }\n",
              "\n",
              "  @keyframes spin {\n",
              "    0% {\n",
              "      border-color: transparent;\n",
              "      border-bottom-color: var(--fill-color);\n",
              "      border-left-color: var(--fill-color);\n",
              "    }\n",
              "    20% {\n",
              "      border-color: transparent;\n",
              "      border-left-color: var(--fill-color);\n",
              "      border-top-color: var(--fill-color);\n",
              "    }\n",
              "    30% {\n",
              "      border-color: transparent;\n",
              "      border-left-color: var(--fill-color);\n",
              "      border-top-color: var(--fill-color);\n",
              "      border-right-color: var(--fill-color);\n",
              "    }\n",
              "    40% {\n",
              "      border-color: transparent;\n",
              "      border-right-color: var(--fill-color);\n",
              "      border-top-color: var(--fill-color);\n",
              "    }\n",
              "    60% {\n",
              "      border-color: transparent;\n",
              "      border-right-color: var(--fill-color);\n",
              "    }\n",
              "    80% {\n",
              "      border-color: transparent;\n",
              "      border-right-color: var(--fill-color);\n",
              "      border-bottom-color: var(--fill-color);\n",
              "    }\n",
              "    90% {\n",
              "      border-color: transparent;\n",
              "      border-bottom-color: var(--fill-color);\n",
              "    }\n",
              "  }\n",
              "</style>\n",
              "\n",
              "  <script>\n",
              "    async function quickchart(key) {\n",
              "      const quickchartButtonEl =\n",
              "        document.querySelector('#' + key + ' button');\n",
              "      quickchartButtonEl.disabled = true;  // To prevent multiple clicks.\n",
              "      quickchartButtonEl.classList.add('colab-df-spinner');\n",
              "      try {\n",
              "        const charts = await google.colab.kernel.invokeFunction(\n",
              "            'suggestCharts', [key], {});\n",
              "      } catch (error) {\n",
              "        console.error('Error during call to suggestCharts:', error);\n",
              "      }\n",
              "      quickchartButtonEl.classList.remove('colab-df-spinner');\n",
              "      quickchartButtonEl.classList.add('colab-df-quickchart-complete');\n",
              "    }\n",
              "    (() => {\n",
              "      let quickchartButtonEl =\n",
              "        document.querySelector('#df-28b5614c-03e9-4665-a05d-52f38c8d8f8b button');\n",
              "      quickchartButtonEl.style.display =\n",
              "        google.colab.kernel.accessAllowed ? 'block' : 'none';\n",
              "    })();\n",
              "  </script>\n",
              "</div>\n",
              "\n",
              "  <div id=\"id_8fea5d9a-b3b4-4d5d-8f39-e10f23cbf5fb\">\n",
              "    <style>\n",
              "      .colab-df-generate {\n",
              "        background-color: #E8F0FE;\n",
              "        border: none;\n",
              "        border-radius: 50%;\n",
              "        cursor: pointer;\n",
              "        display: none;\n",
              "        fill: #1967D2;\n",
              "        height: 32px;\n",
              "        padding: 0 0 0 0;\n",
              "        width: 32px;\n",
              "      }\n",
              "\n",
              "      .colab-df-generate:hover {\n",
              "        background-color: #E2EBFA;\n",
              "        box-shadow: 0px 1px 2px rgba(60, 64, 67, 0.3), 0px 1px 3px 1px rgba(60, 64, 67, 0.15);\n",
              "        fill: #174EA6;\n",
              "      }\n",
              "\n",
              "      [theme=dark] .colab-df-generate {\n",
              "        background-color: #3B4455;\n",
              "        fill: #D2E3FC;\n",
              "      }\n",
              "\n",
              "      [theme=dark] .colab-df-generate:hover {\n",
              "        background-color: #434B5C;\n",
              "        box-shadow: 0px 1px 3px 1px rgba(0, 0, 0, 0.15);\n",
              "        filter: drop-shadow(0px 1px 2px rgba(0, 0, 0, 0.3));\n",
              "        fill: #FFFFFF;\n",
              "      }\n",
              "    </style>\n",
              "    <button class=\"colab-df-generate\" onclick=\"generateWithVariable('test_X')\"\n",
              "            title=\"Generate code using this dataframe.\"\n",
              "            style=\"display:none;\">\n",
              "\n",
              "  <svg xmlns=\"http://www.w3.org/2000/svg\" height=\"24px\"viewBox=\"0 0 24 24\"\n",
              "       width=\"24px\">\n",
              "    <path d=\"M7,19H8.4L18.45,9,17,7.55,7,17.6ZM5,21V16.75L18.45,3.32a2,2,0,0,1,2.83,0l1.4,1.43a1.91,1.91,0,0,1,.58,1.4,1.91,1.91,0,0,1-.58,1.4L9.25,21ZM18.45,9,17,7.55Zm-12,3A5.31,5.31,0,0,0,4.9,8.1,5.31,5.31,0,0,0,1,6.5,5.31,5.31,0,0,0,4.9,4.9,5.31,5.31,0,0,0,6.5,1,5.31,5.31,0,0,0,8.1,4.9,5.31,5.31,0,0,0,12,6.5,5.46,5.46,0,0,0,6.5,12Z\"/>\n",
              "  </svg>\n",
              "    </button>\n",
              "    <script>\n",
              "      (() => {\n",
              "      const buttonEl =\n",
              "        document.querySelector('#id_8fea5d9a-b3b4-4d5d-8f39-e10f23cbf5fb button.colab-df-generate');\n",
              "      buttonEl.style.display =\n",
              "        google.colab.kernel.accessAllowed ? 'block' : 'none';\n",
              "\n",
              "      buttonEl.onclick = () => {\n",
              "        google.colab.notebook.generateWithVariable('test_X');\n",
              "      }\n",
              "      })();\n",
              "    </script>\n",
              "  </div>\n",
              "\n",
              "    </div>\n",
              "  </div>\n"
            ],
            "application/vnd.google.colaboratory.intrinsic+json": {
              "type": "dataframe",
              "variable_name": "test_X"
            }
          },
          "metadata": {},
          "execution_count": 128
        }
      ]
    },
    {
      "cell_type": "code",
      "source": [],
      "metadata": {
        "id": "kYND7ftTMGte"
      },
      "execution_count": null,
      "outputs": []
    }
  ],
  "metadata": {
    "colab": {
      "provenance": []
    },
    "kernelspec": {
      "display_name": "Python 3",
      "name": "python3"
    },
    "language_info": {
      "name": "python"
    }
  },
  "nbformat": 4,
  "nbformat_minor": 0
}